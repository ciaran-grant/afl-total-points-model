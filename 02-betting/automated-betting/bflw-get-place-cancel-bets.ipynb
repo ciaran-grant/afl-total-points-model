{
 "cells": [
  {
   "cell_type": "code",
   "execution_count": null,
   "metadata": {},
   "outputs": [],
   "source": [
    "# Import libraries\n",
    "import betfairlightweight\n",
    "from betfairlightweight import filters\n",
    "import pandas as pd\n",
    "import numpy as np\n",
    "import os\n",
    "import datetime\n",
    "import json\n",
    "\n",
    "\n",
    "pd.set_option('display.max_columns', None)\n",
    "pd.set_option('display.max_rows', None)\n",
    "\n",
    "# Change this certs path to wherever you're storing your certificates\n",
    "\n",
    "# Your credentials.json file should look like this:\n",
    "\n",
    "# {\n",
    "#     \"username\" : \"johnsmith123\",\n",
    "#     \"password\" : \"guest\",\n",
    "#     \"app_key\" : \"****************\"\n",
    "# }"
   ]
  },
  {
   "cell_type": "code",
   "execution_count": null,
   "metadata": {},
   "outputs": [],
   "source": [
    "credentials_file_path = '/credentials.json'\n",
    "certificates_file_path = '/certs'"
   ]
  },
  {
   "cell_type": "code",
   "execution_count": null,
   "metadata": {},
   "outputs": [],
   "source": [
    "with open(credentials_file_path) as f:\n",
    "    cred = json.load(f)\n",
    "    my_username = cred['username']\n",
    "    my_password = cred['password']\n",
    "    my_app_key = cred['app_key']\n",
    "\n",
    "trading = betfairlightweight.APIClient(username=my_username,\n",
    "                                       password=my_password,\n",
    "                                       app_key=my_app_key,\n",
    "                                       certs=certificates_file_path,\n",
    "                                       locale = \"australia\",\n",
    "                                       lightweight=True)\n",
    "\n",
    "trading.login()"
   ]
  },
  {
   "cell_type": "code",
   "execution_count": null,
   "metadata": {},
   "outputs": [],
   "source": [
    "# Grab all event type ids. This will return a list which we will iterate over to print out the id and the name of the sport\n",
    "event_types = trading.betting.list_event_types()\n",
    "event_types[0]"
   ]
  },
  {
   "cell_type": "code",
   "execution_count": null,
   "metadata": {},
   "outputs": [],
   "source": [
    "sport_ids = pd.DataFrame({\n",
    "    'Sport': [event_type_object['eventType']['name'] for event_type_object in event_types],\n",
    "    'ID': [event_type_object['eventType']['id'] for event_type_object in event_types]\n",
    "}).set_index('Sport').sort_index()\n",
    "\n",
    "sport_ids"
   ]
  },
  {
   "cell_type": "code",
   "execution_count": null,
   "metadata": {},
   "outputs": [],
   "source": [
    "# Filter for just AFL\n",
    "afl_filter = betfairlightweight.filters.market_filter(text_query='Australian Rules')\n",
    "afl_filter"
   ]
  },
  {
   "cell_type": "code",
   "execution_count": null,
   "metadata": {},
   "outputs": [],
   "source": [
    "# This returns a list\n",
    "afl_event_type = trading.betting.list_event_types(\n",
    "    filter=afl_filter)\n",
    "afl_event_type"
   ]
  },
  {
   "cell_type": "code",
   "execution_count": null,
   "metadata": {},
   "outputs": [],
   "source": [
    "# Get the first element of the list\n",
    "afl_event_type = afl_event_type[0]\n",
    "afl_event_type"
   ]
  },
  {
   "cell_type": "code",
   "execution_count": null,
   "metadata": {},
   "outputs": [],
   "source": [
    "afl_event_type_id = afl_event_type['eventType']['id']\n",
    "print(f\"The event type id for AFL is {afl_event_type_id}\")\n",
    "\n",
    "# The event type id for AFL is 61420"
   ]
  },
  {
   "cell_type": "code",
   "execution_count": null,
   "metadata": {},
   "outputs": [],
   "source": [
    "# Get a datetime object in a week and convert to string\n",
    "datetime_in_a_week = (datetime.datetime.utcnow() + datetime.timedelta(weeks=1)).strftime(\"%Y-%m-%dT%TZ\")\n",
    "\n",
    "# Create a competition filter\n",
    "competition_filter = betfairlightweight.filters.market_filter(\n",
    "    event_type_ids=[61420],\n",
    "    market_start_time={\n",
    "        'to': datetime_in_a_week\n",
    "    })\n",
    "\n",
    "competition_filter"
   ]
  },
  {
   "cell_type": "code",
   "execution_count": null,
   "metadata": {},
   "outputs": [],
   "source": [
    "# Get a list of competitions for AFL\n",
    "competitions = trading.betting.list_competitions(\n",
    "    filter=competition_filter\n",
    ")\n",
    "competitions"
   ]
  },
  {
   "cell_type": "code",
   "execution_count": null,
   "metadata": {},
   "outputs": [],
   "source": [
    "# Iterate over the competitions and create a dataframe of competitions and competition ids\n",
    "afl_competitions = pd.DataFrame({\n",
    "    'Competition': [competition_object['competition']['name'] for competition_object in competitions],\n",
    "    'ID': [competition_object['competition']['id'] for competition_object in competitions]\n",
    "})\n",
    "afl_competitions"
   ]
  },
  {
   "cell_type": "code",
   "execution_count": null,
   "metadata": {},
   "outputs": [],
   "source": [
    "# Define a market filter\n",
    "afl_event_filter = betfairlightweight.filters.market_filter(\n",
    "    event_type_ids=[afl_event_type_id],\n",
    "    market_countries=['AU'],\n",
    "    market_start_time={\n",
    "        'to': (datetime.datetime.utcnow() + datetime.timedelta(days=7)).strftime(\"%Y-%m-%dT%TZ\")\n",
    "    }\n",
    ")\n",
    "\n",
    "# Print the filter\n",
    "afl_event_filter"
   ]
  },
  {
   "cell_type": "code",
   "execution_count": null,
   "metadata": {},
   "outputs": [],
   "source": [
    "# Get a list of all thoroughbred events as objects\n",
    "aus_afl_events = trading.betting.list_events(\n",
    "    filter=afl_event_filter\n",
    ")\n",
    "aus_afl_events[3]"
   ]
  },
  {
   "cell_type": "code",
   "execution_count": null,
   "metadata": {},
   "outputs": [],
   "source": [
    "# Create a DataFrame with all the events by iterating over each event object\n",
    "aus_afl_events_today = pd.DataFrame({\n",
    "    'Event Name': [event_object['event']['name'] for event_object in aus_afl_events],\n",
    "    'Event ID': [event_object['event']['id'] for event_object in aus_afl_events],\n",
    "    # 'Event Venue': [event_object['event']['venue'] for event_object in aus_afl_events],\n",
    "    'Country Code': [event_object['event']['countryCode'] for event_object in aus_afl_events],\n",
    "    'Time Zone': [event_object['event']['timezone'] for event_object in aus_afl_events],\n",
    "    'Open Date': [event_object['event']['openDate'] for event_object in aus_afl_events],\n",
    "    'Market Count': [event_object['marketCount'] for event_object in aus_afl_events]\n",
    "})\n",
    "\n",
    "aus_afl_events_today"
   ]
  },
  {
   "cell_type": "code",
   "execution_count": null,
   "metadata": {},
   "outputs": [],
   "source": [
    "event_name = 'Richmond v Gold Coast'\n",
    "event_id = aus_afl_events_today.loc[aus_afl_events_today['Event Name'] == event_name, 'Event ID'].iloc[0]\n",
    "event_id"
   ]
  },
  {
   "cell_type": "code",
   "execution_count": null,
   "metadata": {},
   "outputs": [],
   "source": [
    "# Define a market filter\n",
    "market_types_filter = betfairlightweight.filters.market_filter(\n",
    "    event_ids=[event_id]\n",
    ")\n",
    "market_types_filter"
   ]
  },
  {
   "cell_type": "code",
   "execution_count": null,
   "metadata": {},
   "outputs": [],
   "source": [
    "# Request market types\n",
    "market_types = trading.betting.list_market_types(\n",
    "        filter=market_types_filter\n",
    ")\n",
    "market_types"
   ]
  },
  {
   "cell_type": "code",
   "execution_count": null,
   "metadata": {},
   "outputs": [],
   "source": [
    "# Create a DataFrame of market types\n",
    "market_types_event = pd.DataFrame({\n",
    "    'Market Type': [market_type_object['marketType'] for market_type_object in market_types],\n",
    "})\n",
    "\n",
    "market_types_event"
   ]
  },
  {
   "cell_type": "code",
   "execution_count": null,
   "metadata": {},
   "outputs": [],
   "source": [
    "market_catalogue_filter = betfairlightweight.filters.market_filter(\n",
    "    event_ids=[event_id]\n",
    ")\n",
    "market_catalogue_filter"
   ]
  },
  {
   "cell_type": "code",
   "execution_count": null,
   "metadata": {},
   "outputs": [],
   "source": [
    "market_catalogues = trading.betting.list_market_catalogue(\n",
    "    filter=market_catalogue_filter,\n",
    "    max_results='100',\n",
    "    sort='FIRST_TO_START'\n",
    ")\n",
    "market_catalogues[3]"
   ]
  },
  {
   "cell_type": "code",
   "execution_count": null,
   "metadata": {},
   "outputs": [],
   "source": [
    "# Create a DataFrame for each market catalogue\n",
    "market_types_event = pd.DataFrame({\n",
    "    'Market Name': [market_cat_object['marketName'] for market_cat_object in market_catalogues],\n",
    "    'Market ID': [market_cat_object['marketId'] for market_cat_object in market_catalogues],\n",
    "    'Total Matched': [market_cat_object['totalMatched'] for market_cat_object in market_catalogues],\n",
    "})\n",
    "\n",
    "market_types_event"
   ]
  },
  {
   "cell_type": "code",
   "execution_count": null,
   "metadata": {},
   "outputs": [],
   "source": [
    "# Create a price filter. Get all traded and offer data\n",
    "price_filter = betfairlightweight.filters.price_projection(\n",
    "    price_data=['EX_BEST_OFFERS']\n",
    ")\n",
    "price_filter"
   ]
  },
  {
   "cell_type": "code",
   "execution_count": null,
   "metadata": {},
   "outputs": [],
   "source": [
    "market_id = market_types_event[market_types_event['Market Name'] == \"Total Points\"]['Market ID'].iloc[0]\n",
    "market_id"
   ]
  },
  {
   "cell_type": "code",
   "execution_count": null,
   "metadata": {},
   "outputs": [],
   "source": [
    "# Request market books\n",
    "market_books = trading.betting.list_market_book(\n",
    "    market_ids=[market_id],\n",
    "    price_projection=price_filter\n",
    ")\n",
    "# market_books÷"
   ]
  },
  {
   "cell_type": "code",
   "execution_count": null,
   "metadata": {},
   "outputs": [],
   "source": [
    "# Grab the first market book from the returned list as we only requested one market \n",
    "market_book = market_books[0]\n",
    "# market_book"
   ]
  },
  {
   "cell_type": "code",
   "execution_count": null,
   "metadata": {},
   "outputs": [],
   "source": [
    "traded_markets = [market for market in market_book['runners'] if 'lastPriceTraded' in list(market.keys())]"
   ]
  },
  {
   "cell_type": "code",
   "execution_count": null,
   "metadata": {},
   "outputs": [],
   "source": [
    "traded_markets"
   ]
  },
  {
   "cell_type": "code",
   "execution_count": null,
   "metadata": {},
   "outputs": [],
   "source": [
    "def process_event_books(event_books):\n",
    "    '''\n",
    "    This function processes the geelong books and returns a DataFrame with the best back/lay prices + vol for each geelong\n",
    "    :param event_books:\n",
    "    :return:\n",
    "    '''\n",
    "\n",
    "    selection_ids = [event_book['selectionId'] for event_book in event_books]\n",
    "    total_points_line = [event_book['handicap'] for event_book in event_books]\n",
    "    last_prices_traded = [event_book['lastPriceTraded'] for event_book in event_books]\n",
    "    total_matched = [event_book['totalMatched'] for event_book in event_books]\n",
    "\n",
    "    df = pd.DataFrame({\n",
    "        'Selection ID': selection_ids,\n",
    "        'Total Points Line': total_points_line,\n",
    "        'Last Price Traded': last_prices_traded,\n",
    "        'Total Matched': total_matched,\n",
    "    })\n",
    "\n",
    "    df['Selection Name'] = np.where(df['Selection ID'] == 8435232, 'Under', 'Over')\n",
    "    \n",
    "    df = df[['Selection ID', 'Selection Name', 'Total Points Line', 'Last Price Traded', 'Total Matched']]\n",
    "    \n",
    "    return df\n"
   ]
  },
  {
   "cell_type": "code",
   "execution_count": null,
   "metadata": {},
   "outputs": [],
   "source": [
    "event_df = process_event_books(traded_markets)\n",
    "event_df"
   ]
  },
  {
   "cell_type": "code",
   "execution_count": null,
   "metadata": {},
   "outputs": [],
   "source": [
    "# Get the favourite's price and selection id\n",
    "best_selection_id = event_df.loc[event_df['Last Price Traded'].idxmax(), 'Selection ID']\n",
    "best_price = event_df.loc[event_df['Last Price Traded'].idxmax(), 'Last Price Traded']\n",
    "best_selection_id, best_price"
   ]
  },
  {
   "cell_type": "code",
   "execution_count": null,
   "metadata": {},
   "outputs": [],
   "source": [
    "# Define a limit order filter\n",
    "limit_order_filter = betfairlightweight.filters.limit_order(\n",
    "    size=5, \n",
    "    price=7,\n",
    "    persistence_type='LAPSE'\n",
    ")\n",
    "limit_order_filter"
   ]
  },
  {
   "cell_type": "code",
   "execution_count": null,
   "metadata": {},
   "outputs": [],
   "source": [
    "# Define an instructions filter\n",
    "instructions_filter = betfairlightweight.filters.place_instruction(\n",
    "    selection_id=str(8435232),\n",
    "    order_type=\"LIMIT\",\n",
    "    side=\"BACK\",\n",
    "    limit_order=limit_order_filter\n",
    ")\n",
    "instructions_filter\n"
   ]
  },
  {
   "cell_type": "code",
   "execution_count": null,
   "metadata": {},
   "outputs": [],
   "source": [
    "# Place the order\n",
    "order = trading.betting.place_orders(\n",
    "    market_id=market_id, # The market id we obtained from before\n",
    "    customer_strategy_ref='tp_model',\n",
    "    instructions=[instructions_filter] # This must be a list\n",
    ")\n"
   ]
  },
  {
   "cell_type": "code",
   "execution_count": null,
   "metadata": {},
   "outputs": [],
   "source": [
    "order"
   ]
  },
  {
   "cell_type": "code",
   "execution_count": null,
   "metadata": {},
   "outputs": [],
   "source": [
    "trading.betting.list_current_orders(\n",
    "    customer_strategy_refs=['tp_model']\n",
    ")"
   ]
  },
  {
   "cell_type": "code",
   "execution_count": null,
   "metadata": {},
   "outputs": [],
   "source": [
    "cancelled_order = trading.betting.cancel_orders(market_id=market_id)\n",
    "cancelled_order"
   ]
  },
  {
   "cell_type": "code",
   "execution_count": null,
   "metadata": {},
   "outputs": [],
   "source": [
    "# # Create a DataFrame to view the instruction report\n",
    "# pd.Series(cancelled_order.cancel_instruction_reports[0].__dict__).to_frame().T"
   ]
  },
  {
   "cell_type": "code",
   "execution_count": null,
   "metadata": {},
   "outputs": [],
   "source": [
    "# listClearedOrders\n",
    "cleared_orders = trading.betting.list_cleared_orders(bet_status=\"SETTLED\",\n",
    "                                                    market_ids=[market_id])\n",
    "cleared_orders"
   ]
  },
  {
   "cell_type": "code",
   "execution_count": null,
   "metadata": {},
   "outputs": [],
   "source": [
    "# Create a DataFrame from the orders\n",
    "# pd.DataFrame(cleared_orders._data['clearedOrders'])"
   ]
  },
  {
   "cell_type": "code",
   "execution_count": null,
   "metadata": {},
   "outputs": [],
   "source": [
    "# Get the profit/loss - this returns a list\n",
    "pl = trading.betting.list_market_profit_and_loss(\n",
    "    market_ids=[market_id], \n",
    "    include_bsp_bets='true', \n",
    "    include_settled_bets='true')\n",
    "pl"
   ]
  },
  {
   "cell_type": "code",
   "execution_count": null,
   "metadata": {},
   "outputs": [],
   "source": [
    "# # Create a profit/loss DataFrame\n",
    "# pl_df = pd.DataFrame(pl[0]._data['profitAndLosses']).assign(marketId=pl[0].market_id)\n",
    "# pl_df"
   ]
  },
  {
   "cell_type": "code",
   "execution_count": null,
   "metadata": {},
   "outputs": [],
   "source": [
    "# Define a date filter - get all bets for the past 4 days\n",
    "four_days_ago = (datetime.datetime.utcnow() - datetime.timedelta(days=4)).strftime(\"%Y-%m-%dT%TZ\")\n",
    "acct_statement_date_filter = betfairlightweight.filters.time_range(from_=four_days_ago)\n",
    "\n",
    "# Request account statement\n",
    "account_statement = trading.account.get_account_statement(item_date_range=acct_statement_date_filter)\n",
    "account_statement"
   ]
  },
  {
   "cell_type": "code",
   "execution_count": null,
   "metadata": {},
   "outputs": [],
   "source": [
    "# Create df of recent transactions\n",
    "recent_transactions = pd.DataFrame(account_statement['accountStatement'])\n",
    "recent_transactions\n"
   ]
  },
  {
   "cell_type": "code",
   "execution_count": null,
   "metadata": {},
   "outputs": [],
   "source": []
  }
 ],
 "metadata": {
  "kernelspec": {
   "display_name": "afl-total-model-env",
   "language": "python",
   "name": "python3"
  },
  "language_info": {
   "codemirror_mode": {
    "name": "ipython",
    "version": 3
   },
   "file_extension": ".py",
   "mimetype": "text/x-python",
   "name": "python",
   "nbconvert_exporter": "python",
   "pygments_lexer": "ipython3",
   "version": "3.9.16"
  },
  "orig_nbformat": 4,
  "vscode": {
   "interpreter": {
    "hash": "dc578ee0f2f240f88b07d66010ce4f17cba19ae2fcd1972906e53630b629e476"
   }
  }
 },
 "nbformat": 4,
 "nbformat_minor": 2
}
