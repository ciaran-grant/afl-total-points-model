{
 "cells": [
  {
   "attachments": {},
   "cell_type": "markdown",
   "metadata": {},
   "source": [
    "Total Game Score Model - Hyperparameter Tuning - GBM"
   ]
  },
  {
   "cell_type": "code",
   "execution_count": 1,
   "metadata": {},
   "outputs": [],
   "source": [
    "import pandas as pd\n",
    "import numpy as np\n",
    "import xgboost as xgb\n",
    "import optuna\n",
    "from sklearn.feature_selection import RFECV\n",
    "from sklearn.model_selection import train_test_split\n",
    "\n",
    "pd.options.display.max_rows = 10\n",
    "pd.options.display.max_columns = 999\n",
    "\n",
    "%load_ext autoreload\n",
    "%autoreload 2"
   ]
  },
  {
   "attachments": {},
   "cell_type": "markdown",
   "metadata": {},
   "source": [
    "Load Data"
   ]
  },
  {
   "attachments": {},
   "cell_type": "markdown",
   "metadata": {},
   "source": [
    "ModellingDataLoader class"
   ]
  },
  {
   "cell_type": "code",
   "execution_count": 2,
   "metadata": {},
   "outputs": [],
   "source": [
    "# from modelling_data_preparation import DataLoader"
   ]
  },
  {
   "cell_type": "code",
   "execution_count": 3,
   "metadata": {},
   "outputs": [],
   "source": [
    "data = pd.read_csv(\"/Users/ciaran/Documents/Projects/AFL/total-points-score-model/data/modelling-data/modelling_data_total_team_score.csv\")"
   ]
  },
  {
   "cell_type": "code",
   "execution_count": 4,
   "metadata": {},
   "outputs": [
    {
     "data": {
      "text/html": [
       "<div>\n",
       "<style scoped>\n",
       "    .dataframe tbody tr th:only-of-type {\n",
       "        vertical-align: middle;\n",
       "    }\n",
       "\n",
       "    .dataframe tbody tr th {\n",
       "        vertical-align: top;\n",
       "    }\n",
       "\n",
       "    .dataframe thead th {\n",
       "        text-align: right;\n",
       "    }\n",
       "</style>\n",
       "<table border=\"1\" class=\"dataframe\">\n",
       "  <thead>\n",
       "    <tr style=\"text-align: right;\">\n",
       "      <th></th>\n",
       "      <th>Unnamed: 0</th>\n",
       "      <th>Match_ID</th>\n",
       "      <th>AFL_API_Match_ID</th>\n",
       "      <th>Home_Team</th>\n",
       "      <th>Away_Team</th>\n",
       "      <th>Date</th>\n",
       "      <th>Venue</th>\n",
       "      <th>Match_Status</th>\n",
       "      <th>Q4_Score</th>\n",
       "      <th>Round_ID</th>\n",
       "      <th>Year</th>\n",
       "      <th>Q1_Score</th>\n",
       "      <th>Q2_Score</th>\n",
       "      <th>Q3_Score</th>\n",
       "      <th>Margin</th>\n",
       "      <th>Total_Game_Score</th>\n",
       "      <th>Home_Win</th>\n",
       "      <th>City</th>\n",
       "      <th>Attendance</th>\n",
       "      <th>Umpires</th>\n",
       "      <th>Home_Coach_ID</th>\n",
       "      <th>Away_Coach_ID</th>\n",
       "      <th>Q5_Score</th>\n",
       "      <th>Temperature</th>\n",
       "      <th>Weather_Type</th>\n",
       "      <th>Home_Score</th>\n",
       "      <th>Away_Score</th>\n",
       "      <th>Home_Goals</th>\n",
       "      <th>Home_Behinds</th>\n",
       "      <th>Home_Total_Score</th>\n",
       "      <th>Away_Goals</th>\n",
       "      <th>Away_Behinds</th>\n",
       "      <th>Away_Total_Score</th>\n",
       "      <th>random5</th>\n",
       "      <th>training_set</th>\n",
       "      <th>Home_Total_Game_Score_avg2</th>\n",
       "      <th>Home_For_Goals_avg2</th>\n",
       "      <th>Home_For_Behinds_avg2</th>\n",
       "      <th>Home_For_Scores_avg2</th>\n",
       "      <th>Home_For_Total_Score_avg2</th>\n",
       "      <th>Home_Against_Goals_avg2</th>\n",
       "      <th>Home_Against_Behinds_avg2</th>\n",
       "      <th>Home_Against_Scores_avg2</th>\n",
       "      <th>Home_Against_Total_Score_avg2</th>\n",
       "      <th>Home_Total_Game_Score_avg10</th>\n",
       "      <th>Home_For_Goals_avg10</th>\n",
       "      <th>Home_For_Behinds_avg10</th>\n",
       "      <th>Home_For_Scores_avg10</th>\n",
       "      <th>Home_For_Total_Score_avg10</th>\n",
       "      <th>Home_Against_Goals_avg10</th>\n",
       "      <th>Home_Against_Behinds_avg10</th>\n",
       "      <th>Home_Against_Scores_avg10</th>\n",
       "      <th>Home_Against_Total_Score_avg10</th>\n",
       "      <th>Away_Total_Game_Score_avg2</th>\n",
       "      <th>Away_For_Goals_avg2</th>\n",
       "      <th>Away_For_Behinds_avg2</th>\n",
       "      <th>Away_For_Scores_avg2</th>\n",
       "      <th>Away_For_Total_Score_avg2</th>\n",
       "      <th>Away_Against_Goals_avg2</th>\n",
       "      <th>Away_Against_Behinds_avg2</th>\n",
       "      <th>Away_Against_Scores_avg2</th>\n",
       "      <th>Away_Against_Total_Score_avg2</th>\n",
       "      <th>Away_Total_Game_Score_avg10</th>\n",
       "      <th>Away_For_Goals_avg10</th>\n",
       "      <th>Away_For_Behinds_avg10</th>\n",
       "      <th>Away_For_Scores_avg10</th>\n",
       "      <th>Away_For_Total_Score_avg10</th>\n",
       "      <th>Away_Against_Goals_avg10</th>\n",
       "      <th>Away_Against_Behinds_avg10</th>\n",
       "      <th>Away_Against_Scores_avg10</th>\n",
       "      <th>Away_Against_Total_Score_avg10</th>\n",
       "    </tr>\n",
       "  </thead>\n",
       "  <tbody>\n",
       "    <tr>\n",
       "      <th>3004</th>\n",
       "      <td>3005</td>\n",
       "      <td>2022F3_Sydney_Collingwood</td>\n",
       "      <td>CD_M20220142602</td>\n",
       "      <td>Sydney</td>\n",
       "      <td>Collingwood</td>\n",
       "      <td>2022-09-17 16:45:00</td>\n",
       "      <td>S.C.G.</td>\n",
       "      <td>CONCLUDED</td>\n",
       "      <td>14.11.95 - 14.10.94</td>\n",
       "      <td>2022F3</td>\n",
       "      <td>2022</td>\n",
       "      <td>6.3.39 - 3.0.18</td>\n",
       "      <td>11.7.73 - 7.1.43</td>\n",
       "      <td>13.10.88 - 10.5.65</td>\n",
       "      <td>1</td>\n",
       "      <td>189</td>\n",
       "      <td>1.0</td>\n",
       "      <td>Sydney</td>\n",
       "      <td>45608.0</td>\n",
       "      <td>NaN</td>\n",
       "      <td>John_Longmire</td>\n",
       "      <td>Craig_McRae</td>\n",
       "      <td>NaN</td>\n",
       "      <td>23.0</td>\n",
       "      <td>MOSTLY_SUNNY</td>\n",
       "      <td>14.11.95</td>\n",
       "      <td>14.10.94</td>\n",
       "      <td>14</td>\n",
       "      <td>11</td>\n",
       "      <td>95</td>\n",
       "      <td>14</td>\n",
       "      <td>10</td>\n",
       "      <td>94</td>\n",
       "      <td>5</td>\n",
       "      <td>False</td>\n",
       "      <td>174.5</td>\n",
       "      <td>14.0</td>\n",
       "      <td>9.0</td>\n",
       "      <td>23.0</td>\n",
       "      <td>93.0</td>\n",
       "      <td>12.0</td>\n",
       "      <td>9.5</td>\n",
       "      <td>21.5</td>\n",
       "      <td>81.5</td>\n",
       "      <td>172.1</td>\n",
       "      <td>14.4</td>\n",
       "      <td>13.1</td>\n",
       "      <td>27.5</td>\n",
       "      <td>99.5</td>\n",
       "      <td>10.5</td>\n",
       "      <td>9.6</td>\n",
       "      <td>20.1</td>\n",
       "      <td>72.6</td>\n",
       "      <td>163.5</td>\n",
       "      <td>12.5</td>\n",
       "      <td>11.5</td>\n",
       "      <td>24.0</td>\n",
       "      <td>86.5</td>\n",
       "      <td>11.5</td>\n",
       "      <td>8.0</td>\n",
       "      <td>19.5</td>\n",
       "      <td>77.0</td>\n",
       "      <td>161.0</td>\n",
       "      <td>12.0</td>\n",
       "      <td>9.3</td>\n",
       "      <td>21.3</td>\n",
       "      <td>81.3</td>\n",
       "      <td>11.6</td>\n",
       "      <td>10.1</td>\n",
       "      <td>21.7</td>\n",
       "      <td>79.7</td>\n",
       "    </tr>\n",
       "    <tr>\n",
       "      <th>3005</th>\n",
       "      <td>3006</td>\n",
       "      <td>2022F4_Geelong_Sydney</td>\n",
       "      <td>CD_M20220142701</td>\n",
       "      <td>Geelong</td>\n",
       "      <td>Sydney</td>\n",
       "      <td>2022-09-24 14:30:00</td>\n",
       "      <td>M.C.G.</td>\n",
       "      <td>CONCLUDED</td>\n",
       "      <td>20.13.133 - 8.4.52</td>\n",
       "      <td>2022F4</td>\n",
       "      <td>2022</td>\n",
       "      <td>6.5.41 - 1.0.6</td>\n",
       "      <td>9.8.62 - 4.2.26</td>\n",
       "      <td>15.11.101 - 4.3.27</td>\n",
       "      <td>81</td>\n",
       "      <td>185</td>\n",
       "      <td>1.0</td>\n",
       "      <td>Melbourne</td>\n",
       "      <td>100024.0</td>\n",
       "      <td>Simon Meredith (439), Matt Stevic (449), Brend...</td>\n",
       "      <td>Chris_Scott</td>\n",
       "      <td>John_Longmire</td>\n",
       "      <td>NaN</td>\n",
       "      <td>15.0</td>\n",
       "      <td>RAIN</td>\n",
       "      <td>20.13.133</td>\n",
       "      <td>8.4.52</td>\n",
       "      <td>20</td>\n",
       "      <td>13</td>\n",
       "      <td>133</td>\n",
       "      <td>8</td>\n",
       "      <td>4</td>\n",
       "      <td>52</td>\n",
       "      <td>4</td>\n",
       "      <td>True</td>\n",
       "      <td>177.0</td>\n",
       "      <td>19.0</td>\n",
       "      <td>12.5</td>\n",
       "      <td>31.5</td>\n",
       "      <td>126.5</td>\n",
       "      <td>7.5</td>\n",
       "      <td>5.5</td>\n",
       "      <td>13.0</td>\n",
       "      <td>50.5</td>\n",
       "      <td>168.8</td>\n",
       "      <td>15.7</td>\n",
       "      <td>12.5</td>\n",
       "      <td>28.2</td>\n",
       "      <td>106.7</td>\n",
       "      <td>9.1</td>\n",
       "      <td>7.5</td>\n",
       "      <td>16.6</td>\n",
       "      <td>62.1</td>\n",
       "      <td>187.0</td>\n",
       "      <td>11.0</td>\n",
       "      <td>7.5</td>\n",
       "      <td>18.5</td>\n",
       "      <td>73.5</td>\n",
       "      <td>17.0</td>\n",
       "      <td>11.5</td>\n",
       "      <td>28.5</td>\n",
       "      <td>113.5</td>\n",
       "      <td>172.5</td>\n",
       "      <td>14.0</td>\n",
       "      <td>12.1</td>\n",
       "      <td>26.1</td>\n",
       "      <td>96.1</td>\n",
       "      <td>11.0</td>\n",
       "      <td>10.4</td>\n",
       "      <td>21.4</td>\n",
       "      <td>76.4</td>\n",
       "    </tr>\n",
       "  </tbody>\n",
       "</table>\n",
       "</div>"
      ],
      "text/plain": [
       "      Unnamed: 0                   Match_ID AFL_API_Match_ID Home_Team  \\\n",
       "3004        3005  2022F3_Sydney_Collingwood  CD_M20220142602    Sydney   \n",
       "3005        3006      2022F4_Geelong_Sydney  CD_M20220142701   Geelong   \n",
       "\n",
       "        Away_Team                 Date   Venue Match_Status  \\\n",
       "3004  Collingwood  2022-09-17 16:45:00  S.C.G.    CONCLUDED   \n",
       "3005       Sydney  2022-09-24 14:30:00  M.C.G.    CONCLUDED   \n",
       "\n",
       "                 Q4_Score Round_ID  Year         Q1_Score          Q2_Score  \\\n",
       "3004  14.11.95 - 14.10.94   2022F3  2022  6.3.39 - 3.0.18  11.7.73 - 7.1.43   \n",
       "3005   20.13.133 - 8.4.52   2022F4  2022   6.5.41 - 1.0.6   9.8.62 - 4.2.26   \n",
       "\n",
       "                Q3_Score  Margin  Total_Game_Score  Home_Win       City  \\\n",
       "3004  13.10.88 - 10.5.65       1               189       1.0     Sydney   \n",
       "3005  15.11.101 - 4.3.27      81               185       1.0  Melbourne   \n",
       "\n",
       "      Attendance                                            Umpires  \\\n",
       "3004     45608.0                                                NaN   \n",
       "3005    100024.0  Simon Meredith (439), Matt Stevic (449), Brend...   \n",
       "\n",
       "      Home_Coach_ID  Away_Coach_ID Q5_Score  Temperature  Weather_Type  \\\n",
       "3004  John_Longmire    Craig_McRae      NaN         23.0  MOSTLY_SUNNY   \n",
       "3005    Chris_Scott  John_Longmire      NaN         15.0          RAIN   \n",
       "\n",
       "     Home_Score Away_Score  Home_Goals  Home_Behinds  Home_Total_Score  \\\n",
       "3004   14.11.95   14.10.94          14            11                95   \n",
       "3005  20.13.133     8.4.52          20            13               133   \n",
       "\n",
       "      Away_Goals  Away_Behinds  Away_Total_Score  random5  training_set  \\\n",
       "3004          14            10                94        5         False   \n",
       "3005           8             4                52        4          True   \n",
       "\n",
       "      Home_Total_Game_Score_avg2  Home_For_Goals_avg2  Home_For_Behinds_avg2  \\\n",
       "3004                       174.5                 14.0                    9.0   \n",
       "3005                       177.0                 19.0                   12.5   \n",
       "\n",
       "      Home_For_Scores_avg2  Home_For_Total_Score_avg2  \\\n",
       "3004                  23.0                       93.0   \n",
       "3005                  31.5                      126.5   \n",
       "\n",
       "      Home_Against_Goals_avg2  Home_Against_Behinds_avg2  \\\n",
       "3004                     12.0                        9.5   \n",
       "3005                      7.5                        5.5   \n",
       "\n",
       "      Home_Against_Scores_avg2  Home_Against_Total_Score_avg2  \\\n",
       "3004                      21.5                           81.5   \n",
       "3005                      13.0                           50.5   \n",
       "\n",
       "      Home_Total_Game_Score_avg10  Home_For_Goals_avg10  \\\n",
       "3004                        172.1                  14.4   \n",
       "3005                        168.8                  15.7   \n",
       "\n",
       "      Home_For_Behinds_avg10  Home_For_Scores_avg10  \\\n",
       "3004                    13.1                   27.5   \n",
       "3005                    12.5                   28.2   \n",
       "\n",
       "      Home_For_Total_Score_avg10  Home_Against_Goals_avg10  \\\n",
       "3004                        99.5                      10.5   \n",
       "3005                       106.7                       9.1   \n",
       "\n",
       "      Home_Against_Behinds_avg10  Home_Against_Scores_avg10  \\\n",
       "3004                         9.6                       20.1   \n",
       "3005                         7.5                       16.6   \n",
       "\n",
       "      Home_Against_Total_Score_avg10  Away_Total_Game_Score_avg2  \\\n",
       "3004                            72.6                       163.5   \n",
       "3005                            62.1                       187.0   \n",
       "\n",
       "      Away_For_Goals_avg2  Away_For_Behinds_avg2  Away_For_Scores_avg2  \\\n",
       "3004                 12.5                   11.5                  24.0   \n",
       "3005                 11.0                    7.5                  18.5   \n",
       "\n",
       "      Away_For_Total_Score_avg2  Away_Against_Goals_avg2  \\\n",
       "3004                       86.5                     11.5   \n",
       "3005                       73.5                     17.0   \n",
       "\n",
       "      Away_Against_Behinds_avg2  Away_Against_Scores_avg2  \\\n",
       "3004                        8.0                      19.5   \n",
       "3005                       11.5                      28.5   \n",
       "\n",
       "      Away_Against_Total_Score_avg2  Away_Total_Game_Score_avg10  \\\n",
       "3004                           77.0                        161.0   \n",
       "3005                          113.5                        172.5   \n",
       "\n",
       "      Away_For_Goals_avg10  Away_For_Behinds_avg10  Away_For_Scores_avg10  \\\n",
       "3004                  12.0                     9.3                   21.3   \n",
       "3005                  14.0                    12.1                   26.1   \n",
       "\n",
       "      Away_For_Total_Score_avg10  Away_Against_Goals_avg10  \\\n",
       "3004                        81.3                      11.6   \n",
       "3005                        96.1                      11.0   \n",
       "\n",
       "      Away_Against_Behinds_avg10  Away_Against_Scores_avg10  \\\n",
       "3004                        10.1                       21.7   \n",
       "3005                        10.4                       21.4   \n",
       "\n",
       "      Away_Against_Total_Score_avg10  \n",
       "3004                            79.7  \n",
       "3005                            76.4  "
      ]
     },
     "execution_count": 4,
     "metadata": {},
     "output_type": "execute_result"
    }
   ],
   "source": [
    "data.tail(2)"
   ]
  },
  {
   "attachments": {},
   "cell_type": "markdown",
   "metadata": {},
   "source": [
    "Clean Data"
   ]
  },
  {
   "cell_type": "code",
   "execution_count": 5,
   "metadata": {},
   "outputs": [],
   "source": [
    "def preprocess_modelling_data(data):\n",
    "    \n",
    "    modelling_data = data[data['Date'] < \"2019-01-01\"]\n",
    "    oot_data = data[data['Date'] >= \"2019-01-01\"]\n",
    "    \n",
    "    training_data = modelling_data[modelling_data['training_set'] == True]\n",
    "    test_data = modelling_data[modelling_data['training_set'] == False]\n",
    "    \n",
    "    return training_data, test_data, oot_data"
   ]
  },
  {
   "cell_type": "code",
   "execution_count": 6,
   "metadata": {},
   "outputs": [],
   "source": [
    "training_data, test_data, oot_data = preprocess_modelling_data(data)"
   ]
  },
  {
   "attachments": {},
   "cell_type": "markdown",
   "metadata": {},
   "source": [
    "Preprocessor class"
   ]
  },
  {
   "cell_type": "code",
   "execution_count": 7,
   "metadata": {},
   "outputs": [],
   "source": [
    "# from preprocessor.py import Preprocessor"
   ]
  },
  {
   "attachments": {},
   "cell_type": "markdown",
   "metadata": {},
   "source": [
    "Train Model"
   ]
  },
  {
   "attachments": {},
   "cell_type": "markdown",
   "metadata": {},
   "source": [
    "Store these constants in a dataclass - ModellingConstants"
   ]
  },
  {
   "cell_type": "code",
   "execution_count": 8,
   "metadata": {},
   "outputs": [],
   "source": [
    "response = \"Total_Game_Score\""
   ]
  },
  {
   "cell_type": "code",
   "execution_count": 9,
   "metadata": {},
   "outputs": [
    {
     "data": {
      "text/plain": [
       "['Unnamed: 0',\n",
       " 'Match_ID',\n",
       " 'AFL_API_Match_ID',\n",
       " 'Home_Team',\n",
       " 'Away_Team',\n",
       " 'Date',\n",
       " 'Venue',\n",
       " 'Match_Status',\n",
       " 'Q4_Score',\n",
       " 'Round_ID',\n",
       " 'Year',\n",
       " 'Q1_Score',\n",
       " 'Q2_Score',\n",
       " 'Q3_Score',\n",
       " 'Margin',\n",
       " 'Total_Game_Score',\n",
       " 'Home_Win',\n",
       " 'City',\n",
       " 'Attendance',\n",
       " 'Umpires',\n",
       " 'Home_Coach_ID',\n",
       " 'Away_Coach_ID',\n",
       " 'Q5_Score',\n",
       " 'Temperature',\n",
       " 'Weather_Type',\n",
       " 'Home_Score',\n",
       " 'Away_Score',\n",
       " 'Home_Goals',\n",
       " 'Home_Behinds',\n",
       " 'Home_Total_Score',\n",
       " 'Away_Goals',\n",
       " 'Away_Behinds',\n",
       " 'Away_Total_Score',\n",
       " 'random5',\n",
       " 'training_set',\n",
       " 'Home_Total_Game_Score_avg2',\n",
       " 'Home_For_Goals_avg2',\n",
       " 'Home_For_Behinds_avg2',\n",
       " 'Home_For_Scores_avg2',\n",
       " 'Home_For_Total_Score_avg2',\n",
       " 'Home_Against_Goals_avg2',\n",
       " 'Home_Against_Behinds_avg2',\n",
       " 'Home_Against_Scores_avg2',\n",
       " 'Home_Against_Total_Score_avg2',\n",
       " 'Home_Total_Game_Score_avg10',\n",
       " 'Home_For_Goals_avg10',\n",
       " 'Home_For_Behinds_avg10',\n",
       " 'Home_For_Scores_avg10',\n",
       " 'Home_For_Total_Score_avg10',\n",
       " 'Home_Against_Goals_avg10',\n",
       " 'Home_Against_Behinds_avg10',\n",
       " 'Home_Against_Scores_avg10',\n",
       " 'Home_Against_Total_Score_avg10',\n",
       " 'Away_Total_Game_Score_avg2',\n",
       " 'Away_For_Goals_avg2',\n",
       " 'Away_For_Behinds_avg2',\n",
       " 'Away_For_Scores_avg2',\n",
       " 'Away_For_Total_Score_avg2',\n",
       " 'Away_Against_Goals_avg2',\n",
       " 'Away_Against_Behinds_avg2',\n",
       " 'Away_Against_Scores_avg2',\n",
       " 'Away_Against_Total_Score_avg2',\n",
       " 'Away_Total_Game_Score_avg10',\n",
       " 'Away_For_Goals_avg10',\n",
       " 'Away_For_Behinds_avg10',\n",
       " 'Away_For_Scores_avg10',\n",
       " 'Away_For_Total_Score_avg10',\n",
       " 'Away_Against_Goals_avg10',\n",
       " 'Away_Against_Behinds_avg10',\n",
       " 'Away_Against_Scores_avg10',\n",
       " 'Away_Against_Total_Score_avg10']"
      ]
     },
     "execution_count": 9,
     "metadata": {},
     "output_type": "execute_result"
    }
   ],
   "source": [
    "list(training_data)"
   ]
  },
  {
   "cell_type": "code",
   "execution_count": 10,
   "metadata": {},
   "outputs": [],
   "source": [
    "modelling_features = [\n",
    "    'Venue',\n",
    "    'Year',\n",
    "    'Temperature',\n",
    "    'Weather_Type',\n",
    "    'Home_Team',\n",
    "    'Away_Team',\n",
    "    'Home_Total_Game_Score_avg2',\n",
    "    'Home_For_Goals_avg2',\n",
    "    'Home_For_Behinds_avg2',\n",
    "    'Home_For_Scores_avg2',\n",
    "    'Home_For_Total_Score_avg2',\n",
    "    'Home_Against_Goals_avg2',\n",
    "    'Home_Against_Behinds_avg2',\n",
    "    'Home_Against_Scores_avg2',\n",
    "    'Home_Against_Total_Score_avg2',\n",
    "    'Home_Total_Game_Score_avg10',\n",
    "    'Home_For_Goals_avg10',\n",
    "    'Home_For_Behinds_avg10',\n",
    "    'Home_For_Scores_avg10',\n",
    "    'Home_For_Total_Score_avg10',\n",
    "    'Home_Against_Goals_avg10',\n",
    "    'Home_Against_Behinds_avg10',\n",
    "    'Home_Against_Scores_avg10',\n",
    "    'Home_Against_Total_Score_avg10',\n",
    "    'Away_Total_Game_Score_avg2',\n",
    "    'Away_For_Goals_avg2',\n",
    "    'Away_For_Behinds_avg2',\n",
    "    'Away_For_Scores_avg2',\n",
    "    'Away_For_Total_Score_avg2',\n",
    "    'Away_Against_Goals_avg2',\n",
    "    'Away_Against_Behinds_avg2',\n",
    "    'Away_Against_Scores_avg2',\n",
    "    'Away_Against_Total_Score_avg2',\n",
    "    'Away_Total_Game_Score_avg10',\n",
    "    'Away_For_Goals_avg10',\n",
    "    'Away_For_Behinds_avg10',\n",
    "    'Away_For_Scores_avg10',\n",
    "    'Away_For_Total_Score_avg10',\n",
    "    'Away_Against_Goals_avg10',\n",
    "    'Away_Against_Behinds_avg10',\n",
    "    'Away_Against_Scores_avg10',\n",
    "    'Away_Against_Total_Score_avg10']"
   ]
  },
  {
   "cell_type": "code",
   "execution_count": 11,
   "metadata": {},
   "outputs": [],
   "source": [
    "def get_modelling_features(data, feature_list, response):\n",
    "    \n",
    "    X, y = data[feature_list], data[response]\n",
    "    \n",
    "    return X, y"
   ]
  },
  {
   "cell_type": "code",
   "execution_count": 12,
   "metadata": {},
   "outputs": [],
   "source": [
    "X_train, y_train = get_modelling_features(training_data, modelling_features, response)\n",
    "X_test, y_test = get_modelling_features(test_data, modelling_features, response)\n",
    "X_oot, y_oot = get_modelling_features(oot_data, modelling_features, response)"
   ]
  },
  {
   "cell_type": "code",
   "execution_count": 13,
   "metadata": {},
   "outputs": [],
   "source": [
    "def one_hot_encode_fit(X):\n",
    "    \n",
    "    X_dummies = pd.get_dummies(X)\n",
    "    \n",
    "    return list(X_dummies)"
   ]
  },
  {
   "cell_type": "code",
   "execution_count": 14,
   "metadata": {},
   "outputs": [],
   "source": [
    "def one_hot_encode_transform(X, expected_features):\n",
    "    \n",
    "    X_dummies = pd.get_dummies(X)\n",
    "    \n",
    "    for col in list(expected_features):\n",
    "        if col not in list(X_dummies):\n",
    "            X_dummies[col] = 0\n",
    "            \n",
    "    X_dummies = X_dummies[expected_features]\n",
    "    \n",
    "    return X_dummies"
   ]
  },
  {
   "cell_type": "code",
   "execution_count": 15,
   "metadata": {},
   "outputs": [],
   "source": [
    "ohe_expected_features = one_hot_encode_fit(X_train)\n",
    "X_train_dummies = one_hot_encode_transform(X_train, expected_features=ohe_expected_features)\n",
    "X_test_dummies = one_hot_encode_transform(X_test, expected_features=ohe_expected_features)\n",
    "X_oot_dummies = one_hot_encode_transform(X_oot, expected_features=ohe_expected_features)"
   ]
  },
  {
   "cell_type": "code",
   "execution_count": 16,
   "metadata": {},
   "outputs": [
    {
     "data": {
      "text/plain": [
       "((1909, 104), (476, 104), (621, 104))"
      ]
     },
     "execution_count": 16,
     "metadata": {},
     "output_type": "execute_result"
    }
   ],
   "source": [
    "X_train_dummies.shape, X_test_dummies.shape, X_oot_dummies.shape, "
   ]
  },
  {
   "cell_type": "markdown",
   "metadata": {},
   "source": [
    "Feature Selection"
   ]
  },
  {
   "cell_type": "code",
   "execution_count": 17,
   "metadata": {},
   "outputs": [],
   "source": [
    "# from feature_selector import XGBFeatureSelector"
   ]
  },
  {
   "cell_type": "code",
   "execution_count": 18,
   "metadata": {},
   "outputs": [],
   "source": [
    "def feature_selector(X_dummies, y, min_features = 20):\n",
    "    \n",
    "    import xgboost as xgb\n",
    "    from sklearn.feature_selection import RFECV\n",
    "    \n",
    "    xgb_model = xgb.XGBRegressor()\n",
    "    \n",
    "    selector = RFECV(xgb_model, step=1, cv=5, min_features_to_select = min_features)\n",
    "    \n",
    "    selector = selector.fit(X_dummies, y)\n",
    "        \n",
    "    return list(selector.get_feature_names_out())"
   ]
  },
  {
   "cell_type": "code",
   "execution_count": 19,
   "metadata": {},
   "outputs": [],
   "source": [
    "selected_feature_list = feature_selector(X_train_dummies, y_train)"
   ]
  },
  {
   "cell_type": "code",
   "execution_count": 20,
   "metadata": {},
   "outputs": [
    {
     "data": {
      "text/plain": [
       "['Home_Total_Game_Score_avg2',\n",
       " 'Home_Against_Total_Score_avg2',\n",
       " 'Home_For_Goals_avg10',\n",
       " 'Home_For_Behinds_avg10',\n",
       " 'Home_For_Total_Score_avg10',\n",
       " 'Home_Against_Goals_avg10',\n",
       " 'Home_Against_Behinds_avg10',\n",
       " 'Home_Against_Scores_avg10',\n",
       " 'Home_Against_Total_Score_avg10',\n",
       " 'Away_Total_Game_Score_avg2',\n",
       " 'Away_For_Goals_avg2',\n",
       " 'Away_For_Scores_avg2',\n",
       " 'Away_For_Total_Score_avg2',\n",
       " 'Away_Against_Behinds_avg2',\n",
       " 'Away_Against_Scores_avg2',\n",
       " 'Away_Against_Total_Score_avg2',\n",
       " 'Away_Total_Game_Score_avg10',\n",
       " 'Away_For_Goals_avg10',\n",
       " 'Away_For_Behinds_avg10',\n",
       " 'Away_For_Scores_avg10',\n",
       " 'Away_Against_Goals_avg10',\n",
       " 'Away_Against_Behinds_avg10',\n",
       " 'Away_Against_Scores_avg10',\n",
       " 'Away_Against_Total_Score_avg10',\n",
       " 'Venue_Docklands',\n",
       " 'Venue_Marrara Oval',\n",
       " 'Venue_Perth Stadium',\n",
       " 'Weather_Type_CLEAR_NIGHT',\n",
       " 'Weather_Type_MOSTLY_CLEAR',\n",
       " 'Weather_Type_RAIN',\n",
       " 'Home_Team_Essendon',\n",
       " 'Away_Team_Adelaide',\n",
       " 'Away_Team_Collingwood',\n",
       " 'Away_Team_Sydney',\n",
       " 'Away_Team_West Coast',\n",
       " 'Away_Team_Western Bulldogs']"
      ]
     },
     "execution_count": 20,
     "metadata": {},
     "output_type": "execute_result"
    }
   ],
   "source": [
    "selected_feature_list"
   ]
  },
  {
   "cell_type": "code",
   "execution_count": 21,
   "metadata": {},
   "outputs": [],
   "source": [
    "def get_selected_feature_data(X_dummies, selected_features):\n",
    "    \n",
    "    X_selected = X_dummies[selected_features]\n",
    "    \n",
    "    return X_selected"
   ]
  },
  {
   "cell_type": "code",
   "execution_count": 22,
   "metadata": {},
   "outputs": [],
   "source": [
    "X_train_selected = get_selected_feature_data(X_train_dummies, selected_feature_list)\n",
    "X_test_selected = get_selected_feature_data(X_test_dummies, selected_feature_list)\n",
    "X_oot_selected = get_selected_feature_data(X_oot_dummies, selected_feature_list)"
   ]
  },
  {
   "cell_type": "code",
   "execution_count": 23,
   "metadata": {},
   "outputs": [],
   "source": [
    "def get_dmatrix(X_selected, y):\n",
    "    \n",
    "    return xgb.DMatrix(X_selected, label=y)"
   ]
  },
  {
   "cell_type": "code",
   "execution_count": 24,
   "metadata": {},
   "outputs": [],
   "source": [
    "dtrain = get_dmatrix(X_train_selected, y_train)\n",
    "dtest = get_dmatrix(X_test_selected, y_test)\n",
    "doot = get_dmatrix(X_oot_selected, y_oot)"
   ]
  },
  {
   "attachments": {},
   "cell_type": "markdown",
   "metadata": {},
   "source": [
    "Optuna Hyperparameter Tuning Class - HyperParameterTuner & XGBHyperparameterTuner"
   ]
  },
  {
   "cell_type": "code",
   "execution_count": 47,
   "metadata": {},
   "outputs": [],
   "source": [
    "from hyperparameter_tuning import XGBHyperparameterTuner"
   ]
  },
  {
   "cell_type": "code",
   "execution_count": 48,
   "metadata": {},
   "outputs": [],
   "source": [
    "xgb_tuner = XGBHyperparameterTuner(X_train_selected, y_train)"
   ]
  },
  {
   "cell_type": "code",
   "execution_count": 49,
   "metadata": {},
   "outputs": [],
   "source": [
    "# xgb_tuner.trials"
   ]
  },
  {
   "cell_type": "code",
   "execution_count": 50,
   "metadata": {},
   "outputs": [
    {
     "name": "stderr",
     "output_type": "stream",
     "text": [
      "\u001b[32m[I 2023-05-08 13:46:10,752]\u001b[0m A new study created in memory with name: no-name-e2d11880-ec78-4de5-bede-fd53ed82d3a0\u001b[0m\n",
      "\u001b[32m[I 2023-05-08 13:46:10,838]\u001b[0m Trial 0 finished with value: 182.10042980436123 and parameters: {'max_depth': 10, 'min_child_weight': 2, 'eta': 0.0005239106241761477, 'gamma': 20.0, 'lambda': 0.001285083154535903, 'alpha': 0.22986932622086753, 'subsample': 0.5426023454918614, 'colsample_bytree': 0.24207474381412536}. Best is trial 0 with value: 182.10042980436123.\u001b[0m\n",
      "/Users/ciaran/opt/anaconda3/envs/afl-total-model-env/lib/python3.9/site-packages/optuna/distributions.py:716: UserWarning: The distribution is specified by [2, 20] and step=5, but the range is not divisible by `step`. It will be replaced by [2, 17].\n",
      "  warnings.warn(\n",
      "\u001b[32m[I 2023-05-08 13:46:10,849]\u001b[0m Trial 1 finished with value: 167.27900421810415 and parameters: {'max_depth': 14, 'min_child_weight': 7, 'eta': 0.00765783329113083, 'gamma': 20.0, 'lambda': 0.6987365620719516, 'alpha': 0.9757835683487616, 'subsample': 0.33701935062615834, 'colsample_bytree': 0.338370210255735}. Best is trial 1 with value: 167.27900421810415.\u001b[0m\n",
      "/Users/ciaran/opt/anaconda3/envs/afl-total-model-env/lib/python3.9/site-packages/optuna/distributions.py:716: UserWarning: The distribution is specified by [2, 20] and step=5, but the range is not divisible by `step`. It will be replaced by [2, 17].\n",
      "  warnings.warn(\n",
      "\u001b[32m[I 2023-05-08 13:46:10,880]\u001b[0m Trial 2 finished with value: 179.74094996061402 and parameters: {'max_depth': 8, 'min_child_weight': 2, 'eta': 0.002072139404333006, 'gamma': 20.0, 'lambda': 0.00016872588748557726, 'alpha': 0.00016400404200260044, 'subsample': 0.6328216345927197, 'colsample_bytree': 0.5604976372436598}. Best is trial 1 with value: 167.27900421810415.\u001b[0m\n",
      "/Users/ciaran/opt/anaconda3/envs/afl-total-model-env/lib/python3.9/site-packages/optuna/distributions.py:716: UserWarning: The distribution is specified by [2, 20] and step=5, but the range is not divisible by `step`. It will be replaced by [2, 17].\n",
      "  warnings.warn(\n",
      "\u001b[32m[I 2023-05-08 13:46:10,924]\u001b[0m Trial 3 finished with value: 183.52372841663447 and parameters: {'max_depth': 16, 'min_child_weight': 7, 'eta': 0.00014952194270038274, 'gamma': 20.0, 'lambda': 0.010095654580403042, 'alpha': 0.5128614547625238, 'subsample': 0.8525007262262232, 'colsample_bytree': 0.8659423251978169}. Best is trial 1 with value: 167.27900421810415.\u001b[0m\n",
      "/Users/ciaran/opt/anaconda3/envs/afl-total-model-env/lib/python3.9/site-packages/optuna/distributions.py:716: UserWarning: The distribution is specified by [2, 20] and step=5, but the range is not divisible by `step`. It will be replaced by [2, 17].\n",
      "  warnings.warn(\n",
      "\u001b[32m[I 2023-05-08 13:46:10,970]\u001b[0m Trial 4 finished with value: 179.51373820086803 and parameters: {'max_depth': 12, 'min_child_weight': 7, 'eta': 0.0010151639998207049, 'gamma': 20.0, 'lambda': 0.00031139743264723503, 'alpha': 0.0014356290164148206, 'subsample': 0.6319021016862056, 'colsample_bytree': 0.678460745126984}. Best is trial 1 with value: 167.27900421810415.\u001b[0m\n",
      "/Users/ciaran/opt/anaconda3/envs/afl-total-model-env/lib/python3.9/site-packages/optuna/distributions.py:716: UserWarning: The distribution is specified by [2, 20] and step=5, but the range is not divisible by `step`. It will be replaced by [2, 17].\n",
      "  warnings.warn(\n",
      "\u001b[32m[I 2023-05-08 13:46:10,986]\u001b[0m Trial 5 finished with value: 149.71653872992246 and parameters: {'max_depth': 4, 'min_child_weight': 17, 'eta': 0.019763988921014202, 'gamma': 20.0, 'lambda': 0.05326553648752616, 'alpha': 0.0003599342038675487, 'subsample': 0.8041854581368693, 'colsample_bytree': 0.33968423934134684}. Best is trial 5 with value: 149.71653872992246.\u001b[0m\n",
      "/Users/ciaran/opt/anaconda3/envs/afl-total-model-env/lib/python3.9/site-packages/optuna/distributions.py:716: UserWarning: The distribution is specified by [2, 20] and step=5, but the range is not divisible by `step`. It will be replaced by [2, 17].\n",
      "  warnings.warn(\n",
      "\u001b[32m[I 2023-05-08 13:46:11,008]\u001b[0m Trial 6 finished with value: 156.88690519188313 and parameters: {'max_depth': 18, 'min_child_weight': 12, 'eta': 0.01409650341375431, 'gamma': 20.0, 'lambda': 0.001661326015240414, 'alpha': 0.5033737877421971, 'subsample': 0.24471238771558596, 'colsample_bytree': 0.7522243063834437}. Best is trial 5 with value: 149.71653872992246.\u001b[0m\n",
      "/Users/ciaran/opt/anaconda3/envs/afl-total-model-env/lib/python3.9/site-packages/optuna/distributions.py:716: UserWarning: The distribution is specified by [2, 20] and step=5, but the range is not divisible by `step`. It will be replaced by [2, 17].\n",
      "  warnings.warn(\n",
      "\u001b[32m[I 2023-05-08 13:46:11,049]\u001b[0m Trial 7 finished with value: 142.66065804279253 and parameters: {'max_depth': 20, 'min_child_weight': 7, 'eta': 0.02394843472708595, 'gamma': 20.0, 'lambda': 0.0002930546998596734, 'alpha': 0.000628354226570266, 'subsample': 0.6073431842576087, 'colsample_bytree': 0.6032662101257513}. Best is trial 7 with value: 142.66065804279253.\u001b[0m\n",
      "/Users/ciaran/opt/anaconda3/envs/afl-total-model-env/lib/python3.9/site-packages/optuna/distributions.py:716: UserWarning: The distribution is specified by [2, 20] and step=5, but the range is not divisible by `step`. It will be replaced by [2, 17].\n",
      "  warnings.warn(\n",
      "\u001b[32m[I 2023-05-08 13:46:11,063]\u001b[0m Trial 8 finished with value: 178.7016995072449 and parameters: {'max_depth': 8, 'min_child_weight': 2, 'eta': 0.002154463091962115, 'gamma': 20.0, 'lambda': 0.8568758508359289, 'alpha': 0.00017853641636883841, 'subsample': 0.733709946998214, 'colsample_bytree': 0.5156886636091496}. Best is trial 7 with value: 142.66065804279253.\u001b[0m\n",
      "/Users/ciaran/opt/anaconda3/envs/afl-total-model-env/lib/python3.9/site-packages/optuna/distributions.py:716: UserWarning: The distribution is specified by [2, 20] and step=5, but the range is not divisible by `step`. It will be replaced by [2, 17].\n",
      "  warnings.warn(\n",
      "\u001b[32m[I 2023-05-08 13:46:11,090]\u001b[0m Trial 9 finished with value: 23.83634882831738 and parameters: {'max_depth': 8, 'min_child_weight': 12, 'eta': 0.25015247573024796, 'gamma': 20.0, 'lambda': 0.0008394777163987341, 'alpha': 0.029617175516929085, 'subsample': 0.5888866813151826, 'colsample_bytree': 0.2402611816567231}. Best is trial 9 with value: 23.83634882831738.\u001b[0m\n",
      "/Users/ciaran/opt/anaconda3/envs/afl-total-model-env/lib/python3.9/site-packages/optuna/distributions.py:716: UserWarning: The distribution is specified by [2, 20] and step=5, but the range is not divisible by `step`. It will be replaced by [2, 17].\n",
      "  warnings.warn(\n",
      "\u001b[32m[I 2023-05-08 13:46:11,128]\u001b[0m Trial 10 finished with value: 24.207740572026882 and parameters: {'max_depth': 2, 'min_child_weight': 17, 'eta': 0.5583643378157434, 'gamma': 20.0, 'lambda': 0.00279773793710697, 'alpha': 0.02784882108277638, 'subsample': 0.4553976160514548, 'colsample_bytree': 0.20830967153188779}. Best is trial 9 with value: 23.83634882831738.\u001b[0m\n",
      "/Users/ciaran/opt/anaconda3/envs/afl-total-model-env/lib/python3.9/site-packages/optuna/distributions.py:716: UserWarning: The distribution is specified by [2, 20] and step=5, but the range is not divisible by `step`. It will be replaced by [2, 17].\n",
      "  warnings.warn(\n",
      "\u001b[32m[I 2023-05-08 13:46:11,159]\u001b[0m Trial 11 finished with value: 22.890671391101197 and parameters: {'max_depth': 2, 'min_child_weight': 17, 'eta': 0.42217270213444397, 'gamma': 20.0, 'lambda': 0.0027613845636071358, 'alpha': 0.027475240459454757, 'subsample': 0.44617545088642235, 'colsample_bytree': 0.21742599277880922}. Best is trial 11 with value: 22.890671391101197.\u001b[0m\n",
      "/Users/ciaran/opt/anaconda3/envs/afl-total-model-env/lib/python3.9/site-packages/optuna/distributions.py:716: UserWarning: The distribution is specified by [2, 20] and step=5, but the range is not divisible by `step`. It will be replaced by [2, 17].\n",
      "  warnings.warn(\n",
      "\u001b[32m[I 2023-05-08 13:46:11,189]\u001b[0m Trial 12 finished with value: 20.7510545341508 and parameters: {'max_depth': 4, 'min_child_weight': 12, 'eta': 0.8278647952096244, 'gamma': 20.0, 'lambda': 0.007945790004438187, 'alpha': 0.0350801650138667, 'subsample': 0.43831515258417447, 'colsample_bytree': 0.39923217414419043}. Best is trial 12 with value: 20.7510545341508.\u001b[0m\n",
      "/Users/ciaran/opt/anaconda3/envs/afl-total-model-env/lib/python3.9/site-packages/optuna/distributions.py:716: UserWarning: The distribution is specified by [2, 20] and step=5, but the range is not divisible by `step`. It will be replaced by [2, 17].\n",
      "  warnings.warn(\n",
      "\u001b[32m[I 2023-05-08 13:46:11,219]\u001b[0m Trial 13 finished with value: 22.46469482681226 and parameters: {'max_depth': 4, 'min_child_weight': 17, 'eta': 0.9318230722190248, 'gamma': 20.0, 'lambda': 0.0168992120947431, 'alpha': 0.0056498619826685385, 'subsample': 0.41482335416914823, 'colsample_bytree': 0.42644361012749105}. Best is trial 12 with value: 20.7510545341508.\u001b[0m\n",
      "/Users/ciaran/opt/anaconda3/envs/afl-total-model-env/lib/python3.9/site-packages/optuna/distributions.py:716: UserWarning: The distribution is specified by [2, 20] and step=5, but the range is not divisible by `step`. It will be replaced by [2, 17].\n",
      "  warnings.warn(\n",
      "\u001b[32m[I 2023-05-08 13:46:11,251]\u001b[0m Trial 14 finished with value: 28.700771596806902 and parameters: {'max_depth': 6, 'min_child_weight': 12, 'eta': 0.980876834580768, 'gamma': 20.0, 'lambda': 0.014030205632595863, 'alpha': 0.004207002478529893, 'subsample': 0.3620195922259238, 'colsample_bytree': 0.4575953495041608}. Best is trial 12 with value: 20.7510545341508.\u001b[0m\n",
      "/Users/ciaran/opt/anaconda3/envs/afl-total-model-env/lib/python3.9/site-packages/optuna/distributions.py:716: UserWarning: The distribution is specified by [2, 20] and step=5, but the range is not divisible by `step`. It will be replaced by [2, 17].\n",
      "  warnings.warn(\n",
      "\u001b[32m[I 2023-05-08 13:46:11,279]\u001b[0m Trial 15 finished with value: 57.10105823249136 and parameters: {'max_depth': 4, 'min_child_weight': 17, 'eta': 0.11481582690942586, 'gamma': 20.0, 'lambda': 0.03672602608771255, 'alpha': 0.004672512862733812, 'subsample': 0.21278577686482428, 'colsample_bytree': 0.4354846196961706}. Best is trial 12 with value: 20.7510545341508.\u001b[0m\n",
      "/Users/ciaran/opt/anaconda3/envs/afl-total-model-env/lib/python3.9/site-packages/optuna/distributions.py:716: UserWarning: The distribution is specified by [2, 20] and step=5, but the range is not divisible by `step`. It will be replaced by [2, 17].\n",
      "  warnings.warn(\n",
      "\u001b[32m[I 2023-05-08 13:46:11,309]\u001b[0m Trial 16 finished with value: 47.088512291997425 and parameters: {'max_depth': 4, 'min_child_weight': 12, 'eta': 0.13260299686314533, 'gamma': 20.0, 'lambda': 0.056535694698661855, 'alpha': 0.011806158467382736, 'subsample': 0.4832447253299539, 'colsample_bytree': 0.4762898995265962}. Best is trial 12 with value: 20.7510545341508.\u001b[0m\n",
      "/Users/ciaran/opt/anaconda3/envs/afl-total-model-env/lib/python3.9/site-packages/optuna/distributions.py:716: UserWarning: The distribution is specified by [2, 20] and step=5, but the range is not divisible by `step`. It will be replaced by [2, 17].\n",
      "  warnings.warn(\n",
      "\u001b[32m[I 2023-05-08 13:46:11,345]\u001b[0m Trial 17 finished with value: 24.945177757117364 and parameters: {'max_depth': 6, 'min_child_weight': 17, 'eta': 0.9109510481626389, 'gamma': 20.0, 'lambda': 0.005808237419280455, 'alpha': 0.08845673499525042, 'subsample': 0.36280544232225265, 'colsample_bytree': 0.3864554122012981}. Best is trial 12 with value: 20.7510545341508.\u001b[0m\n",
      "/Users/ciaran/opt/anaconda3/envs/afl-total-model-env/lib/python3.9/site-packages/optuna/distributions.py:716: UserWarning: The distribution is specified by [2, 20] and step=5, but the range is not divisible by `step`. It will be replaced by [2, 17].\n",
      "  warnings.warn(\n",
      "\u001b[32m[I 2023-05-08 13:46:11,385]\u001b[0m Trial 18 finished with value: 86.1458470852314 and parameters: {'max_depth': 12, 'min_child_weight': 12, 'eta': 0.07528345446292234, 'gamma': 20.0, 'lambda': 0.01949443698933991, 'alpha': 0.002088269569147228, 'subsample': 0.5052013604245188, 'colsample_bytree': 0.5815917337090364}. Best is trial 12 with value: 20.7510545341508.\u001b[0m\n",
      "/Users/ciaran/opt/anaconda3/envs/afl-total-model-env/lib/python3.9/site-packages/optuna/distributions.py:716: UserWarning: The distribution is specified by [2, 20] and step=5, but the range is not divisible by `step`. It will be replaced by [2, 17].\n",
      "  warnings.warn(\n",
      "\u001b[32m[I 2023-05-08 13:46:11,413]\u001b[0m Trial 19 finished with value: 18.548236450785918 and parameters: {'max_depth': 2, 'min_child_weight': 17, 'eta': 0.2721355638708596, 'gamma': 20.0, 'lambda': 0.13616665455377588, 'alpha': 0.08810993093258224, 'subsample': 0.29717873369472203, 'colsample_bytree': 0.3991072483815783}. Best is trial 19 with value: 18.548236450785918.\u001b[0m\n",
      "/Users/ciaran/opt/anaconda3/envs/afl-total-model-env/lib/python3.9/site-packages/optuna/distributions.py:716: UserWarning: The distribution is specified by [2, 20] and step=5, but the range is not divisible by `step`. It will be replaced by [2, 17].\n",
      "  warnings.warn(\n",
      "\u001b[32m[I 2023-05-08 13:46:11,443]\u001b[0m Trial 20 finished with value: 19.568346126042336 and parameters: {'max_depth': 2, 'min_child_weight': 12, 'eta': 0.2610209186128578, 'gamma': 20.0, 'lambda': 0.16061806749776966, 'alpha': 0.10714621243291031, 'subsample': 0.2832871457274058, 'colsample_bytree': 0.334874191573236}. Best is trial 19 with value: 18.548236450785918.\u001b[0m\n",
      "/Users/ciaran/opt/anaconda3/envs/afl-total-model-env/lib/python3.9/site-packages/optuna/distributions.py:716: UserWarning: The distribution is specified by [2, 20] and step=5, but the range is not divisible by `step`. It will be replaced by [2, 17].\n",
      "  warnings.warn(\n",
      "\u001b[32m[I 2023-05-08 13:46:11,474]\u001b[0m Trial 21 finished with value: 20.194444831785948 and parameters: {'max_depth': 2, 'min_child_weight': 12, 'eta': 0.27273003831360604, 'gamma': 20.0, 'lambda': 0.2051340741248844, 'alpha': 0.11013941402435129, 'subsample': 0.2883598614505652, 'colsample_bytree': 0.3263191819204365}. Best is trial 19 with value: 18.548236450785918.\u001b[0m\n",
      "/Users/ciaran/opt/anaconda3/envs/afl-total-model-env/lib/python3.9/site-packages/optuna/distributions.py:716: UserWarning: The distribution is specified by [2, 20] and step=5, but the range is not divisible by `step`. It will be replaced by [2, 17].\n",
      "  warnings.warn(\n",
      "\u001b[32m[I 2023-05-08 13:46:11,504]\u001b[0m Trial 22 finished with value: 22.579677158307284 and parameters: {'max_depth': 2, 'min_child_weight': 12, 'eta': 0.24861387303795096, 'gamma': 20.0, 'lambda': 0.1523020535373909, 'alpha': 0.10895284979503853, 'subsample': 0.271083460561375, 'colsample_bytree': 0.30457622374691085}. Best is trial 19 with value: 18.548236450785918.\u001b[0m\n",
      "/Users/ciaran/opt/anaconda3/envs/afl-total-model-env/lib/python3.9/site-packages/optuna/distributions.py:716: UserWarning: The distribution is specified by [2, 20] and step=5, but the range is not divisible by `step`. It will be replaced by [2, 17].\n",
      "  warnings.warn(\n",
      "\u001b[32m[I 2023-05-08 13:46:11,531]\u001b[0m Trial 23 finished with value: 80.76420998197247 and parameters: {'max_depth': 2, 'min_child_weight': 12, 'eta': 0.08144969102439342, 'gamma': 20.0, 'lambda': 0.19169163255979407, 'alpha': 0.10737354226570296, 'subsample': 0.29380896101189524, 'colsample_bytree': 0.31577406603884806}. Best is trial 19 with value: 18.548236450785918.\u001b[0m\n",
      "/Users/ciaran/opt/anaconda3/envs/afl-total-model-env/lib/python3.9/site-packages/optuna/distributions.py:716: UserWarning: The distribution is specified by [2, 20] and step=5, but the range is not divisible by `step`. It will be replaced by [2, 17].\n",
      "  warnings.warn(\n",
      "\u001b[32m[I 2023-05-08 13:46:11,561]\u001b[0m Trial 24 finished with value: 20.700127336415207 and parameters: {'max_depth': 6, 'min_child_weight': 17, 'eta': 0.2806716904647092, 'gamma': 20.0, 'lambda': 0.2541724272981385, 'alpha': 0.16625094001544957, 'subsample': 0.22843751245968405, 'colsample_bytree': 0.3761631812659345}. Best is trial 19 with value: 18.548236450785918.\u001b[0m\n",
      "/Users/ciaran/opt/anaconda3/envs/afl-total-model-env/lib/python3.9/site-packages/optuna/distributions.py:716: UserWarning: The distribution is specified by [2, 20] and step=5, but the range is not divisible by `step`. It will be replaced by [2, 17].\n",
      "  warnings.warn(\n",
      "\u001b[32m[I 2023-05-08 13:46:11,595]\u001b[0m Trial 25 finished with value: 117.1639933421489 and parameters: {'max_depth': 2, 'min_child_weight': 7, 'eta': 0.04581973347571902, 'gamma': 20.0, 'lambda': 0.08505050441316742, 'alpha': 0.06444919926378208, 'subsample': 0.3003448012308949, 'colsample_bytree': 0.309408273213348}. Best is trial 19 with value: 18.548236450785918.\u001b[0m\n",
      "/Users/ciaran/opt/anaconda3/envs/afl-total-model-env/lib/python3.9/site-packages/optuna/distributions.py:716: UserWarning: The distribution is specified by [2, 20] and step=5, but the range is not divisible by `step`. It will be replaced by [2, 17].\n",
      "  warnings.warn(\n",
      "\u001b[32m[I 2023-05-08 13:46:11,626]\u001b[0m Trial 26 finished with value: 33.7585494672955 and parameters: {'max_depth': 6, 'min_child_weight': 12, 'eta': 0.1790159770431981, 'gamma': 20.0, 'lambda': 0.2573528183760269, 'alpha': 0.23460194823407246, 'subsample': 0.31806897202382534, 'colsample_bytree': 0.27885604451645524}. Best is trial 19 with value: 18.548236450785918.\u001b[0m\n",
      "/Users/ciaran/opt/anaconda3/envs/afl-total-model-env/lib/python3.9/site-packages/optuna/distributions.py:716: UserWarning: The distribution is specified by [2, 20] and step=5, but the range is not divisible by `step`. It will be replaced by [2, 17].\n",
      "  warnings.warn(\n",
      "\u001b[32m[I 2023-05-08 13:46:11,658]\u001b[0m Trial 27 finished with value: 18.725019153016618 and parameters: {'max_depth': 2, 'min_child_weight': 17, 'eta': 0.41126616034370983, 'gamma': 20.0, 'lambda': 0.4137941021148785, 'alpha': 0.05734955187329815, 'subsample': 0.3894911403318578, 'colsample_bytree': 0.3663083282650765}. Best is trial 19 with value: 18.548236450785918.\u001b[0m\n",
      "/Users/ciaran/opt/anaconda3/envs/afl-total-model-env/lib/python3.9/site-packages/optuna/distributions.py:716: UserWarning: The distribution is specified by [2, 20] and step=5, but the range is not divisible by `step`. It will be replaced by [2, 17].\n",
      "  warnings.warn(\n",
      "\u001b[32m[I 2023-05-08 13:46:11,710]\u001b[0m Trial 28 finished with value: 20.365202953492084 and parameters: {'max_depth': 10, 'min_child_weight': 17, 'eta': 0.4108880461965813, 'gamma': 20.0, 'lambda': 0.5025800027574945, 'alpha': 0.056217745599351825, 'subsample': 0.3902821081013067, 'colsample_bytree': 0.4911389425148082}. Best is trial 19 with value: 18.548236450785918.\u001b[0m\n",
      "/Users/ciaran/opt/anaconda3/envs/afl-total-model-env/lib/python3.9/site-packages/optuna/distributions.py:716: UserWarning: The distribution is specified by [2, 20] and step=5, but the range is not divisible by `step`. It will be replaced by [2, 17].\n",
      "  warnings.warn(\n",
      "\u001b[32m[I 2023-05-08 13:46:11,742]\u001b[0m Trial 29 finished with value: 97.83630007087095 and parameters: {'max_depth': 4, 'min_child_weight': 17, 'eta': 0.06066196204309526, 'gamma': 20.0, 'lambda': 0.1053712134978176, 'alpha': 0.011340460691221353, 'subsample': 0.21007964869904766, 'colsample_bytree': 0.2593947432930383}. Best is trial 19 with value: 18.548236450785918.\u001b[0m\n",
      "/Users/ciaran/opt/anaconda3/envs/afl-total-model-env/lib/python3.9/site-packages/optuna/distributions.py:716: UserWarning: The distribution is specified by [2, 20] and step=5, but the range is not divisible by `step`. It will be replaced by [2, 17].\n",
      "  warnings.warn(\n",
      "\u001b[32m[I 2023-05-08 13:46:11,773]\u001b[0m Trial 30 finished with value: 47.490730110216525 and parameters: {'max_depth': 10, 'min_child_weight': 17, 'eta': 0.13707624245254654, 'gamma': 20.0, 'lambda': 0.4781150042521149, 'alpha': 0.2098940435328361, 'subsample': 0.3867867088792794, 'colsample_bytree': 0.42195691878547936}. Best is trial 19 with value: 18.548236450785918.\u001b[0m\n",
      "/Users/ciaran/opt/anaconda3/envs/afl-total-model-env/lib/python3.9/site-packages/optuna/distributions.py:716: UserWarning: The distribution is specified by [2, 20] and step=5, but the range is not divisible by `step`. It will be replaced by [2, 17].\n",
      "  warnings.warn(\n",
      "\u001b[32m[I 2023-05-08 13:46:11,804]\u001b[0m Trial 31 finished with value: 17.45326308084275 and parameters: {'max_depth': 2, 'min_child_weight': 12, 'eta': 0.41294254112407514, 'gamma': 20.0, 'lambda': 0.35560233747051745, 'alpha': 0.05358772178288147, 'subsample': 0.27518999577189024, 'colsample_bytree': 0.3430224483178065}. Best is trial 31 with value: 17.45326308084275.\u001b[0m\n",
      "/Users/ciaran/opt/anaconda3/envs/afl-total-model-env/lib/python3.9/site-packages/optuna/distributions.py:716: UserWarning: The distribution is specified by [2, 20] and step=5, but the range is not divisible by `step`. It will be replaced by [2, 17].\n",
      "  warnings.warn(\n",
      "\u001b[32m[I 2023-05-08 13:46:11,832]\u001b[0m Trial 32 finished with value: 29.431250213354062 and parameters: {'max_depth': 2, 'min_child_weight': 17, 'eta': 0.1935325907447714, 'gamma': 20.0, 'lambda': 0.957656559109002, 'alpha': 0.0483717294581598, 'subsample': 0.2606214504581803, 'colsample_bytree': 0.37932086876703963}. Best is trial 31 with value: 17.45326308084275.\u001b[0m\n",
      "/Users/ciaran/opt/anaconda3/envs/afl-total-model-env/lib/python3.9/site-packages/optuna/distributions.py:716: UserWarning: The distribution is specified by [2, 20] and step=5, but the range is not divisible by `step`. It will be replaced by [2, 17].\n",
      "  warnings.warn(\n",
      "\u001b[32m[I 2023-05-08 13:46:11,860]\u001b[0m Trial 33 finished with value: 19.29850440188018 and parameters: {'max_depth': 4, 'min_child_weight': 12, 'eta': 0.4506289614721145, 'gamma': 20.0, 'lambda': 0.41205228636341723, 'alpha': 0.01975010225771375, 'subsample': 0.3327576823286047, 'colsample_bytree': 0.36196722720525154}. Best is trial 31 with value: 17.45326308084275.\u001b[0m\n",
      "/Users/ciaran/opt/anaconda3/envs/afl-total-model-env/lib/python3.9/site-packages/optuna/distributions.py:716: UserWarning: The distribution is specified by [2, 20] and step=5, but the range is not divisible by `step`. It will be replaced by [2, 17].\n",
      "  warnings.warn(\n",
      "\u001b[32m[I 2023-05-08 13:46:11,893]\u001b[0m Trial 34 finished with value: 19.57440294548785 and parameters: {'max_depth': 6, 'min_child_weight': 7, 'eta': 0.4384718286029565, 'gamma': 20.0, 'lambda': 0.398218852186229, 'alpha': 0.017438531489591094, 'subsample': 0.32129005290239765, 'colsample_bytree': 0.3595636815849495}. Best is trial 31 with value: 17.45326308084275.\u001b[0m\n",
      "/Users/ciaran/opt/anaconda3/envs/afl-total-model-env/lib/python3.9/site-packages/optuna/distributions.py:716: UserWarning: The distribution is specified by [2, 20] and step=5, but the range is not divisible by `step`. It will be replaced by [2, 17].\n",
      "  warnings.warn(\n",
      "\u001b[32m[I 2023-05-08 13:46:11,925]\u001b[0m Trial 35 finished with value: 19.621481654633033 and parameters: {'max_depth': 4, 'min_child_weight': 2, 'eta': 0.544726840953835, 'gamma': 20.0, 'lambda': 0.34131505220892816, 'alpha': 0.021721082984033285, 'subsample': 0.34289654091993466, 'colsample_bytree': 0.265783275123252}. Best is trial 31 with value: 17.45326308084275.\u001b[0m\n",
      "/Users/ciaran/opt/anaconda3/envs/afl-total-model-env/lib/python3.9/site-packages/optuna/distributions.py:716: UserWarning: The distribution is specified by [2, 20] and step=5, but the range is not divisible by `step`. It will be replaced by [2, 17].\n",
      "  warnings.warn(\n",
      "\u001b[32m[I 2023-05-08 13:46:11,961]\u001b[0m Trial 36 finished with value: 129.0678524177751 and parameters: {'max_depth': 8, 'min_child_weight': 17, 'eta': 0.03583301953702076, 'gamma': 20.0, 'lambda': 0.631607987464496, 'alpha': 0.05446731999503661, 'subsample': 0.3342650797493294, 'colsample_bytree': 0.4025917547373376}. Best is trial 31 with value: 17.45326308084275.\u001b[0m\n",
      "/Users/ciaran/opt/anaconda3/envs/afl-total-model-env/lib/python3.9/site-packages/optuna/distributions.py:716: UserWarning: The distribution is specified by [2, 20] and step=5, but the range is not divisible by `step`. It will be replaced by [2, 17].\n",
      "  warnings.warn(\n",
      "\u001b[32m[I 2023-05-08 13:46:12,010]\u001b[0m Trial 37 finished with value: 20.998287132483057 and parameters: {'max_depth': 16, 'min_child_weight': 7, 'eta': 0.5119027477977681, 'gamma': 20.0, 'lambda': 0.33243684306183435, 'alpha': 0.016570159864988776, 'subsample': 0.4000499217793154, 'colsample_bytree': 0.3640026098103366}. Best is trial 31 with value: 17.45326308084275.\u001b[0m\n",
      "/Users/ciaran/opt/anaconda3/envs/afl-total-model-env/lib/python3.9/site-packages/optuna/distributions.py:716: UserWarning: The distribution is specified by [2, 20] and step=5, but the range is not divisible by `step`. It will be replaced by [2, 17].\n",
      "  warnings.warn(\n",
      "\u001b[32m[I 2023-05-08 13:46:12,046]\u001b[0m Trial 38 finished with value: 64.92966123964266 and parameters: {'max_depth': 4, 'min_child_weight': 12, 'eta': 0.10297873017398872, 'gamma': 20.0, 'lambda': 0.6178488432873356, 'alpha': 0.31954426519960927, 'subsample': 0.24820477379792785, 'colsample_bytree': 0.45932670712922563}. Best is trial 31 with value: 17.45326308084275.\u001b[0m\n",
      "/Users/ciaran/opt/anaconda3/envs/afl-total-model-env/lib/python3.9/site-packages/optuna/distributions.py:716: UserWarning: The distribution is specified by [2, 20] and step=5, but the range is not divisible by `step`. It will be replaced by [2, 17].\n",
      "  warnings.warn(\n",
      "\u001b[32m[I 2023-05-08 13:46:12,176]\u001b[0m Trial 39 finished with value: 36.1201786369715 and parameters: {'max_depth': 14, 'min_child_weight': 17, 'eta': 0.16508092422049864, 'gamma': 20.0, 'lambda': 0.11858572310761743, 'alpha': 0.0411400622241452, 'subsample': 0.371971317918365, 'colsample_bytree': 0.2985018623053429}. Best is trial 31 with value: 17.45326308084275.\u001b[0m\n",
      "/Users/ciaran/opt/anaconda3/envs/afl-total-model-env/lib/python3.9/site-packages/optuna/distributions.py:716: UserWarning: The distribution is specified by [2, 20] and step=5, but the range is not divisible by `step`. It will be replaced by [2, 17].\n",
      "  warnings.warn(\n",
      "\u001b[32m[I 2023-05-08 13:46:12,212]\u001b[0m Trial 40 finished with value: 170.84437565336472 and parameters: {'max_depth': 2, 'min_child_weight': 12, 'eta': 0.007454525278391779, 'gamma': 20.0, 'lambda': 0.6082819212083186, 'alpha': 0.7069638653550103, 'subsample': 0.3414242235926484, 'colsample_bytree': 0.5125059092825863}. Best is trial 31 with value: 17.45326308084275.\u001b[0m\n",
      "/Users/ciaran/opt/anaconda3/envs/afl-total-model-env/lib/python3.9/site-packages/optuna/distributions.py:716: UserWarning: The distribution is specified by [2, 20] and step=5, but the range is not divisible by `step`. It will be replaced by [2, 17].\n",
      "  warnings.warn(\n",
      "\u001b[32m[I 2023-05-08 13:46:12,243]\u001b[0m Trial 41 finished with value: 19.456335877439837 and parameters: {'max_depth': 2, 'min_child_weight': 12, 'eta': 0.35810143552803025, 'gamma': 20.0, 'lambda': 0.17076017935863008, 'alpha': 0.06764142837690477, 'subsample': 0.2831134987533931, 'colsample_bytree': 0.3615115332205531}. Best is trial 31 with value: 17.45326308084275.\u001b[0m\n",
      "/Users/ciaran/opt/anaconda3/envs/afl-total-model-env/lib/python3.9/site-packages/optuna/distributions.py:716: UserWarning: The distribution is specified by [2, 20] and step=5, but the range is not divisible by `step`. It will be replaced by [2, 17].\n",
      "  warnings.warn(\n",
      "\u001b[32m[I 2023-05-08 13:46:12,276]\u001b[0m Trial 42 finished with value: 18.600567184516184 and parameters: {'max_depth': 2, 'min_child_weight': 12, 'eta': 0.41110861215509303, 'gamma': 20.0, 'lambda': 0.9395552297420348, 'alpha': 0.06982028569143617, 'subsample': 0.24289842728638053, 'colsample_bytree': 0.3387255857375753}. Best is trial 31 with value: 17.45326308084275.\u001b[0m\n",
      "/Users/ciaran/opt/anaconda3/envs/afl-total-model-env/lib/python3.9/site-packages/optuna/distributions.py:716: UserWarning: The distribution is specified by [2, 20] and step=5, but the range is not divisible by `step`. It will be replaced by [2, 17].\n",
      "  warnings.warn(\n",
      "\u001b[32m[I 2023-05-08 13:46:12,307]\u001b[0m Trial 43 finished with value: 21.515726024175873 and parameters: {'max_depth': 4, 'min_child_weight': 7, 'eta': 0.6216321316209853, 'gamma': 20.0, 'lambda': 0.8868061732472153, 'alpha': 0.029079908305584958, 'subsample': 0.20351111560547286, 'colsample_bytree': 0.3501563279307852}. Best is trial 31 with value: 17.45326308084275.\u001b[0m\n",
      "/Users/ciaran/opt/anaconda3/envs/afl-total-model-env/lib/python3.9/site-packages/optuna/distributions.py:716: UserWarning: The distribution is specified by [2, 20] and step=5, but the range is not divisible by `step`. It will be replaced by [2, 17].\n",
      "  warnings.warn(\n",
      "\u001b[32m[I 2023-05-08 13:46:12,339]\u001b[0m Trial 44 finished with value: 20.614216914745864 and parameters: {'max_depth': 4, 'min_child_weight': 12, 'eta': 0.3314743118233363, 'gamma': 20.0, 'lambda': 0.4419435736653861, 'alpha': 0.04228216792810499, 'subsample': 0.25133187470277435, 'colsample_bytree': 0.23720068363648095}. Best is trial 31 with value: 17.45326308084275.\u001b[0m\n",
      "/Users/ciaran/opt/anaconda3/envs/afl-total-model-env/lib/python3.9/site-packages/optuna/distributions.py:716: UserWarning: The distribution is specified by [2, 20] and step=5, but the range is not divisible by `step`. It will be replaced by [2, 17].\n",
      "  warnings.warn(\n",
      "\u001b[32m[I 2023-05-08 13:46:12,371]\u001b[0m Trial 45 finished with value: 20.118081472389836 and parameters: {'max_depth': 2, 'min_child_weight': 17, 'eta': 0.7244332022170838, 'gamma': 20.0, 'lambda': 0.9438205623884638, 'alpha': 0.1703119848213415, 'subsample': 0.24039310029677252, 'colsample_bytree': 0.27253799213087315}. Best is trial 31 with value: 17.45326308084275.\u001b[0m\n",
      "/Users/ciaran/opt/anaconda3/envs/afl-total-model-env/lib/python3.9/site-packages/optuna/distributions.py:716: UserWarning: The distribution is specified by [2, 20] and step=5, but the range is not divisible by `step`. It will be replaced by [2, 17].\n",
      "  warnings.warn(\n",
      "\u001b[32m[I 2023-05-08 13:46:12,404]\u001b[0m Trial 46 finished with value: 29.916295942107435 and parameters: {'max_depth': 6, 'min_child_weight': 2, 'eta': 0.18833261667562726, 'gamma': 20.0, 'lambda': 0.3005767417851874, 'alpha': 0.01936149753132012, 'subsample': 0.4164645550662984, 'colsample_bytree': 0.4004676858881276}. Best is trial 31 with value: 17.45326308084275.\u001b[0m\n",
      "/Users/ciaran/opt/anaconda3/envs/afl-total-model-env/lib/python3.9/site-packages/optuna/distributions.py:716: UserWarning: The distribution is specified by [2, 20] and step=5, but the range is not divisible by `step`. It will be replaced by [2, 17].\n",
      "  warnings.warn(\n",
      "\u001b[32m[I 2023-05-08 13:46:12,443]\u001b[0m Trial 47 finished with value: 25.082344998505697 and parameters: {'max_depth': 20, 'min_child_weight': 12, 'eta': 0.6355174882170668, 'gamma': 20.0, 'lambda': 0.42382486879096, 'alpha': 0.033592228098969924, 'subsample': 0.3091128434783012, 'colsample_bytree': 0.33012991182980317}. Best is trial 31 with value: 17.45326308084275.\u001b[0m\n",
      "/Users/ciaran/opt/anaconda3/envs/afl-total-model-env/lib/python3.9/site-packages/optuna/distributions.py:716: UserWarning: The distribution is specified by [2, 20] and step=5, but the range is not divisible by `step`. It will be replaced by [2, 17].\n",
      "  warnings.warn(\n",
      "\u001b[32m[I 2023-05-08 13:46:12,475]\u001b[0m Trial 48 finished with value: 17.955342269521438 and parameters: {'max_depth': 4, 'min_child_weight': 17, 'eta': 0.41768764677320275, 'gamma': 20.0, 'lambda': 0.6402908345467677, 'alpha': 0.06647981354283737, 'subsample': 0.34350411355836186, 'colsample_bytree': 0.42014295139970936}. Best is trial 31 with value: 17.45326308084275.\u001b[0m\n",
      "/Users/ciaran/opt/anaconda3/envs/afl-total-model-env/lib/python3.9/site-packages/optuna/distributions.py:716: UserWarning: The distribution is specified by [2, 20] and step=5, but the range is not divisible by `step`. It will be replaced by [2, 17].\n",
      "  warnings.warn(\n",
      "\u001b[32m[I 2023-05-08 13:46:12,507]\u001b[0m Trial 49 finished with value: 20.50233262479202 and parameters: {'max_depth': 2, 'min_child_weight': 17, 'eta': 0.9634820132068249, 'gamma': 20.0, 'lambda': 0.7532384819897081, 'alpha': 0.3528485017623337, 'subsample': 0.2666661440032796, 'colsample_bytree': 0.42900902049680945}. Best is trial 31 with value: 17.45326308084275.\u001b[0m\n",
      "/Users/ciaran/opt/anaconda3/envs/afl-total-model-env/lib/python3.9/site-packages/optuna/distributions.py:716: UserWarning: The distribution is specified by [2, 20] and step=5, but the range is not divisible by `step`. It will be replaced by [2, 17].\n",
      "  warnings.warn(\n",
      "\u001b[32m[I 2023-05-08 13:46:12,541]\u001b[0m Trial 50 finished with value: 67.23569673437459 and parameters: {'max_depth': 8, 'min_child_weight': 17, 'eta': 0.0994123194859953, 'gamma': 20.0, 'lambda': 0.24196201749294236, 'alpha': 0.07627289290951722, 'subsample': 0.22633013058761764, 'colsample_bytree': 0.5424246171770005}. Best is trial 31 with value: 17.45326308084275.\u001b[0m\n",
      "/Users/ciaran/opt/anaconda3/envs/afl-total-model-env/lib/python3.9/site-packages/optuna/distributions.py:716: UserWarning: The distribution is specified by [2, 20] and step=5, but the range is not divisible by `step`. It will be replaced by [2, 17].\n",
      "  warnings.warn(\n",
      "\u001b[32m[I 2023-05-08 13:46:12,574]\u001b[0m Trial 51 finished with value: 17.67954525076728 and parameters: {'max_depth': 4, 'min_child_weight': 17, 'eta': 0.39575105797210597, 'gamma': 20.0, 'lambda': 0.5867018826040312, 'alpha': 0.06871505199777284, 'subsample': 0.3395466392640253, 'colsample_bytree': 0.4017228147759361}. Best is trial 31 with value: 17.45326308084275.\u001b[0m\n",
      "/Users/ciaran/opt/anaconda3/envs/afl-total-model-env/lib/python3.9/site-packages/optuna/distributions.py:716: UserWarning: The distribution is specified by [2, 20] and step=5, but the range is not divisible by `step`. It will be replaced by [2, 17].\n",
      "  warnings.warn(\n",
      "\u001b[32m[I 2023-05-08 13:46:12,605]\u001b[0m Trial 52 finished with value: 18.28065949998122 and parameters: {'max_depth': 4, 'min_child_weight': 17, 'eta': 0.3260848175839498, 'gamma': 20.0, 'lambda': 0.6712215159632683, 'alpha': 0.15448352884958508, 'subsample': 0.3579949940450021, 'colsample_bytree': 0.4466407322966751}. Best is trial 31 with value: 17.45326308084275.\u001b[0m\n",
      "/Users/ciaran/opt/anaconda3/envs/afl-total-model-env/lib/python3.9/site-packages/optuna/distributions.py:716: UserWarning: The distribution is specified by [2, 20] and step=5, but the range is not divisible by `step`. It will be replaced by [2, 17].\n",
      "  warnings.warn(\n",
      "\u001b[32m[I 2023-05-08 13:46:12,639]\u001b[0m Trial 53 finished with value: 27.32992355863222 and parameters: {'max_depth': 4, 'min_child_weight': 17, 'eta': 0.19869878948145417, 'gamma': 20.0, 'lambda': 0.6345453361128375, 'alpha': 0.07459061990838452, 'subsample': 0.3493028560410918, 'colsample_bytree': 0.45313257532380224}. Best is trial 31 with value: 17.45326308084275.\u001b[0m\n",
      "/Users/ciaran/opt/anaconda3/envs/afl-total-model-env/lib/python3.9/site-packages/optuna/distributions.py:716: UserWarning: The distribution is specified by [2, 20] and step=5, but the range is not divisible by `step`. It will be replaced by [2, 17].\n",
      "  warnings.warn(\n",
      "\u001b[32m[I 2023-05-08 13:46:12,674]\u001b[0m Trial 54 finished with value: 19.914461357176233 and parameters: {'max_depth': 6, 'min_child_weight': 17, 'eta': 0.304223139360259, 'gamma': 20.0, 'lambda': 0.974111151921547, 'alpha': 0.12922772720212708, 'subsample': 0.29873295839322467, 'colsample_bytree': 0.4131328377723505}. Best is trial 31 with value: 17.45326308084275.\u001b[0m\n",
      "/Users/ciaran/opt/anaconda3/envs/afl-total-model-env/lib/python3.9/site-packages/optuna/distributions.py:716: UserWarning: The distribution is specified by [2, 20] and step=5, but the range is not divisible by `step`. It will be replaced by [2, 17].\n",
      "  warnings.warn(\n",
      "\u001b[32m[I 2023-05-08 13:46:12,710]\u001b[0m Trial 55 finished with value: 21.598053119074358 and parameters: {'max_depth': 4, 'min_child_weight': 17, 'eta': 0.6688549874864742, 'gamma': 20.0, 'lambda': 0.632259222644017, 'alpha': 0.14636407867908488, 'subsample': 0.36836406644931313, 'colsample_bytree': 0.4395411824347558}. Best is trial 31 with value: 17.45326308084275.\u001b[0m\n",
      "/Users/ciaran/opt/anaconda3/envs/afl-total-model-env/lib/python3.9/site-packages/optuna/distributions.py:716: UserWarning: The distribution is specified by [2, 20] and step=5, but the range is not divisible by `step`. It will be replaced by [2, 17].\n",
      "  warnings.warn(\n",
      "\u001b[32m[I 2023-05-08 13:46:12,744]\u001b[0m Trial 56 finished with value: 47.282545534447785 and parameters: {'max_depth': 8, 'min_child_weight': 17, 'eta': 0.1326392261840966, 'gamma': 20.0, 'lambda': 0.3075278876793442, 'alpha': 0.0865714009648104, 'subsample': 0.3102883736782706, 'colsample_bytree': 0.40335847479950376}. Best is trial 31 with value: 17.45326308084275.\u001b[0m\n",
      "/Users/ciaran/opt/anaconda3/envs/afl-total-model-env/lib/python3.9/site-packages/optuna/distributions.py:716: UserWarning: The distribution is specified by [2, 20] and step=5, but the range is not divisible by `step`. It will be replaced by [2, 17].\n",
      "  warnings.warn(\n",
      "\u001b[32m[I 2023-05-08 13:46:12,775]\u001b[0m Trial 57 finished with value: 18.04954738471914 and parameters: {'max_depth': 4, 'min_child_weight': 17, 'eta': 0.3254555084782562, 'gamma': 20.0, 'lambda': 0.2168865105664308, 'alpha': 0.27623343439541875, 'subsample': 0.27886836835417556, 'colsample_bytree': 0.4780227148451064}. Best is trial 31 with value: 17.45326308084275.\u001b[0m\n",
      "/Users/ciaran/opt/anaconda3/envs/afl-total-model-env/lib/python3.9/site-packages/optuna/distributions.py:716: UserWarning: The distribution is specified by [2, 20] and step=5, but the range is not divisible by `step`. It will be replaced by [2, 17].\n",
      "  warnings.warn(\n",
      "\u001b[32m[I 2023-05-08 13:46:12,810]\u001b[0m Trial 58 finished with value: 24.627329035099766 and parameters: {'max_depth': 6, 'min_child_weight': 17, 'eta': 0.21604700896711468, 'gamma': 20.0, 'lambda': 0.22646405032889677, 'alpha': 0.29015423431577947, 'subsample': 0.45520594533152564, 'colsample_bytree': 0.4882508926660363}. Best is trial 31 with value: 17.45326308084275.\u001b[0m\n",
      "/Users/ciaran/opt/anaconda3/envs/afl-total-model-env/lib/python3.9/site-packages/optuna/distributions.py:716: UserWarning: The distribution is specified by [2, 20] and step=5, but the range is not divisible by `step`. It will be replaced by [2, 17].\n",
      "  warnings.warn(\n",
      "\u001b[32m[I 2023-05-08 13:46:12,863]\u001b[0m Trial 59 finished with value: 19.00436912605018 and parameters: {'max_depth': 4, 'min_child_weight': 17, 'eta': 0.29402234965685403, 'gamma': 20.0, 'lambda': 0.14792004337768397, 'alpha': 0.1837486252685392, 'subsample': 0.427879141642774, 'colsample_bytree': 0.4662490500069631}. Best is trial 31 with value: 17.45326308084275.\u001b[0m\n",
      "/Users/ciaran/opt/anaconda3/envs/afl-total-model-env/lib/python3.9/site-packages/optuna/distributions.py:716: UserWarning: The distribution is specified by [2, 20] and step=5, but the range is not divisible by `step`. It will be replaced by [2, 17].\n",
      "  warnings.warn(\n",
      "\u001b[32m[I 2023-05-08 13:46:12,926]\u001b[0m Trial 60 finished with value: 23.78478407291489 and parameters: {'max_depth': 6, 'min_child_weight': 17, 'eta': 0.7628129217537638, 'gamma': 20.0, 'lambda': 0.07368127993538182, 'alpha': 0.4095803031470366, 'subsample': 0.2732937544708278, 'colsample_bytree': 0.4475630718280003}. Best is trial 31 with value: 17.45326308084275.\u001b[0m\n",
      "/Users/ciaran/opt/anaconda3/envs/afl-total-model-env/lib/python3.9/site-packages/optuna/distributions.py:716: UserWarning: The distribution is specified by [2, 20] and step=5, but the range is not divisible by `step`. It will be replaced by [2, 17].\n",
      "  warnings.warn(\n",
      "\u001b[32m[I 2023-05-08 13:46:12,957]\u001b[0m Trial 61 finished with value: 18.423965137228546 and parameters: {'max_depth': 2, 'min_child_weight': 17, 'eta': 0.35995690291037546, 'gamma': 20.0, 'lambda': 0.5501404983456787, 'alpha': 0.23589405955510964, 'subsample': 0.24186405750225637, 'colsample_bytree': 0.3983363178207272}. Best is trial 31 with value: 17.45326308084275.\u001b[0m\n",
      "/Users/ciaran/opt/anaconda3/envs/afl-total-model-env/lib/python3.9/site-packages/optuna/distributions.py:716: UserWarning: The distribution is specified by [2, 20] and step=5, but the range is not divisible by `step`. It will be replaced by [2, 17].\n",
      "  warnings.warn(\n",
      "\u001b[32m[I 2023-05-08 13:46:12,990]\u001b[0m Trial 62 finished with value: 22.5715055067555 and parameters: {'max_depth': 2, 'min_child_weight': 17, 'eta': 0.2556647198128224, 'gamma': 20.0, 'lambda': 0.2833650991038949, 'alpha': 0.24682489460594478, 'subsample': 0.282460392475722, 'colsample_bytree': 0.43126743475903484}. Best is trial 31 with value: 17.45326308084275.\u001b[0m\n",
      "/Users/ciaran/opt/anaconda3/envs/afl-total-model-env/lib/python3.9/site-packages/optuna/distributions.py:716: UserWarning: The distribution is specified by [2, 20] and step=5, but the range is not divisible by `step`. It will be replaced by [2, 17].\n",
      "  warnings.warn(\n",
      "\u001b[32m[I 2023-05-08 13:46:13,037]\u001b[0m Trial 63 finished with value: 20.060435907647047 and parameters: {'max_depth': 4, 'min_child_weight': 17, 'eta': 0.5420526931972464, 'gamma': 20.0, 'lambda': 0.5221578339868123, 'alpha': 0.14287916229190226, 'subsample': 0.31570394859420126, 'colsample_bytree': 0.38054170469507537}. Best is trial 31 with value: 17.45326308084275.\u001b[0m\n",
      "/Users/ciaran/opt/anaconda3/envs/afl-total-model-env/lib/python3.9/site-packages/optuna/distributions.py:716: UserWarning: The distribution is specified by [2, 20] and step=5, but the range is not divisible by `step`. It will be replaced by [2, 17].\n",
      "  warnings.warn(\n",
      "\u001b[32m[I 2023-05-08 13:46:13,070]\u001b[0m Trial 64 finished with value: 23.334087943108738 and parameters: {'max_depth': 4, 'min_child_weight': 17, 'eta': 0.22205469569510672, 'gamma': 20.0, 'lambda': 0.20139356927085802, 'alpha': 0.48783432182748615, 'subsample': 0.22896364929041935, 'colsample_bytree': 0.41467976948183033}. Best is trial 31 with value: 17.45326308084275.\u001b[0m\n",
      "/Users/ciaran/opt/anaconda3/envs/afl-total-model-env/lib/python3.9/site-packages/optuna/distributions.py:716: UserWarning: The distribution is specified by [2, 20] and step=5, but the range is not divisible by `step`. It will be replaced by [2, 17].\n",
      "  warnings.warn(\n",
      "\u001b[32m[I 2023-05-08 13:46:13,103]\u001b[0m Trial 65 finished with value: 41.46853673024495 and parameters: {'max_depth': 2, 'min_child_weight': 17, 'eta': 0.152639454761974, 'gamma': 20.0, 'lambda': 0.6654947636974311, 'alpha': 0.21651542396558252, 'subsample': 0.360895597595193, 'colsample_bytree': 0.47521504034722944}. Best is trial 31 with value: 17.45326308084275.\u001b[0m\n",
      "/Users/ciaran/opt/anaconda3/envs/afl-total-model-env/lib/python3.9/site-packages/optuna/distributions.py:716: UserWarning: The distribution is specified by [2, 20] and step=5, but the range is not divisible by `step`. It will be replaced by [2, 17].\n",
      "  warnings.warn(\n",
      "\u001b[32m[I 2023-05-08 13:46:13,137]\u001b[0m Trial 66 finished with value: 18.27953509758157 and parameters: {'max_depth': 18, 'min_child_weight': 17, 'eta': 0.3612032788628028, 'gamma': 20.0, 'lambda': 0.1280548331203666, 'alpha': 0.10869356140778683, 'subsample': 0.20086744991992747, 'colsample_bytree': 0.38640893621632183}. Best is trial 31 with value: 17.45326308084275.\u001b[0m\n",
      "/Users/ciaran/opt/anaconda3/envs/afl-total-model-env/lib/python3.9/site-packages/optuna/distributions.py:716: UserWarning: The distribution is specified by [2, 20] and step=5, but the range is not divisible by `step`. It will be replaced by [2, 17].\n",
      "  warnings.warn(\n",
      "\u001b[32m[I 2023-05-08 13:46:13,174]\u001b[0m Trial 67 finished with value: 26.23783972301877 and parameters: {'max_depth': 16, 'min_child_weight': 17, 'eta': 0.787258960231101, 'gamma': 20.0, 'lambda': 0.3648916451502512, 'alpha': 0.12435929690749514, 'subsample': 0.2047584289372056, 'colsample_bytree': 0.3916923574526003}. Best is trial 31 with value: 17.45326308084275.\u001b[0m\n",
      "/Users/ciaran/opt/anaconda3/envs/afl-total-model-env/lib/python3.9/site-packages/optuna/distributions.py:716: UserWarning: The distribution is specified by [2, 20] and step=5, but the range is not divisible by `step`. It will be replaced by [2, 17].\n",
      "  warnings.warn(\n",
      "\u001b[32m[I 2023-05-08 13:46:13,214]\u001b[0m Trial 68 finished with value: 19.100879635427077 and parameters: {'max_depth': 18, 'min_child_weight': 17, 'eta': 0.4226933975744583, 'gamma': 20.0, 'lambda': 0.18878819265955035, 'alpha': 0.18838053963908066, 'subsample': 0.2528935246282389, 'colsample_bytree': 0.5006409261539346}. Best is trial 31 with value: 17.45326308084275.\u001b[0m\n",
      "/Users/ciaran/opt/anaconda3/envs/afl-total-model-env/lib/python3.9/site-packages/optuna/distributions.py:716: UserWarning: The distribution is specified by [2, 20] and step=5, but the range is not divisible by `step`. It will be replaced by [2, 17].\n",
      "  warnings.warn(\n",
      "\u001b[32m[I 2023-05-08 13:46:13,249]\u001b[0m Trial 69 finished with value: 19.949628415721552 and parameters: {'max_depth': 12, 'min_child_weight': 17, 'eta': 0.35046772970427603, 'gamma': 20.0, 'lambda': 0.10973555962110385, 'alpha': 0.09727437256278837, 'subsample': 0.21867924774866881, 'colsample_bytree': 0.44394828692327476}. Best is trial 31 with value: 17.45326308084275.\u001b[0m\n",
      "/Users/ciaran/opt/anaconda3/envs/afl-total-model-env/lib/python3.9/site-packages/optuna/distributions.py:716: UserWarning: The distribution is specified by [2, 20] and step=5, but the range is not divisible by `step`. It will be replaced by [2, 17].\n",
      "  warnings.warn(\n",
      "\u001b[32m[I 2023-05-08 13:46:13,286]\u001b[0m Trial 70 finished with value: 20.111588308317142 and parameters: {'max_depth': 18, 'min_child_weight': 17, 'eta': 0.5189924253779201, 'gamma': 20.0, 'lambda': 0.5386153432253731, 'alpha': 0.2526535814138784, 'subsample': 0.26680579433257934, 'colsample_bytree': 0.5255852961144528}. Best is trial 31 with value: 17.45326308084275.\u001b[0m\n",
      "/Users/ciaran/opt/anaconda3/envs/afl-total-model-env/lib/python3.9/site-packages/optuna/distributions.py:716: UserWarning: The distribution is specified by [2, 20] and step=5, but the range is not divisible by `step`. It will be replaced by [2, 17].\n",
      "  warnings.warn(\n",
      "\u001b[32m[I 2023-05-08 13:46:13,315]\u001b[0m Trial 71 finished with value: 20.552119587050246 and parameters: {'max_depth': 2, 'min_child_weight': 17, 'eta': 0.3092071428605828, 'gamma': 20.0, 'lambda': 0.2527767893019367, 'alpha': 0.0964515312485208, 'subsample': 0.29360732915350823, 'colsample_bytree': 0.4176547306800528}. Best is trial 31 with value: 17.45326308084275.\u001b[0m\n",
      "/Users/ciaran/opt/anaconda3/envs/afl-total-model-env/lib/python3.9/site-packages/optuna/distributions.py:716: UserWarning: The distribution is specified by [2, 20] and step=5, but the range is not divisible by `step`. It will be replaced by [2, 17].\n",
      "  warnings.warn(\n",
      "\u001b[32m[I 2023-05-08 13:46:13,349]\u001b[0m Trial 72 finished with value: 37.31768332016572 and parameters: {'max_depth': 14, 'min_child_weight': 17, 'eta': 0.16327827223896796, 'gamma': 20.0, 'lambda': 0.14296285689815688, 'alpha': 0.14258064424561798, 'subsample': 0.33451654246840984, 'colsample_bytree': 0.3933611743962511}. Best is trial 31 with value: 17.45326308084275.\u001b[0m\n",
      "/Users/ciaran/opt/anaconda3/envs/afl-total-model-env/lib/python3.9/site-packages/optuna/distributions.py:716: UserWarning: The distribution is specified by [2, 20] and step=5, but the range is not divisible by `step`. It will be replaced by [2, 17].\n",
      "  warnings.warn(\n",
      "\u001b[32m[I 2023-05-08 13:46:13,379]\u001b[0m Trial 73 finished with value: 23.708208713199433 and parameters: {'max_depth': 4, 'min_child_weight': 17, 'eta': 0.228676954988701, 'gamma': 20.0, 'lambda': 0.35803306794520956, 'alpha': 0.053187660344838635, 'subsample': 0.23308237722589764, 'colsample_bytree': 0.4738655262888783}. Best is trial 31 with value: 17.45326308084275.\u001b[0m\n",
      "/Users/ciaran/opt/anaconda3/envs/afl-total-model-env/lib/python3.9/site-packages/optuna/distributions.py:716: UserWarning: The distribution is specified by [2, 20] and step=5, but the range is not divisible by `step`. It will be replaced by [2, 17].\n",
      "  warnings.warn(\n",
      "\u001b[32m[I 2023-05-08 13:46:13,408]\u001b[0m Trial 74 finished with value: 18.83299937502005 and parameters: {'max_depth': 2, 'min_child_weight': 17, 'eta': 0.5617382536366835, 'gamma': 20.0, 'lambda': 0.7769901100025399, 'alpha': 0.039314494154779826, 'subsample': 0.320051894251223, 'colsample_bytree': 0.3780204906906609}. Best is trial 31 with value: 17.45326308084275.\u001b[0m\n",
      "/Users/ciaran/opt/anaconda3/envs/afl-total-model-env/lib/python3.9/site-packages/optuna/distributions.py:716: UserWarning: The distribution is specified by [2, 20] and step=5, but the range is not divisible by `step`. It will be replaced by [2, 17].\n",
      "  warnings.warn(\n",
      "\u001b[32m[I 2023-05-08 13:46:13,439]\u001b[0m Trial 75 finished with value: 20.06614133125485 and parameters: {'max_depth': 6, 'min_child_weight': 17, 'eta': 0.3605148503606593, 'gamma': 20.0, 'lambda': 0.49210570660356534, 'alpha': 0.28879586527063145, 'subsample': 0.27456728266781044, 'colsample_bytree': 0.34329281692586283}. Best is trial 31 with value: 17.45326308084275.\u001b[0m\n",
      "/Users/ciaran/opt/anaconda3/envs/afl-total-model-env/lib/python3.9/site-packages/optuna/distributions.py:716: UserWarning: The distribution is specified by [2, 20] and step=5, but the range is not divisible by `step`. It will be replaced by [2, 17].\n",
      "  warnings.warn(\n",
      "\u001b[32m[I 2023-05-08 13:46:13,479]\u001b[0m Trial 76 finished with value: 23.144804982736108 and parameters: {'max_depth': 4, 'min_child_weight': 17, 'eta': 0.8407189856829627, 'gamma': 20.0, 'lambda': 0.04440490213422055, 'alpha': 0.11304133431553613, 'subsample': 0.3015708303491757, 'colsample_bytree': 0.4328834388339817}. Best is trial 31 with value: 17.45326308084275.\u001b[0m\n",
      "/Users/ciaran/opt/anaconda3/envs/afl-total-model-env/lib/python3.9/site-packages/optuna/distributions.py:716: UserWarning: The distribution is specified by [2, 20] and step=5, but the range is not divisible by `step`. It will be replaced by [2, 17].\n",
      "  warnings.warn(\n",
      "\u001b[32m[I 2023-05-08 13:46:13,508]\u001b[0m Trial 77 finished with value: 60.04759985278632 and parameters: {'max_depth': 2, 'min_child_weight': 17, 'eta': 0.11032741110257639, 'gamma': 20.0, 'lambda': 0.29592785335472716, 'alpha': 0.07785659461579574, 'subsample': 0.20173822437162703, 'colsample_bytree': 0.3273862990616077}. Best is trial 31 with value: 17.45326308084275.\u001b[0m\n",
      "/Users/ciaran/opt/anaconda3/envs/afl-total-model-env/lib/python3.9/site-packages/optuna/distributions.py:716: UserWarning: The distribution is specified by [2, 20] and step=5, but the range is not divisible by `step`. It will be replaced by [2, 17].\n",
      "  warnings.warn(\n",
      "\u001b[32m[I 2023-05-08 13:46:13,547]\u001b[0m Trial 78 finished with value: 22.83908841145787 and parameters: {'max_depth': 10, 'min_child_weight': 17, 'eta': 0.23378698166187234, 'gamma': 20.0, 'lambda': 0.20311165351681604, 'alpha': 0.17333213512066248, 'subsample': 0.2610960651968565, 'colsample_bytree': 0.4546819027578648}. Best is trial 31 with value: 17.45326308084275.\u001b[0m\n",
      "/Users/ciaran/opt/anaconda3/envs/afl-total-model-env/lib/python3.9/site-packages/optuna/distributions.py:716: UserWarning: The distribution is specified by [2, 20] and step=5, but the range is not divisible by `step`. It will be replaced by [2, 17].\n",
      "  warnings.warn(\n",
      "\u001b[32m[I 2023-05-08 13:46:13,577]\u001b[0m Trial 79 finished with value: 18.52234312336494 and parameters: {'max_depth': 2, 'min_child_weight': 17, 'eta': 0.4683303449758231, 'gamma': 20.0, 'lambda': 0.7743829006392197, 'alpha': 0.630362876579512, 'subsample': 0.35041327721153703, 'colsample_bytree': 0.38141136856004504}. Best is trial 31 with value: 17.45326308084275.\u001b[0m\n",
      "/Users/ciaran/opt/anaconda3/envs/afl-total-model-env/lib/python3.9/site-packages/optuna/distributions.py:716: UserWarning: The distribution is specified by [2, 20] and step=5, but the range is not divisible by `step`. It will be replaced by [2, 17].\n",
      "  warnings.warn(\n",
      "\u001b[32m[I 2023-05-08 13:46:13,613]\u001b[0m Trial 80 finished with value: 18.8492386031396 and parameters: {'max_depth': 16, 'min_child_weight': 17, 'eta': 0.435910805336907, 'gamma': 20.0, 'lambda': 0.7614928239473626, 'alpha': 0.7913658800283498, 'subsample': 0.3550521117622681, 'colsample_bytree': 0.353991172890739}. Best is trial 31 with value: 17.45326308084275.\u001b[0m\n",
      "/Users/ciaran/opt/anaconda3/envs/afl-total-model-env/lib/python3.9/site-packages/optuna/distributions.py:716: UserWarning: The distribution is specified by [2, 20] and step=5, but the range is not divisible by `step`. It will be replaced by [2, 17].\n",
      "  warnings.warn(\n",
      "\u001b[32m[I 2023-05-08 13:46:13,644]\u001b[0m Trial 81 finished with value: 19.30725748415196 and parameters: {'max_depth': 2, 'min_child_weight': 17, 'eta': 0.28426979518107504, 'gamma': 20.0, 'lambda': 0.4936638198803585, 'alpha': 0.40815208050251306, 'subsample': 0.32745971975145205, 'colsample_bytree': 0.3819918189586501}. Best is trial 31 with value: 17.45326308084275.\u001b[0m\n",
      "/Users/ciaran/opt/anaconda3/envs/afl-total-model-env/lib/python3.9/site-packages/optuna/distributions.py:716: UserWarning: The distribution is specified by [2, 20] and step=5, but the range is not divisible by `step`. It will be replaced by [2, 17].\n",
      "  warnings.warn(\n",
      "\u001b[32m[I 2023-05-08 13:46:13,675]\u001b[0m Trial 82 finished with value: 18.585964740506267 and parameters: {'max_depth': 2, 'min_child_weight': 17, 'eta': 0.5811683535179841, 'gamma': 20.0, 'lambda': 0.4376207227441285, 'alpha': 0.22307621722809481, 'subsample': 0.3755149852498246, 'colsample_bytree': 0.408855028272075}. Best is trial 31 with value: 17.45326308084275.\u001b[0m\n",
      "/Users/ciaran/opt/anaconda3/envs/afl-total-model-env/lib/python3.9/site-packages/optuna/distributions.py:716: UserWarning: The distribution is specified by [2, 20] and step=5, but the range is not divisible by `step`. It will be replaced by [2, 17].\n",
      "  warnings.warn(\n",
      "\u001b[32m[I 2023-05-08 13:46:13,710]\u001b[0m Trial 83 finished with value: 21.212163704223652 and parameters: {'max_depth': 4, 'min_child_weight': 17, 'eta': 0.9706592906582457, 'gamma': 20.0, 'lambda': 0.7039176139284334, 'alpha': 0.5729502314952039, 'subsample': 0.28785111770296035, 'colsample_bytree': 0.37030871566631945}. Best is trial 31 with value: 17.45326308084275.\u001b[0m\n",
      "/Users/ciaran/opt/anaconda3/envs/afl-total-model-env/lib/python3.9/site-packages/optuna/distributions.py:716: UserWarning: The distribution is specified by [2, 20] and step=5, but the range is not divisible by `step`. It will be replaced by [2, 17].\n",
      "  warnings.warn(\n",
      "\u001b[32m[I 2023-05-08 13:46:13,747]\u001b[0m Trial 84 finished with value: 18.85316295168336 and parameters: {'max_depth': 4, 'min_child_weight': 17, 'eta': 0.3950702085886523, 'gamma': 20.0, 'lambda': 0.39984938427246314, 'alpha': 0.9511970496936131, 'subsample': 0.24797987964361745, 'colsample_bytree': 0.3943682071796013}. Best is trial 31 with value: 17.45326308084275.\u001b[0m\n",
      "/Users/ciaran/opt/anaconda3/envs/afl-total-model-env/lib/python3.9/site-packages/optuna/distributions.py:716: UserWarning: The distribution is specified by [2, 20] and step=5, but the range is not divisible by `step`. It will be replaced by [2, 17].\n",
      "  warnings.warn(\n",
      "\u001b[32m[I 2023-05-08 13:46:13,780]\u001b[0m Trial 85 finished with value: 18.279789040168986 and parameters: {'max_depth': 2, 'min_child_weight': 17, 'eta': 0.49888624912644514, 'gamma': 20.0, 'lambda': 0.5412251508986717, 'alpha': 0.054810755596051815, 'subsample': 0.4043970091096704, 'colsample_bytree': 0.4268601853394841}. Best is trial 31 with value: 17.45326308084275.\u001b[0m\n",
      "/Users/ciaran/opt/anaconda3/envs/afl-total-model-env/lib/python3.9/site-packages/optuna/distributions.py:716: UserWarning: The distribution is specified by [2, 20] and step=5, but the range is not divisible by `step`. It will be replaced by [2, 17].\n",
      "  warnings.warn(\n",
      "\u001b[32m[I 2023-05-08 13:46:13,812]\u001b[0m Trial 86 finished with value: 21.020790149069477 and parameters: {'max_depth': 4, 'min_child_weight': 17, 'eta': 0.7019127438898215, 'gamma': 20.0, 'lambda': 0.3405674684243652, 'alpha': 0.04921579677139125, 'subsample': 0.40725198484013314, 'colsample_bytree': 0.42479321733160635}. Best is trial 31 with value: 17.45326308084275.\u001b[0m\n",
      "/Users/ciaran/opt/anaconda3/envs/afl-total-model-env/lib/python3.9/site-packages/optuna/distributions.py:716: UserWarning: The distribution is specified by [2, 20] and step=5, but the range is not divisible by `step`. It will be replaced by [2, 17].\n",
      "  warnings.warn(\n",
      "\u001b[32m[I 2023-05-08 13:46:13,848]\u001b[0m Trial 87 finished with value: 18.908235250813767 and parameters: {'max_depth': 20, 'min_child_weight': 17, 'eta': 0.4552925244359925, 'gamma': 20.0, 'lambda': 0.7827010373709845, 'alpha': 0.3353898984158148, 'subsample': 0.34846722608287173, 'colsample_bytree': 0.4637660636999459}. Best is trial 31 with value: 17.45326308084275.\u001b[0m\n",
      "/Users/ciaran/opt/anaconda3/envs/afl-total-model-env/lib/python3.9/site-packages/optuna/distributions.py:716: UserWarning: The distribution is specified by [2, 20] and step=5, but the range is not divisible by `step`. It will be replaced by [2, 17].\n",
      "  warnings.warn(\n",
      "\u001b[32m[I 2023-05-08 13:46:13,879]\u001b[0m Trial 88 finished with value: 18.01308536040508 and parameters: {'max_depth': 2, 'min_child_weight': 17, 'eta': 0.33616804563671876, 'gamma': 20.0, 'lambda': 0.5283171600539767, 'alpha': 0.06486690510922041, 'subsample': 0.37598376916452114, 'colsample_bytree': 0.3164063024586785}. Best is trial 31 with value: 17.45326308084275.\u001b[0m\n",
      "/Users/ciaran/opt/anaconda3/envs/afl-total-model-env/lib/python3.9/site-packages/optuna/distributions.py:716: UserWarning: The distribution is specified by [2, 20] and step=5, but the range is not divisible by `step`. It will be replaced by [2, 17].\n",
      "  warnings.warn(\n",
      "\u001b[32m[I 2023-05-08 13:46:13,908]\u001b[0m Trial 89 finished with value: 18.424538357780403 and parameters: {'max_depth': 2, 'min_child_weight': 17, 'eta': 0.32234489922674764, 'gamma': 20.0, 'lambda': 0.5602109442964971, 'alpha': 0.08709792772216994, 'subsample': 0.39184704714709123, 'colsample_bytree': 0.31223512250433066}. Best is trial 31 with value: 17.45326308084275.\u001b[0m\n",
      "/Users/ciaran/opt/anaconda3/envs/afl-total-model-env/lib/python3.9/site-packages/optuna/distributions.py:716: UserWarning: The distribution is specified by [2, 20] and step=5, but the range is not divisible by `step`. It will be replaced by [2, 17].\n",
      "  warnings.warn(\n",
      "\u001b[32m[I 2023-05-08 13:46:13,944]\u001b[0m Trial 90 finished with value: 32.65236730108168 and parameters: {'max_depth': 14, 'min_child_weight': 12, 'eta': 0.17688011266079295, 'gamma': 20.0, 'lambda': 0.2724883899958727, 'alpha': 0.05932645599742528, 'subsample': 0.38465242170944125, 'colsample_bytree': 0.34688432126404967}. Best is trial 31 with value: 17.45326308084275.\u001b[0m\n",
      "/Users/ciaran/opt/anaconda3/envs/afl-total-model-env/lib/python3.9/site-packages/optuna/distributions.py:716: UserWarning: The distribution is specified by [2, 20] and step=5, but the range is not divisible by `step`. It will be replaced by [2, 17].\n",
      "  warnings.warn(\n",
      "\u001b[32m[I 2023-05-08 13:46:13,977]\u001b[0m Trial 91 finished with value: 19.30361423230343 and parameters: {'max_depth': 2, 'min_child_weight': 17, 'eta': 0.32652131926538663, 'gamma': 20.0, 'lambda': 0.5509489826358419, 'alpha': 0.06880209342146995, 'subsample': 0.4094058017696963, 'colsample_bytree': 0.289174479997856}. Best is trial 31 with value: 17.45326308084275.\u001b[0m\n",
      "/Users/ciaran/opt/anaconda3/envs/afl-total-model-env/lib/python3.9/site-packages/optuna/distributions.py:716: UserWarning: The distribution is specified by [2, 20] and step=5, but the range is not divisible by `step`. It will be replaced by [2, 17].\n",
      "  warnings.warn(\n",
      "\u001b[32m[I 2023-05-08 13:46:14,012]\u001b[0m Trial 92 finished with value: 19.92891204852046 and parameters: {'max_depth': 2, 'min_child_weight': 17, 'eta': 0.24926066745927886, 'gamma': 20.0, 'lambda': 0.5662461067880791, 'alpha': 0.09823302208374204, 'subsample': 0.3816041333347305, 'colsample_bytree': 0.2985541312036228}. Best is trial 31 with value: 17.45326308084275.\u001b[0m\n",
      "/Users/ciaran/opt/anaconda3/envs/afl-total-model-env/lib/python3.9/site-packages/optuna/distributions.py:716: UserWarning: The distribution is specified by [2, 20] and step=5, but the range is not divisible by `step`. It will be replaced by [2, 17].\n",
      "  warnings.warn(\n",
      "\u001b[32m[I 2023-05-08 13:46:14,045]\u001b[0m Trial 93 finished with value: 18.743104865957793 and parameters: {'max_depth': 2, 'min_child_weight': 17, 'eta': 0.6522999996120765, 'gamma': 20.0, 'lambda': 0.42020900472690303, 'alpha': 0.045008138966285194, 'subsample': 0.4321801463523186, 'colsample_bytree': 0.3227348780643603}. Best is trial 31 with value: 17.45326308084275.\u001b[0m\n",
      "/Users/ciaran/opt/anaconda3/envs/afl-total-model-env/lib/python3.9/site-packages/optuna/distributions.py:716: UserWarning: The distribution is specified by [2, 20] and step=5, but the range is not divisible by `step`. It will be replaced by [2, 17].\n",
      "  warnings.warn(\n",
      "\u001b[32m[I 2023-05-08 13:46:14,077]\u001b[0m Trial 94 finished with value: 18.241577417640627 and parameters: {'max_depth': 4, 'min_child_weight': 7, 'eta': 0.5261707414268648, 'gamma': 20.0, 'lambda': 0.9627252032451732, 'alpha': 0.033917258219940696, 'subsample': 0.3673746314447307, 'colsample_bytree': 0.3121452805324994}. Best is trial 31 with value: 17.45326308084275.\u001b[0m\n",
      "/Users/ciaran/opt/anaconda3/envs/afl-total-model-env/lib/python3.9/site-packages/optuna/distributions.py:716: UserWarning: The distribution is specified by [2, 20] and step=5, but the range is not divisible by `step`. It will be replaced by [2, 17].\n",
      "  warnings.warn(\n",
      "\u001b[32m[I 2023-05-08 13:46:14,110]\u001b[0m Trial 95 finished with value: 20.62383856847005 and parameters: {'max_depth': 4, 'min_child_weight': 7, 'eta': 0.5273234177667996, 'gamma': 20.0, 'lambda': 0.9659263892611875, 'alpha': 0.06376387612314073, 'subsample': 0.36292585885828255, 'colsample_bytree': 0.34214384235372075}. Best is trial 31 with value: 17.45326308084275.\u001b[0m\n",
      "/Users/ciaran/opt/anaconda3/envs/afl-total-model-env/lib/python3.9/site-packages/optuna/distributions.py:716: UserWarning: The distribution is specified by [2, 20] and step=5, but the range is not divisible by `step`. It will be replaced by [2, 17].\n",
      "  warnings.warn(\n",
      "\u001b[32m[I 2023-05-08 13:46:14,145]\u001b[0m Trial 96 finished with value: 25.029767893129208 and parameters: {'max_depth': 6, 'min_child_weight': 7, 'eta': 0.7645207185441042, 'gamma': 20.0, 'lambda': 0.6717198323844253, 'alpha': 0.032413816289196117, 'subsample': 0.33310679780206337, 'colsample_bytree': 0.36810485892694644}. Best is trial 31 with value: 17.45326308084275.\u001b[0m\n",
      "/Users/ciaran/opt/anaconda3/envs/afl-total-model-env/lib/python3.9/site-packages/optuna/distributions.py:716: UserWarning: The distribution is specified by [2, 20] and step=5, but the range is not divisible by `step`. It will be replaced by [2, 17].\n",
      "  warnings.warn(\n",
      "\u001b[32m[I 2023-05-08 13:46:14,177]\u001b[0m Trial 97 finished with value: 19.814331734820236 and parameters: {'max_depth': 4, 'min_child_weight': 2, 'eta': 0.3742024706328862, 'gamma': 20.0, 'lambda': 0.9891154757980497, 'alpha': 0.02670090765237316, 'subsample': 0.3176950933715366, 'colsample_bytree': 0.44138037891901505}. Best is trial 31 with value: 17.45326308084275.\u001b[0m\n",
      "/Users/ciaran/opt/anaconda3/envs/afl-total-model-env/lib/python3.9/site-packages/optuna/distributions.py:716: UserWarning: The distribution is specified by [2, 20] and step=5, but the range is not divisible by `step`. It will be replaced by [2, 17].\n",
      "  warnings.warn(\n",
      "\u001b[32m[I 2023-05-08 13:46:14,210]\u001b[0m Trial 98 finished with value: 49.12329426082767 and parameters: {'max_depth': 6, 'min_child_weight': 7, 'eta': 0.1357040896940735, 'gamma': 20.0, 'lambda': 0.3230397500032931, 'alpha': 0.12156950024435999, 'subsample': 0.21943320225550428, 'colsample_bytree': 0.41808712739070397}. Best is trial 31 with value: 17.45326308084275.\u001b[0m\n",
      "/Users/ciaran/opt/anaconda3/envs/afl-total-model-env/lib/python3.9/site-packages/optuna/distributions.py:716: UserWarning: The distribution is specified by [2, 20] and step=5, but the range is not divisible by `step`. It will be replaced by [2, 17].\n",
      "  warnings.warn(\n",
      "\u001b[32m[I 2023-05-08 13:46:14,246]\u001b[0m Trial 99 finished with value: 26.476704287194725 and parameters: {'max_depth': 4, 'min_child_weight': 7, 'eta': 0.2114995705467799, 'gamma': 20.0, 'lambda': 0.2376648044561651, 'alpha': 0.15433264294765306, 'subsample': 0.23654696002435105, 'colsample_bytree': 0.3201627734566832}. Best is trial 31 with value: 17.45326308084275.\u001b[0m\n"
     ]
    },
    {
     "name": "stdout",
     "output_type": "stream",
     "text": [
      "Number of finished trials:  100\n",
      "Best trial:\n",
      "  Value: 17.45326308084275\n",
      "  Params: \n",
      "    max_depth: 2\n",
      "    min_child_weight: 12\n",
      "    eta: 0.41294254112407514\n",
      "    gamma: 20.0\n",
      "    lambda: 0.35560233747051745\n",
      "    alpha: 0.05358772178288147\n",
      "    subsample: 0.27518999577189024\n",
      "    colsample_bytree: 0.3430224483178065\n"
     ]
    },
    {
     "data": {
      "text/plain": [
       "<optuna.study.study.Study at 0x7fc900e71790>"
      ]
     },
     "execution_count": 50,
     "metadata": {},
     "output_type": "execute_result"
    }
   ],
   "source": [
    "xgb_tuner.tune_hyperparameters()"
   ]
  },
  {
   "cell_type": "code",
   "execution_count": 51,
   "metadata": {},
   "outputs": [
    {
     "data": {
      "text/plain": [
       "{'max_depth': 2,\n",
       " 'min_child_weight': 12,\n",
       " 'eta': 0.41294254112407514,\n",
       " 'gamma': 20.0,\n",
       " 'lambda': 0.35560233747051745,\n",
       " 'alpha': 0.05358772178288147,\n",
       " 'subsample': 0.27518999577189024,\n",
       " 'colsample_bytree': 0.3430224483178065}"
      ]
     },
     "execution_count": 51,
     "metadata": {},
     "output_type": "execute_result"
    }
   ],
   "source": [
    "xgb_tuner.get_best_params()"
   ]
  },
  {
   "cell_type": "code",
   "execution_count": null,
   "metadata": {},
   "outputs": [],
   "source": [
    "def train_xgboost_model(xgb_params, dtrain, dtest, objective, eval_metric, num_round = 100, early_stopping_rounds = 10):\n",
    "    \n",
    "    xgb_params['objective'] = objective\n",
    "    xgb_params['eval_metric'] = eval_metric\n",
    "\n",
    "    evallist = [(dtrain, 'train'), (dtest, 'test')]\n",
    "    \n",
    "    xgb_bst = xgb.train(xgb_params, dtrain, num_round, evallist, early_stopping_rounds=early_stopping_rounds)\n",
    "    \n",
    "    return xgb_bst"
   ]
  },
  {
   "cell_type": "code",
   "execution_count": null,
   "metadata": {},
   "outputs": [],
   "source": [
    "xgb_params = study.best_trial.params\n",
    "objective = 'reg:squarederror'\n",
    "eval_metric = 'rmse'"
   ]
  },
  {
   "cell_type": "code",
   "execution_count": null,
   "metadata": {},
   "outputs": [],
   "source": [
    "xgb_bst = train_xgboost_model(xgb_params, dtrain, dtest, objective, eval_metric, num_round = 100, early_stopping_rounds = 10)"
   ]
  },
  {
   "cell_type": "code",
   "execution_count": null,
   "metadata": {},
   "outputs": [],
   "source": [
    "xgb_bst"
   ]
  },
  {
   "cell_type": "code",
   "execution_count": null,
   "metadata": {},
   "outputs": [],
   "source": [
    "xgb.plot_importance(xgb_bst, importance_type = \"total_gain\")"
   ]
  },
  {
   "cell_type": "code",
   "execution_count": null,
   "metadata": {},
   "outputs": [],
   "source": [
    "xgb.plot_importance(xgb_bst, importance_type = \"gain\")"
   ]
  },
  {
   "cell_type": "code",
   "execution_count": null,
   "metadata": {},
   "outputs": [],
   "source": [
    "xgb.plot_importance(xgb_bst, importance_type = \"weight\")"
   ]
  },
  {
   "attachments": {},
   "cell_type": "markdown",
   "metadata": {},
   "source": [
    "Evaluate Model"
   ]
  },
  {
   "cell_type": "code",
   "execution_count": null,
   "metadata": {},
   "outputs": [],
   "source": [
    "def get_xgb_predictions(data, xgb_bst):\n",
    "    \n",
    "    X_dummies = one_hot_encode_transform(data, expected_features=xgb_bst.feature_names)\n",
    "    \n",
    "    dmatrix = xgb.DMatrix(X_dummies)\n",
    "    \n",
    "    xgb_preds = bst.predict(dmatrix)\n",
    "    \n",
    "    return xgb_preds"
   ]
  },
  {
   "cell_type": "code",
   "execution_count": null,
   "metadata": {},
   "outputs": [],
   "source": [
    "test_preds = get_xgb_predictions(test_data, xgb_bst)\n",
    "oot_preds = get_xgb_predictions(oot_data, xgb_bst)"
   ]
  },
  {
   "cell_type": "code",
   "execution_count": null,
   "metadata": {},
   "outputs": [],
   "source": [
    "def MAE(data, model, actuals):\n",
    "\n",
    "    preds = model.predict(data)\n",
    "    absolute_error = abs(preds - actuals)\n",
    "    mae = np.mean(absolute_error)\n",
    "\n",
    "    return mae"
   ]
  },
  {
   "cell_type": "code",
   "execution_count": null,
   "metadata": {},
   "outputs": [],
   "source": [
    "def RMSE(data, model, actuals):\n",
    "\n",
    "    preds = model.predict(data)\n",
    "    squared_error = (preds - actuals)**2\n",
    "    mean_squared_error = np.mean(squared_error)\n",
    "    rmse = (mean_squared_error)**0.5\n",
    "\n",
    "    return rmse"
   ]
  },
  {
   "cell_type": "code",
   "execution_count": null,
   "metadata": {},
   "outputs": [],
   "source": [
    "def get_error_metrics(data, model, actuals):\n",
    "\n",
    "    mae = MAE(data, model, actuals)\n",
    "    rmse = RMSE(data, model, actuals)\n",
    "\n",
    "    print(\"MAE: {}\".format(mae))\n",
    "    print(\"RMSE: {}\".format(rmse))\n",
    "\n",
    "    return mae, rmse"
   ]
  },
  {
   "cell_type": "code",
   "execution_count": null,
   "metadata": {},
   "outputs": [],
   "source": [
    "get_error_metrics(dtrain, xgb_bst, y_train)"
   ]
  },
  {
   "cell_type": "code",
   "execution_count": null,
   "metadata": {},
   "outputs": [],
   "source": [
    "get_error_metrics(dtest, xgb_bst, y_test)"
   ]
  },
  {
   "cell_type": "code",
   "execution_count": null,
   "metadata": {},
   "outputs": [],
   "source": [
    "get_error_metrics(doot, xgb_bst, y_oot)"
   ]
  },
  {
   "cell_type": "markdown",
   "metadata": {},
   "source": [
    "Save model predictions"
   ]
  },
  {
   "cell_type": "code",
   "execution_count": null,
   "metadata": {},
   "outputs": [],
   "source": [
    "data['xgb_preds'] = get_xgb_predictions(data, xgb_model)"
   ]
  },
  {
   "cell_type": "code",
   "execution_count": null,
   "metadata": {},
   "outputs": [],
   "source": [
    "data['xgb_preds'].mean(), data[response].mean()"
   ]
  },
  {
   "cell_type": "code",
   "execution_count": null,
   "metadata": {},
   "outputs": [],
   "source": [
    "data['std_dev'] = np.std(y_train)"
   ]
  },
  {
   "cell_type": "code",
   "execution_count": null,
   "metadata": {},
   "outputs": [],
   "source": [
    "data[['Match_ID', 'Date', 'Total_Game_Score', 'xgb_preds', 'std_dev']].head()"
   ]
  },
  {
   "cell_type": "code",
   "execution_count": null,
   "metadata": {},
   "outputs": [],
   "source": [
    "data[['Match_ID', 'Date', 'Total_Game_Score', 'xgb_preds', 'std_dev']].to_csv(\"/Users/ciaran/Documents/Projects/AFL/total-points-score-model/data/model-predictions/xgb_model_preds.csv\", index=False)"
   ]
  },
  {
   "cell_type": "code",
   "execution_count": null,
   "metadata": {},
   "outputs": [],
   "source": []
  }
 ],
 "metadata": {
  "kernelspec": {
   "display_name": "afl-total-model-env",
   "language": "python",
   "name": "python3"
  },
  "language_info": {
   "codemirror_mode": {
    "name": "ipython",
    "version": 3
   },
   "file_extension": ".py",
   "mimetype": "text/x-python",
   "name": "python",
   "nbconvert_exporter": "python",
   "pygments_lexer": "ipython3",
   "version": "3.9.16"
  },
  "orig_nbformat": 4,
  "vscode": {
   "interpreter": {
    "hash": "dc578ee0f2f240f88b07d66010ce4f17cba19ae2fcd1972906e53630b629e476"
   }
  }
 },
 "nbformat": 4,
 "nbformat_minor": 2
}
