{
 "cells": [
  {
   "attachments": {},
   "cell_type": "markdown",
   "metadata": {},
   "source": [
    "Total Game Score Model - Hyperparameter Tuning - GBM"
   ]
  },
  {
   "cell_type": "code",
   "execution_count": 1,
   "metadata": {},
   "outputs": [],
   "source": [
    "import pandas as pd\n",
    "import numpy as np\n",
    "import xgboost as xgb\n",
    "import optuna\n",
    "from sklearn.model_selection import train_test_split\n",
    "\n",
    "pd.options.display.max_rows = 10\n",
    "pd.options.display.max_columns = 999\n",
    "\n",
    "%load_ext autoreload\n",
    "%autoreload 2"
   ]
  },
  {
   "attachments": {},
   "cell_type": "markdown",
   "metadata": {},
   "source": [
    "Load Data"
   ]
  },
  {
   "attachments": {},
   "cell_type": "markdown",
   "metadata": {},
   "source": [
    "ModellingDataLoader class"
   ]
  },
  {
   "cell_type": "code",
   "execution_count": 2,
   "metadata": {},
   "outputs": [],
   "source": [
    "# from modelling_data_preparation import DataLoader"
   ]
  },
  {
   "cell_type": "code",
   "execution_count": 3,
   "metadata": {},
   "outputs": [],
   "source": [
    "data = pd.read_csv(\"../data/modelling-data/modelling_data_total_team_score.csv\")"
   ]
  },
  {
   "cell_type": "code",
   "execution_count": 4,
   "metadata": {},
   "outputs": [
    {
     "data": {
      "text/html": [
       "<div>\n",
       "<style scoped>\n",
       "    .dataframe tbody tr th:only-of-type {\n",
       "        vertical-align: middle;\n",
       "    }\n",
       "\n",
       "    .dataframe tbody tr th {\n",
       "        vertical-align: top;\n",
       "    }\n",
       "\n",
       "    .dataframe thead th {\n",
       "        text-align: right;\n",
       "    }\n",
       "</style>\n",
       "<table border=\"1\" class=\"dataframe\">\n",
       "  <thead>\n",
       "    <tr style=\"text-align: right;\">\n",
       "      <th></th>\n",
       "      <th>Unnamed: 0</th>\n",
       "      <th>Match_ID</th>\n",
       "      <th>AFL_API_Match_ID</th>\n",
       "      <th>Home_Team</th>\n",
       "      <th>Away_Team</th>\n",
       "      <th>Date</th>\n",
       "      <th>Venue</th>\n",
       "      <th>Match_Status</th>\n",
       "      <th>Q4_Score</th>\n",
       "      <th>Round_ID</th>\n",
       "      <th>Year</th>\n",
       "      <th>Q1_Score</th>\n",
       "      <th>Q2_Score</th>\n",
       "      <th>Q3_Score</th>\n",
       "      <th>Margin</th>\n",
       "      <th>Total_Game_Score</th>\n",
       "      <th>Home_Win</th>\n",
       "      <th>City</th>\n",
       "      <th>Attendance</th>\n",
       "      <th>Umpires</th>\n",
       "      <th>Home_Coach_ID</th>\n",
       "      <th>Away_Coach_ID</th>\n",
       "      <th>Q5_Score</th>\n",
       "      <th>Temperature</th>\n",
       "      <th>Weather_Type</th>\n",
       "      <th>Home_Score</th>\n",
       "      <th>Away_Score</th>\n",
       "      <th>Home_Goals</th>\n",
       "      <th>Home_Behinds</th>\n",
       "      <th>Home_Total_Score</th>\n",
       "      <th>Away_Goals</th>\n",
       "      <th>Away_Behinds</th>\n",
       "      <th>Away_Total_Score</th>\n",
       "      <th>random5</th>\n",
       "      <th>training_set</th>\n",
       "      <th>Home_Total_Game_Score_avg2</th>\n",
       "      <th>Home_For_Goals_avg2</th>\n",
       "      <th>Home_For_Behinds_avg2</th>\n",
       "      <th>Home_For_Scores_avg2</th>\n",
       "      <th>Home_For_Total_Score_avg2</th>\n",
       "      <th>Home_Against_Goals_avg2</th>\n",
       "      <th>Home_Against_Behinds_avg2</th>\n",
       "      <th>Home_Against_Scores_avg2</th>\n",
       "      <th>Home_Against_Total_Score_avg2</th>\n",
       "      <th>Home_Total_Game_Score_avg10</th>\n",
       "      <th>Home_For_Goals_avg10</th>\n",
       "      <th>Home_For_Behinds_avg10</th>\n",
       "      <th>Home_For_Scores_avg10</th>\n",
       "      <th>Home_For_Total_Score_avg10</th>\n",
       "      <th>Home_Against_Goals_avg10</th>\n",
       "      <th>Home_Against_Behinds_avg10</th>\n",
       "      <th>Home_Against_Scores_avg10</th>\n",
       "      <th>Home_Against_Total_Score_avg10</th>\n",
       "      <th>Away_Total_Game_Score_avg2</th>\n",
       "      <th>Away_For_Goals_avg2</th>\n",
       "      <th>Away_For_Behinds_avg2</th>\n",
       "      <th>Away_For_Scores_avg2</th>\n",
       "      <th>Away_For_Total_Score_avg2</th>\n",
       "      <th>Away_Against_Goals_avg2</th>\n",
       "      <th>Away_Against_Behinds_avg2</th>\n",
       "      <th>Away_Against_Scores_avg2</th>\n",
       "      <th>Away_Against_Total_Score_avg2</th>\n",
       "      <th>Away_Total_Game_Score_avg10</th>\n",
       "      <th>Away_For_Goals_avg10</th>\n",
       "      <th>Away_For_Behinds_avg10</th>\n",
       "      <th>Away_For_Scores_avg10</th>\n",
       "      <th>Away_For_Total_Score_avg10</th>\n",
       "      <th>Away_Against_Goals_avg10</th>\n",
       "      <th>Away_Against_Behinds_avg10</th>\n",
       "      <th>Away_Against_Scores_avg10</th>\n",
       "      <th>Away_Against_Total_Score_avg10</th>\n",
       "    </tr>\n",
       "  </thead>\n",
       "  <tbody>\n",
       "    <tr>\n",
       "      <th>3004</th>\n",
       "      <td>3005</td>\n",
       "      <td>2022F3_Sydney_Collingwood</td>\n",
       "      <td>CD_M20220142602</td>\n",
       "      <td>Sydney</td>\n",
       "      <td>Collingwood</td>\n",
       "      <td>2022-09-17 16:45:00</td>\n",
       "      <td>S.C.G.</td>\n",
       "      <td>CONCLUDED</td>\n",
       "      <td>14.11.95 - 14.10.94</td>\n",
       "      <td>2022F3</td>\n",
       "      <td>2022</td>\n",
       "      <td>6.3.39 - 3.0.18</td>\n",
       "      <td>11.7.73 - 7.1.43</td>\n",
       "      <td>13.10.88 - 10.5.65</td>\n",
       "      <td>1</td>\n",
       "      <td>189</td>\n",
       "      <td>1.0</td>\n",
       "      <td>Sydney</td>\n",
       "      <td>45608.0</td>\n",
       "      <td>NaN</td>\n",
       "      <td>John_Longmire</td>\n",
       "      <td>Craig_McRae</td>\n",
       "      <td>NaN</td>\n",
       "      <td>23.0</td>\n",
       "      <td>MOSTLY_SUNNY</td>\n",
       "      <td>14.11.95</td>\n",
       "      <td>14.10.94</td>\n",
       "      <td>14</td>\n",
       "      <td>11</td>\n",
       "      <td>95</td>\n",
       "      <td>14</td>\n",
       "      <td>10</td>\n",
       "      <td>94</td>\n",
       "      <td>5</td>\n",
       "      <td>False</td>\n",
       "      <td>174.5</td>\n",
       "      <td>14.0</td>\n",
       "      <td>9.0</td>\n",
       "      <td>23.0</td>\n",
       "      <td>93.0</td>\n",
       "      <td>12.0</td>\n",
       "      <td>9.5</td>\n",
       "      <td>21.5</td>\n",
       "      <td>81.5</td>\n",
       "      <td>172.1</td>\n",
       "      <td>14.4</td>\n",
       "      <td>13.1</td>\n",
       "      <td>27.5</td>\n",
       "      <td>99.5</td>\n",
       "      <td>10.5</td>\n",
       "      <td>9.6</td>\n",
       "      <td>20.1</td>\n",
       "      <td>72.6</td>\n",
       "      <td>163.5</td>\n",
       "      <td>12.5</td>\n",
       "      <td>11.5</td>\n",
       "      <td>24.0</td>\n",
       "      <td>86.5</td>\n",
       "      <td>11.5</td>\n",
       "      <td>8.0</td>\n",
       "      <td>19.5</td>\n",
       "      <td>77.0</td>\n",
       "      <td>161.0</td>\n",
       "      <td>12.0</td>\n",
       "      <td>9.3</td>\n",
       "      <td>21.3</td>\n",
       "      <td>81.3</td>\n",
       "      <td>11.6</td>\n",
       "      <td>10.1</td>\n",
       "      <td>21.7</td>\n",
       "      <td>79.7</td>\n",
       "    </tr>\n",
       "    <tr>\n",
       "      <th>3005</th>\n",
       "      <td>3006</td>\n",
       "      <td>2022F4_Geelong_Sydney</td>\n",
       "      <td>CD_M20220142701</td>\n",
       "      <td>Geelong</td>\n",
       "      <td>Sydney</td>\n",
       "      <td>2022-09-24 14:30:00</td>\n",
       "      <td>M.C.G.</td>\n",
       "      <td>CONCLUDED</td>\n",
       "      <td>20.13.133 - 8.4.52</td>\n",
       "      <td>2022F4</td>\n",
       "      <td>2022</td>\n",
       "      <td>6.5.41 - 1.0.6</td>\n",
       "      <td>9.8.62 - 4.2.26</td>\n",
       "      <td>15.11.101 - 4.3.27</td>\n",
       "      <td>81</td>\n",
       "      <td>185</td>\n",
       "      <td>1.0</td>\n",
       "      <td>Melbourne</td>\n",
       "      <td>100024.0</td>\n",
       "      <td>Simon Meredith (439), Matt Stevic (449), Brend...</td>\n",
       "      <td>Chris_Scott</td>\n",
       "      <td>John_Longmire</td>\n",
       "      <td>NaN</td>\n",
       "      <td>15.0</td>\n",
       "      <td>RAIN</td>\n",
       "      <td>20.13.133</td>\n",
       "      <td>8.4.52</td>\n",
       "      <td>20</td>\n",
       "      <td>13</td>\n",
       "      <td>133</td>\n",
       "      <td>8</td>\n",
       "      <td>4</td>\n",
       "      <td>52</td>\n",
       "      <td>4</td>\n",
       "      <td>True</td>\n",
       "      <td>177.0</td>\n",
       "      <td>19.0</td>\n",
       "      <td>12.5</td>\n",
       "      <td>31.5</td>\n",
       "      <td>126.5</td>\n",
       "      <td>7.5</td>\n",
       "      <td>5.5</td>\n",
       "      <td>13.0</td>\n",
       "      <td>50.5</td>\n",
       "      <td>168.8</td>\n",
       "      <td>15.7</td>\n",
       "      <td>12.5</td>\n",
       "      <td>28.2</td>\n",
       "      <td>106.7</td>\n",
       "      <td>9.1</td>\n",
       "      <td>7.5</td>\n",
       "      <td>16.6</td>\n",
       "      <td>62.1</td>\n",
       "      <td>187.0</td>\n",
       "      <td>11.0</td>\n",
       "      <td>7.5</td>\n",
       "      <td>18.5</td>\n",
       "      <td>73.5</td>\n",
       "      <td>17.0</td>\n",
       "      <td>11.5</td>\n",
       "      <td>28.5</td>\n",
       "      <td>113.5</td>\n",
       "      <td>172.5</td>\n",
       "      <td>14.0</td>\n",
       "      <td>12.1</td>\n",
       "      <td>26.1</td>\n",
       "      <td>96.1</td>\n",
       "      <td>11.0</td>\n",
       "      <td>10.4</td>\n",
       "      <td>21.4</td>\n",
       "      <td>76.4</td>\n",
       "    </tr>\n",
       "  </tbody>\n",
       "</table>\n",
       "</div>"
      ],
      "text/plain": [
       "      Unnamed: 0                   Match_ID AFL_API_Match_ID Home_Team  \\\n",
       "3004        3005  2022F3_Sydney_Collingwood  CD_M20220142602    Sydney   \n",
       "3005        3006      2022F4_Geelong_Sydney  CD_M20220142701   Geelong   \n",
       "\n",
       "        Away_Team                 Date   Venue Match_Status  \\\n",
       "3004  Collingwood  2022-09-17 16:45:00  S.C.G.    CONCLUDED   \n",
       "3005       Sydney  2022-09-24 14:30:00  M.C.G.    CONCLUDED   \n",
       "\n",
       "                 Q4_Score Round_ID  Year         Q1_Score          Q2_Score  \\\n",
       "3004  14.11.95 - 14.10.94   2022F3  2022  6.3.39 - 3.0.18  11.7.73 - 7.1.43   \n",
       "3005   20.13.133 - 8.4.52   2022F4  2022   6.5.41 - 1.0.6   9.8.62 - 4.2.26   \n",
       "\n",
       "                Q3_Score  Margin  Total_Game_Score  Home_Win       City  \\\n",
       "3004  13.10.88 - 10.5.65       1               189       1.0     Sydney   \n",
       "3005  15.11.101 - 4.3.27      81               185       1.0  Melbourne   \n",
       "\n",
       "      Attendance                                            Umpires  \\\n",
       "3004     45608.0                                                NaN   \n",
       "3005    100024.0  Simon Meredith (439), Matt Stevic (449), Brend...   \n",
       "\n",
       "      Home_Coach_ID  Away_Coach_ID Q5_Score  Temperature  Weather_Type  \\\n",
       "3004  John_Longmire    Craig_McRae      NaN         23.0  MOSTLY_SUNNY   \n",
       "3005    Chris_Scott  John_Longmire      NaN         15.0          RAIN   \n",
       "\n",
       "     Home_Score Away_Score  Home_Goals  Home_Behinds  Home_Total_Score  \\\n",
       "3004   14.11.95   14.10.94          14            11                95   \n",
       "3005  20.13.133     8.4.52          20            13               133   \n",
       "\n",
       "      Away_Goals  Away_Behinds  Away_Total_Score  random5  training_set  \\\n",
       "3004          14            10                94        5         False   \n",
       "3005           8             4                52        4          True   \n",
       "\n",
       "      Home_Total_Game_Score_avg2  Home_For_Goals_avg2  Home_For_Behinds_avg2  \\\n",
       "3004                       174.5                 14.0                    9.0   \n",
       "3005                       177.0                 19.0                   12.5   \n",
       "\n",
       "      Home_For_Scores_avg2  Home_For_Total_Score_avg2  \\\n",
       "3004                  23.0                       93.0   \n",
       "3005                  31.5                      126.5   \n",
       "\n",
       "      Home_Against_Goals_avg2  Home_Against_Behinds_avg2  \\\n",
       "3004                     12.0                        9.5   \n",
       "3005                      7.5                        5.5   \n",
       "\n",
       "      Home_Against_Scores_avg2  Home_Against_Total_Score_avg2  \\\n",
       "3004                      21.5                           81.5   \n",
       "3005                      13.0                           50.5   \n",
       "\n",
       "      Home_Total_Game_Score_avg10  Home_For_Goals_avg10  \\\n",
       "3004                        172.1                  14.4   \n",
       "3005                        168.8                  15.7   \n",
       "\n",
       "      Home_For_Behinds_avg10  Home_For_Scores_avg10  \\\n",
       "3004                    13.1                   27.5   \n",
       "3005                    12.5                   28.2   \n",
       "\n",
       "      Home_For_Total_Score_avg10  Home_Against_Goals_avg10  \\\n",
       "3004                        99.5                      10.5   \n",
       "3005                       106.7                       9.1   \n",
       "\n",
       "      Home_Against_Behinds_avg10  Home_Against_Scores_avg10  \\\n",
       "3004                         9.6                       20.1   \n",
       "3005                         7.5                       16.6   \n",
       "\n",
       "      Home_Against_Total_Score_avg10  Away_Total_Game_Score_avg2  \\\n",
       "3004                            72.6                       163.5   \n",
       "3005                            62.1                       187.0   \n",
       "\n",
       "      Away_For_Goals_avg2  Away_For_Behinds_avg2  Away_For_Scores_avg2  \\\n",
       "3004                 12.5                   11.5                  24.0   \n",
       "3005                 11.0                    7.5                  18.5   \n",
       "\n",
       "      Away_For_Total_Score_avg2  Away_Against_Goals_avg2  \\\n",
       "3004                       86.5                     11.5   \n",
       "3005                       73.5                     17.0   \n",
       "\n",
       "      Away_Against_Behinds_avg2  Away_Against_Scores_avg2  \\\n",
       "3004                        8.0                      19.5   \n",
       "3005                       11.5                      28.5   \n",
       "\n",
       "      Away_Against_Total_Score_avg2  Away_Total_Game_Score_avg10  \\\n",
       "3004                           77.0                        161.0   \n",
       "3005                          113.5                        172.5   \n",
       "\n",
       "      Away_For_Goals_avg10  Away_For_Behinds_avg10  Away_For_Scores_avg10  \\\n",
       "3004                  12.0                     9.3                   21.3   \n",
       "3005                  14.0                    12.1                   26.1   \n",
       "\n",
       "      Away_For_Total_Score_avg10  Away_Against_Goals_avg10  \\\n",
       "3004                        81.3                      11.6   \n",
       "3005                        96.1                      11.0   \n",
       "\n",
       "      Away_Against_Behinds_avg10  Away_Against_Scores_avg10  \\\n",
       "3004                        10.1                       21.7   \n",
       "3005                        10.4                       21.4   \n",
       "\n",
       "      Away_Against_Total_Score_avg10  \n",
       "3004                            79.7  \n",
       "3005                            76.4  "
      ]
     },
     "execution_count": 4,
     "metadata": {},
     "output_type": "execute_result"
    }
   ],
   "source": [
    "data.tail(2)"
   ]
  },
  {
   "attachments": {},
   "cell_type": "markdown",
   "metadata": {},
   "source": [
    "Clean Data"
   ]
  },
  {
   "cell_type": "code",
   "execution_count": 5,
   "metadata": {},
   "outputs": [],
   "source": [
    "def preprocess_modelling_data(data):\n",
    "    \n",
    "    modelling_data = data[data['Date'] < \"2019-01-01\"]\n",
    "    oot_data = data[data['Date'] >= \"2019-01-01\"]\n",
    "    \n",
    "    training_data = modelling_data[modelling_data['training_set'] == True]\n",
    "    test_data = modelling_data[modelling_data['training_set'] == False]\n",
    "    \n",
    "    return training_data, test_data, oot_data"
   ]
  },
  {
   "cell_type": "code",
   "execution_count": 6,
   "metadata": {},
   "outputs": [],
   "source": [
    "training_data, test_data, oot_data = preprocess_modelling_data(data)"
   ]
  },
  {
   "attachments": {},
   "cell_type": "markdown",
   "metadata": {},
   "source": [
    "Preprocessor class"
   ]
  },
  {
   "cell_type": "code",
   "execution_count": 7,
   "metadata": {},
   "outputs": [],
   "source": [
    "# from preprocessor.py import Preprocessor"
   ]
  },
  {
   "attachments": {},
   "cell_type": "markdown",
   "metadata": {},
   "source": [
    "Train Model"
   ]
  },
  {
   "attachments": {},
   "cell_type": "markdown",
   "metadata": {},
   "source": [
    "Store these constants in a dataclass - ModellingConstants"
   ]
  },
  {
   "cell_type": "code",
   "execution_count": 8,
   "metadata": {},
   "outputs": [],
   "source": [
    "response = \"Total_Game_Score\""
   ]
  },
  {
   "cell_type": "code",
   "execution_count": 9,
   "metadata": {},
   "outputs": [
    {
     "data": {
      "text/plain": [
       "['Unnamed: 0',\n",
       " 'Match_ID',\n",
       " 'AFL_API_Match_ID',\n",
       " 'Home_Team',\n",
       " 'Away_Team',\n",
       " 'Date',\n",
       " 'Venue',\n",
       " 'Match_Status',\n",
       " 'Q4_Score',\n",
       " 'Round_ID',\n",
       " 'Year',\n",
       " 'Q1_Score',\n",
       " 'Q2_Score',\n",
       " 'Q3_Score',\n",
       " 'Margin',\n",
       " 'Total_Game_Score',\n",
       " 'Home_Win',\n",
       " 'City',\n",
       " 'Attendance',\n",
       " 'Umpires',\n",
       " 'Home_Coach_ID',\n",
       " 'Away_Coach_ID',\n",
       " 'Q5_Score',\n",
       " 'Temperature',\n",
       " 'Weather_Type',\n",
       " 'Home_Score',\n",
       " 'Away_Score',\n",
       " 'Home_Goals',\n",
       " 'Home_Behinds',\n",
       " 'Home_Total_Score',\n",
       " 'Away_Goals',\n",
       " 'Away_Behinds',\n",
       " 'Away_Total_Score',\n",
       " 'random5',\n",
       " 'training_set',\n",
       " 'Home_Total_Game_Score_avg2',\n",
       " 'Home_For_Goals_avg2',\n",
       " 'Home_For_Behinds_avg2',\n",
       " 'Home_For_Scores_avg2',\n",
       " 'Home_For_Total_Score_avg2',\n",
       " 'Home_Against_Goals_avg2',\n",
       " 'Home_Against_Behinds_avg2',\n",
       " 'Home_Against_Scores_avg2',\n",
       " 'Home_Against_Total_Score_avg2',\n",
       " 'Home_Total_Game_Score_avg10',\n",
       " 'Home_For_Goals_avg10',\n",
       " 'Home_For_Behinds_avg10',\n",
       " 'Home_For_Scores_avg10',\n",
       " 'Home_For_Total_Score_avg10',\n",
       " 'Home_Against_Goals_avg10',\n",
       " 'Home_Against_Behinds_avg10',\n",
       " 'Home_Against_Scores_avg10',\n",
       " 'Home_Against_Total_Score_avg10',\n",
       " 'Away_Total_Game_Score_avg2',\n",
       " 'Away_For_Goals_avg2',\n",
       " 'Away_For_Behinds_avg2',\n",
       " 'Away_For_Scores_avg2',\n",
       " 'Away_For_Total_Score_avg2',\n",
       " 'Away_Against_Goals_avg2',\n",
       " 'Away_Against_Behinds_avg2',\n",
       " 'Away_Against_Scores_avg2',\n",
       " 'Away_Against_Total_Score_avg2',\n",
       " 'Away_Total_Game_Score_avg10',\n",
       " 'Away_For_Goals_avg10',\n",
       " 'Away_For_Behinds_avg10',\n",
       " 'Away_For_Scores_avg10',\n",
       " 'Away_For_Total_Score_avg10',\n",
       " 'Away_Against_Goals_avg10',\n",
       " 'Away_Against_Behinds_avg10',\n",
       " 'Away_Against_Scores_avg10',\n",
       " 'Away_Against_Total_Score_avg10']"
      ]
     },
     "execution_count": 9,
     "metadata": {},
     "output_type": "execute_result"
    }
   ],
   "source": [
    "list(training_data)"
   ]
  },
  {
   "cell_type": "code",
   "execution_count": 10,
   "metadata": {},
   "outputs": [],
   "source": [
    "modelling_features = [\n",
    "    'Venue',\n",
    "    'Year',\n",
    "    'Temperature',\n",
    "    'Weather_Type',\n",
    "    'Home_Team',\n",
    "    'Away_Team',\n",
    "    'Home_Total_Game_Score_avg2',\n",
    "    'Home_For_Goals_avg2',\n",
    "    'Home_For_Behinds_avg2',\n",
    "    'Home_For_Scores_avg2',\n",
    "    'Home_For_Total_Score_avg2',\n",
    "    'Home_Against_Goals_avg2',\n",
    "    'Home_Against_Behinds_avg2',\n",
    "    'Home_Against_Scores_avg2',\n",
    "    'Home_Against_Total_Score_avg2',\n",
    "    'Home_Total_Game_Score_avg10',\n",
    "    'Home_For_Goals_avg10',\n",
    "    'Home_For_Behinds_avg10',\n",
    "    'Home_For_Scores_avg10',\n",
    "    'Home_For_Total_Score_avg10',\n",
    "    'Home_Against_Goals_avg10',\n",
    "    'Home_Against_Behinds_avg10',\n",
    "    'Home_Against_Scores_avg10',\n",
    "    'Home_Against_Total_Score_avg10',\n",
    "    'Away_Total_Game_Score_avg2',\n",
    "    'Away_For_Goals_avg2',\n",
    "    'Away_For_Behinds_avg2',\n",
    "    'Away_For_Scores_avg2',\n",
    "    'Away_For_Total_Score_avg2',\n",
    "    'Away_Against_Goals_avg2',\n",
    "    'Away_Against_Behinds_avg2',\n",
    "    'Away_Against_Scores_avg2',\n",
    "    'Away_Against_Total_Score_avg2',\n",
    "    'Away_Total_Game_Score_avg10',\n",
    "    'Away_For_Goals_avg10',\n",
    "    'Away_For_Behinds_avg10',\n",
    "    'Away_For_Scores_avg10',\n",
    "    'Away_For_Total_Score_avg10',\n",
    "    'Away_Against_Goals_avg10',\n",
    "    'Away_Against_Behinds_avg10',\n",
    "    'Away_Against_Scores_avg10',\n",
    "    'Away_Against_Total_Score_avg10']"
   ]
  },
  {
   "cell_type": "code",
   "execution_count": 11,
   "metadata": {},
   "outputs": [],
   "source": [
    "def get_modelling_features(data, feature_list, response):\n",
    "    \n",
    "    X, y = data[feature_list], data[response]\n",
    "    \n",
    "    return X, y"
   ]
  },
  {
   "cell_type": "code",
   "execution_count": 12,
   "metadata": {},
   "outputs": [],
   "source": [
    "X_train, y_train = get_modelling_features(training_data, modelling_features, response)\n",
    "X_test, y_test = get_modelling_features(test_data, modelling_features, response)\n",
    "X_oot, y_oot = get_modelling_features(oot_data, modelling_features, response)"
   ]
  },
  {
   "cell_type": "code",
   "execution_count": 13,
   "metadata": {},
   "outputs": [],
   "source": [
    "def one_hot_encode_fit(X):\n",
    "    \n",
    "    X_dummies = pd.get_dummies(X)\n",
    "    \n",
    "    return list(X_dummies)"
   ]
  },
  {
   "cell_type": "code",
   "execution_count": 14,
   "metadata": {},
   "outputs": [],
   "source": [
    "def one_hot_encode_transform(X, expected_features):\n",
    "    \n",
    "    X_dummies = pd.get_dummies(X)\n",
    "    \n",
    "    for col in list(expected_features):\n",
    "        if col not in list(X_dummies):\n",
    "            X_dummies[col] = 0\n",
    "            \n",
    "    X_dummies = X_dummies[expected_features]\n",
    "    \n",
    "    return X_dummies"
   ]
  },
  {
   "cell_type": "code",
   "execution_count": 15,
   "metadata": {},
   "outputs": [],
   "source": [
    "ohe_expected_features = one_hot_encode_fit(X_train)\n",
    "X_train_dummies = one_hot_encode_transform(X_train, expected_features=ohe_expected_features)\n",
    "X_test_dummies = one_hot_encode_transform(X_test, expected_features=ohe_expected_features)\n",
    "X_oot_dummies = one_hot_encode_transform(X_oot, expected_features=ohe_expected_features)"
   ]
  },
  {
   "cell_type": "code",
   "execution_count": 16,
   "metadata": {},
   "outputs": [
    {
     "data": {
      "text/plain": [
       "((1909, 104), (476, 104), (621, 104))"
      ]
     },
     "execution_count": 16,
     "metadata": {},
     "output_type": "execute_result"
    }
   ],
   "source": [
    "X_train_dummies.shape, X_test_dummies.shape, X_oot_dummies.shape, "
   ]
  },
  {
   "cell_type": "markdown",
   "metadata": {},
   "source": [
    "Feature Selection"
   ]
  },
  {
   "cell_type": "code",
   "execution_count": 17,
   "metadata": {},
   "outputs": [],
   "source": [
    "# from feature_selector import XGBFeatureSelector"
   ]
  },
  {
   "cell_type": "code",
   "execution_count": 18,
   "metadata": {},
   "outputs": [],
   "source": [
    "selected_feature_list = [\n",
    "    'Home_Total_Game_Score_avg2',\n",
    "    'Home_Against_Total_Score_avg2',\n",
    "    'Home_For_Goals_avg10',\n",
    "    'Home_For_Behinds_avg10',\n",
    "    'Home_For_Total_Score_avg10',\n",
    "    'Home_Against_Goals_avg10',\n",
    "    'Home_Against_Behinds_avg10',\n",
    "    'Home_Against_Scores_avg10',\n",
    "    'Home_Against_Total_Score_avg10',\n",
    "    'Away_Total_Game_Score_avg2',\n",
    "    'Away_For_Goals_avg2',\n",
    "    'Away_For_Scores_avg2',\n",
    "    'Away_For_Total_Score_avg2',\n",
    "    'Away_Against_Behinds_avg2',\n",
    "    'Away_Against_Scores_avg2',\n",
    "    'Away_Against_Total_Score_avg2',\n",
    "    'Away_Total_Game_Score_avg10',\n",
    "    'Away_For_Goals_avg10',\n",
    "    'Away_For_Behinds_avg10',\n",
    "    'Away_For_Scores_avg10',\n",
    "    'Away_Against_Goals_avg10',\n",
    "    'Away_Against_Behinds_avg10',\n",
    "    'Away_Against_Scores_avg10',\n",
    "    'Away_Against_Total_Score_avg10',\n",
    "    'Venue_Docklands',\n",
    "    'Venue_Marrara Oval',\n",
    "    'Venue_Perth Stadium',\n",
    "    'Weather_Type_CLEAR_NIGHT',\n",
    "    'Weather_Type_MOSTLY_CLEAR',\n",
    "    'Weather_Type_RAIN',\n",
    "    'Home_Team_Essendon',\n",
    "    'Away_Team_Adelaide',\n",
    "    'Away_Team_Collingwood',\n",
    "    'Away_Team_Sydney',\n",
    "    'Away_Team_West Coast',\n",
    "    'Away_Team_Western Bulldogs'\n",
    "]"
   ]
  },
  {
   "cell_type": "code",
   "execution_count": 19,
   "metadata": {},
   "outputs": [],
   "source": [
    "def get_selected_feature_data(X_dummies, selected_features):\n",
    "    \n",
    "    X_selected = X_dummies[selected_features]\n",
    "    \n",
    "    return X_selected"
   ]
  },
  {
   "cell_type": "code",
   "execution_count": 20,
   "metadata": {},
   "outputs": [],
   "source": [
    "X_train_selected = get_selected_feature_data(X_train_dummies, selected_feature_list)\n",
    "X_test_selected = get_selected_feature_data(X_test_dummies, selected_feature_list)\n",
    "X_oot_selected = get_selected_feature_data(X_oot_dummies, selected_feature_list)"
   ]
  },
  {
   "attachments": {},
   "cell_type": "markdown",
   "metadata": {},
   "source": [
    "Optuna Hyperparameter Tuning Class - HyperParameterTuner & XGBHyperparameterTuner"
   ]
  },
  {
   "cell_type": "code",
   "execution_count": 39,
   "metadata": {},
   "outputs": [],
   "source": [
    "params = {\n",
    "    'max_depth': 2,\n",
    "    'min_child_weight': 12,\n",
    "    'eta': 0.41294254112407514,\n",
    "    'gamma': 20.0,\n",
    "    'lambda': 0.35560233747051745,\n",
    "    'alpha': 0.05358772178288147,\n",
    "    'subsample': 0.27518999577189024,\n",
    "    'colsample_bytree': 0.3430224483178065\n",
    " }"
   ]
  },
  {
   "attachments": {},
   "cell_type": "markdown",
   "metadata": {},
   "source": [
    "Training Model - SuperXGBRegressor class for training and predictions"
   ]
  },
  {
   "cell_type": "code",
   "execution_count": 40,
   "metadata": {},
   "outputs": [],
   "source": [
    "from supermodel import SuperXGBRegressor"
   ]
  },
  {
   "cell_type": "code",
   "execution_count": 41,
   "metadata": {},
   "outputs": [],
   "source": [
    "params['objective'] = 'reg:squarederror'\n",
    "params['num_rounds'] = 100\n",
    "params['early_stopping_rounds'] = 100\n",
    "params['verbosity'] = 1"
   ]
  },
  {
   "cell_type": "code",
   "execution_count": 42,
   "metadata": {},
   "outputs": [],
   "source": [
    "super_xgb = SuperXGBRegressor(X_train = X_train_selected, \n",
    "                              y_train = y_train, \n",
    "                              X_test = X_test_selected, \n",
    "                              y_test = y_test, \n",
    "                              params = params)"
   ]
  },
  {
   "cell_type": "code",
   "execution_count": 43,
   "metadata": {},
   "outputs": [
    {
     "name": "stdout",
     "output_type": "stream",
     "text": [
      "[0]\tvalidation_0-rmse:109.51955\tvalidation_1-rmse:108.36848\n",
      "[1]\tvalidation_0-rmse:66.19593\tvalidation_1-rmse:65.23772\n",
      "[2]\tvalidation_0-rmse:41.37178\tvalidation_1-rmse:40.73654\n",
      "[3]\tvalidation_0-rmse:29.22308\tvalidation_1-rmse:28.87156\n",
      "[4]\tvalidation_0-rmse:22.49571\tvalidation_1-rmse:22.51412\n",
      "[5]\tvalidation_0-rmse:19.56226\tvalidation_1-rmse:19.87262\n",
      "[6]\tvalidation_0-rmse:18.29560\tvalidation_1-rmse:18.90694\n",
      "[7]\tvalidation_0-rmse:17.89800\tvalidation_1-rmse:18.62835\n",
      "[8]\tvalidation_0-rmse:17.62825\tvalidation_1-rmse:18.43151\n",
      "[9]\tvalidation_0-rmse:17.42781\tvalidation_1-rmse:18.29623\n",
      "[10]\tvalidation_0-rmse:17.36976\tvalidation_1-rmse:18.35325\n",
      "[11]\tvalidation_0-rmse:17.34063\tvalidation_1-rmse:18.43078\n",
      "[12]\tvalidation_0-rmse:17.32388\tvalidation_1-rmse:18.45391\n",
      "[13]\tvalidation_0-rmse:17.26688\tvalidation_1-rmse:18.48901\n",
      "[14]\tvalidation_0-rmse:17.20200\tvalidation_1-rmse:18.31137\n",
      "[15]\tvalidation_0-rmse:17.16752\tvalidation_1-rmse:18.30192\n",
      "[16]\tvalidation_0-rmse:17.22373\tvalidation_1-rmse:18.17052\n",
      "[17]\tvalidation_0-rmse:17.15985\tvalidation_1-rmse:18.26743\n",
      "[18]\tvalidation_0-rmse:17.10461\tvalidation_1-rmse:18.31260\n",
      "[19]\tvalidation_0-rmse:17.14574\tvalidation_1-rmse:18.35382\n",
      "[20]\tvalidation_0-rmse:17.08115\tvalidation_1-rmse:18.33331\n",
      "[21]\tvalidation_0-rmse:17.09615\tvalidation_1-rmse:18.32720\n",
      "[22]\tvalidation_0-rmse:17.06807\tvalidation_1-rmse:18.46377\n",
      "[23]\tvalidation_0-rmse:17.03876\tvalidation_1-rmse:18.52919\n",
      "[24]\tvalidation_0-rmse:16.97131\tvalidation_1-rmse:18.52966\n",
      "[25]\tvalidation_0-rmse:16.98652\tvalidation_1-rmse:18.52413\n",
      "[26]\tvalidation_0-rmse:16.98068\tvalidation_1-rmse:18.63297\n",
      "[27]\tvalidation_0-rmse:16.93535\tvalidation_1-rmse:18.59993\n",
      "[28]\tvalidation_0-rmse:16.91845\tvalidation_1-rmse:18.62965\n",
      "[29]\tvalidation_0-rmse:16.85400\tvalidation_1-rmse:18.57854\n",
      "[30]\tvalidation_0-rmse:16.83118\tvalidation_1-rmse:18.57018\n",
      "[31]\tvalidation_0-rmse:16.79977\tvalidation_1-rmse:18.53594\n",
      "[32]\tvalidation_0-rmse:16.74237\tvalidation_1-rmse:18.59927\n",
      "[33]\tvalidation_0-rmse:16.75428\tvalidation_1-rmse:18.52132\n",
      "[34]\tvalidation_0-rmse:16.66702\tvalidation_1-rmse:18.60964\n",
      "[35]\tvalidation_0-rmse:16.69606\tvalidation_1-rmse:18.79047\n",
      "[36]\tvalidation_0-rmse:16.69387\tvalidation_1-rmse:18.80339\n",
      "[37]\tvalidation_0-rmse:16.63810\tvalidation_1-rmse:18.94867\n",
      "[38]\tvalidation_0-rmse:16.63808\tvalidation_1-rmse:18.86045\n",
      "[39]\tvalidation_0-rmse:16.63540\tvalidation_1-rmse:18.90402\n",
      "[40]\tvalidation_0-rmse:16.64581\tvalidation_1-rmse:19.00166\n",
      "[41]\tvalidation_0-rmse:16.58798\tvalidation_1-rmse:19.07762\n",
      "[42]\tvalidation_0-rmse:16.55895\tvalidation_1-rmse:19.00118\n",
      "[43]\tvalidation_0-rmse:16.54136\tvalidation_1-rmse:19.03469\n",
      "[44]\tvalidation_0-rmse:16.49246\tvalidation_1-rmse:19.08730\n",
      "[45]\tvalidation_0-rmse:16.48843\tvalidation_1-rmse:19.15132\n",
      "[46]\tvalidation_0-rmse:16.50777\tvalidation_1-rmse:19.27400\n",
      "[47]\tvalidation_0-rmse:16.50268\tvalidation_1-rmse:19.22654\n",
      "[48]\tvalidation_0-rmse:16.44235\tvalidation_1-rmse:19.19546\n",
      "[49]\tvalidation_0-rmse:16.45840\tvalidation_1-rmse:19.16872\n",
      "[50]\tvalidation_0-rmse:16.45810\tvalidation_1-rmse:19.12629\n",
      "[51]\tvalidation_0-rmse:16.45294\tvalidation_1-rmse:19.22767\n",
      "[52]\tvalidation_0-rmse:16.42725\tvalidation_1-rmse:19.16052\n",
      "[53]\tvalidation_0-rmse:16.42062\tvalidation_1-rmse:19.21725\n",
      "[54]\tvalidation_0-rmse:16.41259\tvalidation_1-rmse:19.18516\n",
      "[55]\tvalidation_0-rmse:16.45925\tvalidation_1-rmse:19.29522\n",
      "[56]\tvalidation_0-rmse:16.43616\tvalidation_1-rmse:19.22691\n",
      "[57]\tvalidation_0-rmse:16.43299\tvalidation_1-rmse:19.27858\n",
      "[58]\tvalidation_0-rmse:16.38736\tvalidation_1-rmse:19.35649\n",
      "[59]\tvalidation_0-rmse:16.38576\tvalidation_1-rmse:19.53632\n",
      "[60]\tvalidation_0-rmse:16.43193\tvalidation_1-rmse:19.57289\n",
      "[61]\tvalidation_0-rmse:16.37449\tvalidation_1-rmse:19.60803\n",
      "[62]\tvalidation_0-rmse:16.33960\tvalidation_1-rmse:19.55683\n",
      "[63]\tvalidation_0-rmse:16.29092\tvalidation_1-rmse:19.48062\n",
      "[64]\tvalidation_0-rmse:16.29029\tvalidation_1-rmse:19.55565\n",
      "[65]\tvalidation_0-rmse:16.26776\tvalidation_1-rmse:19.56164\n",
      "[66]\tvalidation_0-rmse:16.28941\tvalidation_1-rmse:19.61898\n",
      "[67]\tvalidation_0-rmse:16.25428\tvalidation_1-rmse:19.66879\n",
      "[68]\tvalidation_0-rmse:16.22662\tvalidation_1-rmse:19.51936\n",
      "[69]\tvalidation_0-rmse:16.21473\tvalidation_1-rmse:19.62409\n",
      "[70]\tvalidation_0-rmse:16.18100\tvalidation_1-rmse:19.53017\n",
      "[71]\tvalidation_0-rmse:16.15102\tvalidation_1-rmse:19.59414\n",
      "[72]\tvalidation_0-rmse:16.14998\tvalidation_1-rmse:19.67037\n",
      "[73]\tvalidation_0-rmse:16.17249\tvalidation_1-rmse:19.82742\n",
      "[74]\tvalidation_0-rmse:16.10548\tvalidation_1-rmse:19.71603\n",
      "[75]\tvalidation_0-rmse:16.08306\tvalidation_1-rmse:19.67139\n",
      "[76]\tvalidation_0-rmse:16.10080\tvalidation_1-rmse:19.71427\n",
      "[77]\tvalidation_0-rmse:16.06421\tvalidation_1-rmse:19.68178\n",
      "[78]\tvalidation_0-rmse:16.06355\tvalidation_1-rmse:19.66087\n",
      "[79]\tvalidation_0-rmse:16.02177\tvalidation_1-rmse:19.69499\n",
      "[80]\tvalidation_0-rmse:16.04083\tvalidation_1-rmse:19.73140\n",
      "[81]\tvalidation_0-rmse:16.01783\tvalidation_1-rmse:19.73170\n",
      "[82]\tvalidation_0-rmse:15.98797\tvalidation_1-rmse:19.77056\n",
      "[83]\tvalidation_0-rmse:15.99164\tvalidation_1-rmse:19.78959\n",
      "[84]\tvalidation_0-rmse:15.99669\tvalidation_1-rmse:19.83490\n",
      "[85]\tvalidation_0-rmse:16.00941\tvalidation_1-rmse:19.88118\n",
      "[86]\tvalidation_0-rmse:16.02527\tvalidation_1-rmse:19.93136\n",
      "[87]\tvalidation_0-rmse:16.07050\tvalidation_1-rmse:20.04197\n",
      "[88]\tvalidation_0-rmse:16.06291\tvalidation_1-rmse:20.02438\n",
      "[89]\tvalidation_0-rmse:16.01343\tvalidation_1-rmse:20.00917\n",
      "[90]\tvalidation_0-rmse:16.08428\tvalidation_1-rmse:20.18056\n",
      "[91]\tvalidation_0-rmse:16.08390\tvalidation_1-rmse:20.15972\n",
      "[92]\tvalidation_0-rmse:16.07449\tvalidation_1-rmse:19.99858\n",
      "[93]\tvalidation_0-rmse:16.06785\tvalidation_1-rmse:19.96780\n",
      "[94]\tvalidation_0-rmse:16.02769\tvalidation_1-rmse:19.93518\n",
      "[95]\tvalidation_0-rmse:16.03038\tvalidation_1-rmse:20.02433\n",
      "[96]\tvalidation_0-rmse:16.02821\tvalidation_1-rmse:20.08787\n",
      "[97]\tvalidation_0-rmse:16.01742\tvalidation_1-rmse:20.15724\n",
      "[98]\tvalidation_0-rmse:15.98533\tvalidation_1-rmse:20.25302\n",
      "[99]\tvalidation_0-rmse:15.95842\tvalidation_1-rmse:20.17887\n"
     ]
    }
   ],
   "source": [
    "super_xgb.fit()"
   ]
  },
  {
   "cell_type": "code",
   "execution_count": 44,
   "metadata": {},
   "outputs": [
    {
     "data": {
      "text/html": [
       "<style>#sk-container-id-3 {color: black;background-color: white;}#sk-container-id-3 pre{padding: 0;}#sk-container-id-3 div.sk-toggleable {background-color: white;}#sk-container-id-3 label.sk-toggleable__label {cursor: pointer;display: block;width: 100%;margin-bottom: 0;padding: 0.3em;box-sizing: border-box;text-align: center;}#sk-container-id-3 label.sk-toggleable__label-arrow:before {content: \"▸\";float: left;margin-right: 0.25em;color: #696969;}#sk-container-id-3 label.sk-toggleable__label-arrow:hover:before {color: black;}#sk-container-id-3 div.sk-estimator:hover label.sk-toggleable__label-arrow:before {color: black;}#sk-container-id-3 div.sk-toggleable__content {max-height: 0;max-width: 0;overflow: hidden;text-align: left;background-color: #f0f8ff;}#sk-container-id-3 div.sk-toggleable__content pre {margin: 0.2em;color: black;border-radius: 0.25em;background-color: #f0f8ff;}#sk-container-id-3 input.sk-toggleable__control:checked~div.sk-toggleable__content {max-height: 200px;max-width: 100%;overflow: auto;}#sk-container-id-3 input.sk-toggleable__control:checked~label.sk-toggleable__label-arrow:before {content: \"▾\";}#sk-container-id-3 div.sk-estimator input.sk-toggleable__control:checked~label.sk-toggleable__label {background-color: #d4ebff;}#sk-container-id-3 div.sk-label input.sk-toggleable__control:checked~label.sk-toggleable__label {background-color: #d4ebff;}#sk-container-id-3 input.sk-hidden--visually {border: 0;clip: rect(1px 1px 1px 1px);clip: rect(1px, 1px, 1px, 1px);height: 1px;margin: -1px;overflow: hidden;padding: 0;position: absolute;width: 1px;}#sk-container-id-3 div.sk-estimator {font-family: monospace;background-color: #f0f8ff;border: 1px dotted black;border-radius: 0.25em;box-sizing: border-box;margin-bottom: 0.5em;}#sk-container-id-3 div.sk-estimator:hover {background-color: #d4ebff;}#sk-container-id-3 div.sk-parallel-item::after {content: \"\";width: 100%;border-bottom: 1px solid gray;flex-grow: 1;}#sk-container-id-3 div.sk-label:hover label.sk-toggleable__label {background-color: #d4ebff;}#sk-container-id-3 div.sk-serial::before {content: \"\";position: absolute;border-left: 1px solid gray;box-sizing: border-box;top: 0;bottom: 0;left: 50%;z-index: 0;}#sk-container-id-3 div.sk-serial {display: flex;flex-direction: column;align-items: center;background-color: white;padding-right: 0.2em;padding-left: 0.2em;position: relative;}#sk-container-id-3 div.sk-item {position: relative;z-index: 1;}#sk-container-id-3 div.sk-parallel {display: flex;align-items: stretch;justify-content: center;background-color: white;position: relative;}#sk-container-id-3 div.sk-item::before, #sk-container-id-3 div.sk-parallel-item::before {content: \"\";position: absolute;border-left: 1px solid gray;box-sizing: border-box;top: 0;bottom: 0;left: 50%;z-index: -1;}#sk-container-id-3 div.sk-parallel-item {display: flex;flex-direction: column;z-index: 1;position: relative;background-color: white;}#sk-container-id-3 div.sk-parallel-item:first-child::after {align-self: flex-end;width: 50%;}#sk-container-id-3 div.sk-parallel-item:last-child::after {align-self: flex-start;width: 50%;}#sk-container-id-3 div.sk-parallel-item:only-child::after {width: 0;}#sk-container-id-3 div.sk-dashed-wrapped {border: 1px dashed gray;margin: 0 0.4em 0.5em 0.4em;box-sizing: border-box;padding-bottom: 0.4em;background-color: white;}#sk-container-id-3 div.sk-label label {font-family: monospace;font-weight: bold;display: inline-block;line-height: 1.2em;}#sk-container-id-3 div.sk-label-container {text-align: center;}#sk-container-id-3 div.sk-container {/* jupyter's `normalize.less` sets `[hidden] { display: none; }` but bootstrap.min.css set `[hidden] { display: none !important; }` so we also need the `!important` here to be able to override the default hidden behavior on the sphinx rendered scikit-learn.org. See: https://github.com/scikit-learn/scikit-learn/issues/21755 */display: inline-block !important;position: relative;}#sk-container-id-3 div.sk-text-repr-fallback {display: none;}</style><div id=\"sk-container-id-3\" class=\"sk-top-container\"><div class=\"sk-text-repr-fallback\"><pre>XGBRegressor(base_score=None, booster=None, callbacks=None,\n",
       "             colsample_bylevel=None, colsample_bynode=None,\n",
       "             colsample_bytree=0.3430224483178065, early_stopping_rounds=100,\n",
       "             enable_categorical=False, eval_metric=None, feature_types=None,\n",
       "             gamma=20.0, gpu_id=None, grow_policy=None, importance_type=None,\n",
       "             interaction_constraints=None, learning_rate=0.41294254112407514,\n",
       "             max_bin=None, max_cat_threshold=None, max_cat_to_onehot=None,\n",
       "             max_delta_step=None, max_depth=2, max_leaves=None,\n",
       "             min_child_weight=12, missing=nan, monotone_constraints=None,\n",
       "             n_estimators=100, n_jobs=None, num_parallel_tree=None,\n",
       "             predictor=None, random_state=None, ...)</pre><b>In a Jupyter environment, please rerun this cell to show the HTML representation or trust the notebook. <br />On GitHub, the HTML representation is unable to render, please try loading this page with nbviewer.org.</b></div><div class=\"sk-container\" hidden><div class=\"sk-item\"><div class=\"sk-estimator sk-toggleable\"><input class=\"sk-toggleable__control sk-hidden--visually\" id=\"sk-estimator-id-3\" type=\"checkbox\" checked><label for=\"sk-estimator-id-3\" class=\"sk-toggleable__label sk-toggleable__label-arrow\">XGBRegressor</label><div class=\"sk-toggleable__content\"><pre>XGBRegressor(base_score=None, booster=None, callbacks=None,\n",
       "             colsample_bylevel=None, colsample_bynode=None,\n",
       "             colsample_bytree=0.3430224483178065, early_stopping_rounds=100,\n",
       "             enable_categorical=False, eval_metric=None, feature_types=None,\n",
       "             gamma=20.0, gpu_id=None, grow_policy=None, importance_type=None,\n",
       "             interaction_constraints=None, learning_rate=0.41294254112407514,\n",
       "             max_bin=None, max_cat_threshold=None, max_cat_to_onehot=None,\n",
       "             max_delta_step=None, max_depth=2, max_leaves=None,\n",
       "             min_child_weight=12, missing=nan, monotone_constraints=None,\n",
       "             n_estimators=100, n_jobs=None, num_parallel_tree=None,\n",
       "             predictor=None, random_state=None, ...)</pre></div></div></div></div></div>"
      ],
      "text/plain": [
       "XGBRegressor(base_score=None, booster=None, callbacks=None,\n",
       "             colsample_bylevel=None, colsample_bynode=None,\n",
       "             colsample_bytree=0.3430224483178065, early_stopping_rounds=100,\n",
       "             enable_categorical=False, eval_metric=None, feature_types=None,\n",
       "             gamma=20.0, gpu_id=None, grow_policy=None, importance_type=None,\n",
       "             interaction_constraints=None, learning_rate=0.41294254112407514,\n",
       "             max_bin=None, max_cat_threshold=None, max_cat_to_onehot=None,\n",
       "             max_delta_step=None, max_depth=2, max_leaves=None,\n",
       "             min_child_weight=12, missing=nan, monotone_constraints=None,\n",
       "             n_estimators=100, n_jobs=None, num_parallel_tree=None,\n",
       "             predictor=None, random_state=None, ...)"
      ]
     },
     "execution_count": 44,
     "metadata": {},
     "output_type": "execute_result"
    }
   ],
   "source": [
    "super_xgb.xgb_model"
   ]
  },
  {
   "cell_type": "code",
   "execution_count": 45,
   "metadata": {},
   "outputs": [],
   "source": [
    "test_preds = super_xgb.predict(X_test_selected)\n",
    "oot_preds = super_xgb.predict(X_oot_selected)"
   ]
  },
  {
   "attachments": {},
   "cell_type": "markdown",
   "metadata": {},
   "source": [
    "Export model"
   ]
  },
  {
   "cell_type": "code",
   "execution_count": 46,
   "metadata": {},
   "outputs": [],
   "source": [
    "super_xgb.export_model(\"xgb_regression.joblib\")"
   ]
  },
  {
   "cell_type": "code",
   "execution_count": 47,
   "metadata": {},
   "outputs": [],
   "source": [
    "import joblib"
   ]
  },
  {
   "cell_type": "code",
   "execution_count": 48,
   "metadata": {},
   "outputs": [],
   "source": [
    "xgb_model_loaded = joblib.load(\"xgb_regression.joblib\")"
   ]
  },
  {
   "cell_type": "code",
   "execution_count": 49,
   "metadata": {},
   "outputs": [
    {
     "data": {
      "text/html": [
       "<style>#sk-container-id-4 {color: black;background-color: white;}#sk-container-id-4 pre{padding: 0;}#sk-container-id-4 div.sk-toggleable {background-color: white;}#sk-container-id-4 label.sk-toggleable__label {cursor: pointer;display: block;width: 100%;margin-bottom: 0;padding: 0.3em;box-sizing: border-box;text-align: center;}#sk-container-id-4 label.sk-toggleable__label-arrow:before {content: \"▸\";float: left;margin-right: 0.25em;color: #696969;}#sk-container-id-4 label.sk-toggleable__label-arrow:hover:before {color: black;}#sk-container-id-4 div.sk-estimator:hover label.sk-toggleable__label-arrow:before {color: black;}#sk-container-id-4 div.sk-toggleable__content {max-height: 0;max-width: 0;overflow: hidden;text-align: left;background-color: #f0f8ff;}#sk-container-id-4 div.sk-toggleable__content pre {margin: 0.2em;color: black;border-radius: 0.25em;background-color: #f0f8ff;}#sk-container-id-4 input.sk-toggleable__control:checked~div.sk-toggleable__content {max-height: 200px;max-width: 100%;overflow: auto;}#sk-container-id-4 input.sk-toggleable__control:checked~label.sk-toggleable__label-arrow:before {content: \"▾\";}#sk-container-id-4 div.sk-estimator input.sk-toggleable__control:checked~label.sk-toggleable__label {background-color: #d4ebff;}#sk-container-id-4 div.sk-label input.sk-toggleable__control:checked~label.sk-toggleable__label {background-color: #d4ebff;}#sk-container-id-4 input.sk-hidden--visually {border: 0;clip: rect(1px 1px 1px 1px);clip: rect(1px, 1px, 1px, 1px);height: 1px;margin: -1px;overflow: hidden;padding: 0;position: absolute;width: 1px;}#sk-container-id-4 div.sk-estimator {font-family: monospace;background-color: #f0f8ff;border: 1px dotted black;border-radius: 0.25em;box-sizing: border-box;margin-bottom: 0.5em;}#sk-container-id-4 div.sk-estimator:hover {background-color: #d4ebff;}#sk-container-id-4 div.sk-parallel-item::after {content: \"\";width: 100%;border-bottom: 1px solid gray;flex-grow: 1;}#sk-container-id-4 div.sk-label:hover label.sk-toggleable__label {background-color: #d4ebff;}#sk-container-id-4 div.sk-serial::before {content: \"\";position: absolute;border-left: 1px solid gray;box-sizing: border-box;top: 0;bottom: 0;left: 50%;z-index: 0;}#sk-container-id-4 div.sk-serial {display: flex;flex-direction: column;align-items: center;background-color: white;padding-right: 0.2em;padding-left: 0.2em;position: relative;}#sk-container-id-4 div.sk-item {position: relative;z-index: 1;}#sk-container-id-4 div.sk-parallel {display: flex;align-items: stretch;justify-content: center;background-color: white;position: relative;}#sk-container-id-4 div.sk-item::before, #sk-container-id-4 div.sk-parallel-item::before {content: \"\";position: absolute;border-left: 1px solid gray;box-sizing: border-box;top: 0;bottom: 0;left: 50%;z-index: -1;}#sk-container-id-4 div.sk-parallel-item {display: flex;flex-direction: column;z-index: 1;position: relative;background-color: white;}#sk-container-id-4 div.sk-parallel-item:first-child::after {align-self: flex-end;width: 50%;}#sk-container-id-4 div.sk-parallel-item:last-child::after {align-self: flex-start;width: 50%;}#sk-container-id-4 div.sk-parallel-item:only-child::after {width: 0;}#sk-container-id-4 div.sk-dashed-wrapped {border: 1px dashed gray;margin: 0 0.4em 0.5em 0.4em;box-sizing: border-box;padding-bottom: 0.4em;background-color: white;}#sk-container-id-4 div.sk-label label {font-family: monospace;font-weight: bold;display: inline-block;line-height: 1.2em;}#sk-container-id-4 div.sk-label-container {text-align: center;}#sk-container-id-4 div.sk-container {/* jupyter's `normalize.less` sets `[hidden] { display: none; }` but bootstrap.min.css set `[hidden] { display: none !important; }` so we also need the `!important` here to be able to override the default hidden behavior on the sphinx rendered scikit-learn.org. See: https://github.com/scikit-learn/scikit-learn/issues/21755 */display: inline-block !important;position: relative;}#sk-container-id-4 div.sk-text-repr-fallback {display: none;}</style><div id=\"sk-container-id-4\" class=\"sk-top-container\"><div class=\"sk-text-repr-fallback\"><pre>XGBRegressor(base_score=None, booster=None, callbacks=None,\n",
       "             colsample_bylevel=None, colsample_bynode=None,\n",
       "             colsample_bytree=0.3430224483178065, early_stopping_rounds=100,\n",
       "             enable_categorical=False, eval_metric=None, feature_types=None,\n",
       "             gamma=20.0, gpu_id=None, grow_policy=None, importance_type=None,\n",
       "             interaction_constraints=None, learning_rate=0.41294254112407514,\n",
       "             max_bin=None, max_cat_threshold=None, max_cat_to_onehot=None,\n",
       "             max_delta_step=None, max_depth=2, max_leaves=None,\n",
       "             min_child_weight=12, missing=nan, monotone_constraints=None,\n",
       "             n_estimators=100, n_jobs=None, num_parallel_tree=None,\n",
       "             predictor=None, random_state=None, ...)</pre><b>In a Jupyter environment, please rerun this cell to show the HTML representation or trust the notebook. <br />On GitHub, the HTML representation is unable to render, please try loading this page with nbviewer.org.</b></div><div class=\"sk-container\" hidden><div class=\"sk-item\"><div class=\"sk-estimator sk-toggleable\"><input class=\"sk-toggleable__control sk-hidden--visually\" id=\"sk-estimator-id-4\" type=\"checkbox\" checked><label for=\"sk-estimator-id-4\" class=\"sk-toggleable__label sk-toggleable__label-arrow\">XGBRegressor</label><div class=\"sk-toggleable__content\"><pre>XGBRegressor(base_score=None, booster=None, callbacks=None,\n",
       "             colsample_bylevel=None, colsample_bynode=None,\n",
       "             colsample_bytree=0.3430224483178065, early_stopping_rounds=100,\n",
       "             enable_categorical=False, eval_metric=None, feature_types=None,\n",
       "             gamma=20.0, gpu_id=None, grow_policy=None, importance_type=None,\n",
       "             interaction_constraints=None, learning_rate=0.41294254112407514,\n",
       "             max_bin=None, max_cat_threshold=None, max_cat_to_onehot=None,\n",
       "             max_delta_step=None, max_depth=2, max_leaves=None,\n",
       "             min_child_weight=12, missing=nan, monotone_constraints=None,\n",
       "             n_estimators=100, n_jobs=None, num_parallel_tree=None,\n",
       "             predictor=None, random_state=None, ...)</pre></div></div></div></div></div>"
      ],
      "text/plain": [
       "XGBRegressor(base_score=None, booster=None, callbacks=None,\n",
       "             colsample_bylevel=None, colsample_bynode=None,\n",
       "             colsample_bytree=0.3430224483178065, early_stopping_rounds=100,\n",
       "             enable_categorical=False, eval_metric=None, feature_types=None,\n",
       "             gamma=20.0, gpu_id=None, grow_policy=None, importance_type=None,\n",
       "             interaction_constraints=None, learning_rate=0.41294254112407514,\n",
       "             max_bin=None, max_cat_threshold=None, max_cat_to_onehot=None,\n",
       "             max_delta_step=None, max_depth=2, max_leaves=None,\n",
       "             min_child_weight=12, missing=nan, monotone_constraints=None,\n",
       "             n_estimators=100, n_jobs=None, num_parallel_tree=None,\n",
       "             predictor=None, random_state=None, ...)"
      ]
     },
     "execution_count": 49,
     "metadata": {},
     "output_type": "execute_result"
    }
   ],
   "source": [
    "xgb_model_loaded"
   ]
  },
  {
   "cell_type": "code",
   "execution_count": 51,
   "metadata": {},
   "outputs": [],
   "source": [
    "assert (xgb_model_loaded.predict(X_test_selected) == test_preds).all()\n",
    "assert (xgb_model_loaded.predict(X_oot_selected) == oot_preds).all()"
   ]
  },
  {
   "attachments": {},
   "cell_type": "markdown",
   "metadata": {},
   "source": [
    "Evaluate Model"
   ]
  },
  {
   "cell_type": "code",
   "execution_count": null,
   "metadata": {},
   "outputs": [],
   "source": [
    "xgb.plot_importance(xgb_bst, importance_type = \"total_gain\")"
   ]
  },
  {
   "cell_type": "code",
   "execution_count": null,
   "metadata": {},
   "outputs": [],
   "source": [
    "xgb.plot_importance(xgb_bst, importance_type = \"gain\")"
   ]
  },
  {
   "cell_type": "code",
   "execution_count": null,
   "metadata": {},
   "outputs": [],
   "source": [
    "xgb.plot_importance(xgb_bst, importance_type = \"weight\")"
   ]
  },
  {
   "cell_type": "code",
   "execution_count": null,
   "metadata": {},
   "outputs": [],
   "source": [
    "def MAE(data, model, actuals):\n",
    "\n",
    "    preds = model.predict(data)\n",
    "    absolute_error = abs(preds - actuals)\n",
    "    mae = np.mean(absolute_error)\n",
    "\n",
    "    return mae"
   ]
  },
  {
   "cell_type": "code",
   "execution_count": null,
   "metadata": {},
   "outputs": [],
   "source": [
    "def RMSE(data, model, actuals):\n",
    "\n",
    "    preds = model.predict(data)\n",
    "    squared_error = (preds - actuals)**2\n",
    "    mean_squared_error = np.mean(squared_error)\n",
    "    rmse = (mean_squared_error)**0.5\n",
    "\n",
    "    return rmse"
   ]
  },
  {
   "cell_type": "code",
   "execution_count": null,
   "metadata": {},
   "outputs": [],
   "source": [
    "def get_error_metrics(data, model, actuals):\n",
    "\n",
    "    mae = MAE(data, model, actuals)\n",
    "    rmse = RMSE(data, model, actuals)\n",
    "\n",
    "    print(\"MAE: {}\".format(mae))\n",
    "    print(\"RMSE: {}\".format(rmse))\n",
    "\n",
    "    return mae, rmse"
   ]
  },
  {
   "cell_type": "code",
   "execution_count": null,
   "metadata": {},
   "outputs": [],
   "source": [
    "get_error_metrics(dtrain, xgb_bst, y_train)"
   ]
  },
  {
   "cell_type": "code",
   "execution_count": null,
   "metadata": {},
   "outputs": [],
   "source": [
    "get_error_metrics(dtest, xgb_bst, y_test)"
   ]
  },
  {
   "cell_type": "code",
   "execution_count": null,
   "metadata": {},
   "outputs": [],
   "source": [
    "get_error_metrics(doot, xgb_bst, y_oot)"
   ]
  },
  {
   "cell_type": "markdown",
   "metadata": {},
   "source": [
    "Save model predictions"
   ]
  },
  {
   "cell_type": "code",
   "execution_count": null,
   "metadata": {},
   "outputs": [],
   "source": [
    "data['xgb_preds'] = get_xgb_predictions(data, xgb_model)"
   ]
  },
  {
   "cell_type": "code",
   "execution_count": null,
   "metadata": {},
   "outputs": [],
   "source": [
    "data['xgb_preds'].mean(), data[response].mean()"
   ]
  },
  {
   "cell_type": "code",
   "execution_count": null,
   "metadata": {},
   "outputs": [],
   "source": [
    "data['std_dev'] = np.std(y_train)"
   ]
  },
  {
   "cell_type": "code",
   "execution_count": null,
   "metadata": {},
   "outputs": [],
   "source": [
    "data[['Match_ID', 'Date', 'Total_Game_Score', 'xgb_preds', 'std_dev']].head()"
   ]
  },
  {
   "cell_type": "code",
   "execution_count": null,
   "metadata": {},
   "outputs": [],
   "source": [
    "data[['Match_ID', 'Date', 'Total_Game_Score', 'xgb_preds', 'std_dev']].to_csv(\"/Users/ciaran/Documents/Projects/AFL/total-points-score-model/data/model-predictions/xgb_model_preds.csv\", index=False)"
   ]
  },
  {
   "cell_type": "code",
   "execution_count": null,
   "metadata": {},
   "outputs": [],
   "source": []
  }
 ],
 "metadata": {
  "kernelspec": {
   "display_name": "afl-total-model-env",
   "language": "python",
   "name": "python3"
  },
  "language_info": {
   "codemirror_mode": {
    "name": "ipython",
    "version": 3
   },
   "file_extension": ".py",
   "mimetype": "text/x-python",
   "name": "python",
   "nbconvert_exporter": "python",
   "pygments_lexer": "ipython3",
   "version": "3.9.16"
  },
  "orig_nbformat": 4,
  "vscode": {
   "interpreter": {
    "hash": "dc578ee0f2f240f88b07d66010ce4f17cba19ae2fcd1972906e53630b629e476"
   }
  }
 },
 "nbformat": 4,
 "nbformat_minor": 2
}
