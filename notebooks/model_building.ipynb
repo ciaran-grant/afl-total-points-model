{
 "cells": [
  {
   "attachments": {},
   "cell_type": "markdown",
   "metadata": {},
   "source": [
    "Total Game Score Model - Model Tuning and Building - GBM"
   ]
  },
  {
   "cell_type": "code",
   "execution_count": null,
   "metadata": {},
   "outputs": [],
   "source": [
    "import pandas as pd\n",
    "import numpy as np\n",
    "import seaborn as sns\n",
    "import joblib\n",
    "import warnings\n",
    "warnings.filterwarnings('ignore')\n",
    "\n",
    "import sys\n",
    "sys.path.append('..')\n",
    "from total_points_model.config import raw_data_file_path\n",
    "from total_points_model.domain.preprocessing.data_preprocessor import DataPreprocessor\n",
    "from total_points_model.domain.contracts.mappings import Mappings\n",
    "from total_points_model.domain.contracts.rolling_columns import RollingColumns\n",
    "from total_points_model.domain.contracts.modelling_data_contract import ModellingDataContract\n",
    "from total_points_model.domain.modelling.hyperparameter_tuning import XGBHyperparameterTuner, XGBYearHyperparameterTuner\n",
    "from total_points_model.domain.modelling.supermodel import SuperXGBRegressor\n",
    "from total_points_model.domain.modelling.optuna_xgb_param_grid import OptunaXGBParamGrid\n",
    "\n",
    "pd.options.display.max_rows = 100\n",
    "pd.options.display.max_columns = 999\n",
    "\n",
    "%load_ext autoreload\n",
    "%autoreload 2"
   ]
  },
  {
   "attachments": {},
   "cell_type": "markdown",
   "metadata": {},
   "source": [
    "Model Version"
   ]
  },
  {
   "cell_type": "code",
   "execution_count": null,
   "metadata": {},
   "outputs": [],
   "source": [
    "model_version = 8\n",
    "model_name = 'xgb_total_points'\n",
    "model_file_name = model_name + '_v' + str(model_version)\n",
    "\n",
    "model_output_path = \"/afl-total-points-model/total_points_model/models/\"\n",
    "prediction_output_path = \"/afl-total-points-model/total_points_model/predictions/\"\n",
    "\n",
    "preprocessor_file_name = 'preprocessor_v' + str(model_version)\n",
    "preprocessor_output_path = \"/afl-total-points-model/total_points_model/preprocessors/\""
   ]
  },
  {
   "attachments": {},
   "cell_type": "markdown",
   "metadata": {},
   "source": [
    "Load Data"
   ]
  },
  {
   "cell_type": "code",
   "execution_count": null,
   "metadata": {},
   "outputs": [],
   "source": [
    "afl_data = pd.read_csv(raw_data_file_path)\n",
    "afl_data = afl_data[(afl_data['Year'] > 2004) & (afl_data['Year'] < 2023) & ~(afl_data['Year'] == 2020)]\n",
    "afl_data.head()"
   ]
  },
  {
   "cell_type": "code",
   "execution_count": null,
   "metadata": {},
   "outputs": [],
   "source": [
    "training_data = afl_data[afl_data[ModellingDataContract.TRAIN_TEST_SPLIT_COL]]\n",
    "test_data = afl_data[~afl_data[ModellingDataContract.TRAIN_TEST_SPLIT_COL]]"
   ]
  },
  {
   "cell_type": "code",
   "execution_count": null,
   "metadata": {},
   "outputs": [],
   "source": [
    "X_train, y_train = training_data.drop(columns=[ModellingDataContract.RESPONSE]), training_data[ModellingDataContract.RESPONSE]\n",
    "X_test, y_test = test_data.drop(columns=[ModellingDataContract.RESPONSE]), test_data[ModellingDataContract.RESPONSE]"
   ]
  },
  {
   "cell_type": "code",
   "execution_count": null,
   "metadata": {},
   "outputs": [],
   "source": [
    "X_test.head()"
   ]
  },
  {
   "attachments": {},
   "cell_type": "markdown",
   "metadata": {},
   "source": [
    "Preprocess Data"
   ]
  },
  {
   "cell_type": "code",
   "execution_count": null,
   "metadata": {},
   "outputs": [],
   "source": [
    "preprocessor = DataPreprocessor(Mappings=Mappings, rolling_dict=RollingColumns.rolling_dict)"
   ]
  },
  {
   "cell_type": "code",
   "execution_count": null,
   "metadata": {},
   "outputs": [],
   "source": [
    "preprocessor.fit(X_train)"
   ]
  },
  {
   "cell_type": "code",
   "execution_count": null,
   "metadata": {},
   "outputs": [],
   "source": [
    "X_train_preproc = preprocessor.transform(X_train)\n",
    "X_test_preproc = preprocessor.transform(X_test)"
   ]
  },
  {
   "cell_type": "code",
   "execution_count": null,
   "metadata": {},
   "outputs": [],
   "source": [
    "X_train_preproc.shape, X_test_preproc.shape"
   ]
  },
  {
   "cell_type": "code",
   "execution_count": null,
   "metadata": {},
   "outputs": [],
   "source": [
    "X_train_preproc.head()"
   ]
  },
  {
   "cell_type": "code",
   "execution_count": null,
   "metadata": {},
   "outputs": [],
   "source": [
    "X_test_preproc.head()"
   ]
  },
  {
   "attachments": {},
   "cell_type": "markdown",
   "metadata": {},
   "source": [
    "Optuna Hyperparameter Tuning Class - HyperParameterTuner & XGBHyperparameterTuner"
   ]
  },
  {
   "cell_type": "code",
   "execution_count": null,
   "metadata": {},
   "outputs": [],
   "source": [
    "monotone_cols = [x for x in list(X_train_preproc) if \"avg\" in x]\n",
    "monotone_increasing = [1]*len(monotone_cols)\n",
    "monotonicity_dict = dict(zip(monotone_cols, monotone_increasing))"
   ]
  },
  {
   "cell_type": "code",
   "execution_count": null,
   "metadata": {},
   "outputs": [],
   "source": [
    "xgb_tuner = XGBYearHyperparameterTuner(X_train_preproc, y_train, optuna_grid=OptunaXGBParamGrid, monotonicity_constraints={})"
   ]
  },
  {
   "cell_type": "code",
   "execution_count": null,
   "metadata": {},
   "outputs": [],
   "source": [
    "xgb_tuner.training_data.head()"
   ]
  },
  {
   "cell_type": "code",
   "execution_count": null,
   "metadata": {},
   "outputs": [],
   "source": [
    "xgb_tuner.tune_hyperparameters()"
   ]
  },
  {
   "cell_type": "code",
   "execution_count": null,
   "metadata": {},
   "outputs": [],
   "source": [
    "params = xgb_tuner.get_best_params()\n",
    "params"
   ]
  },
  {
   "attachments": {},
   "cell_type": "markdown",
   "metadata": {},
   "source": [
    "Training Model - SuperXGBRegressor class for training and predictions"
   ]
  },
  {
   "cell_type": "code",
   "execution_count": null,
   "metadata": {},
   "outputs": [],
   "source": [
    "params['objective'] = 'reg:squarederror'\n",
    "params['num_rounds'] = 1000\n",
    "params['early_stopping_rounds'] = 50\n",
    "params['verbosity'] = 1\n",
    "params['monotone_constraints'] = {}"
   ]
  },
  {
   "cell_type": "code",
   "execution_count": null,
   "metadata": {},
   "outputs": [],
   "source": [
    "super_xgb = SuperXGBRegressor(X_train = X_train_preproc, \n",
    "                              y_train = y_train, \n",
    "                              X_test = X_test_preproc, \n",
    "                              y_test = y_test, \n",
    "                              params = params)"
   ]
  },
  {
   "cell_type": "code",
   "execution_count": null,
   "metadata": {},
   "outputs": [],
   "source": [
    "super_xgb.fit()"
   ]
  },
  {
   "cell_type": "code",
   "execution_count": null,
   "metadata": {},
   "outputs": [],
   "source": [
    "super_xgb.xgb_model"
   ]
  },
  {
   "cell_type": "code",
   "execution_count": null,
   "metadata": {},
   "outputs": [],
   "source": [
    "train_preds = super_xgb.predict(X_train_preproc.drop(columns=[\"Match_ID\"]))\n",
    "test_preds = super_xgb.predict(X_test_preproc.drop(columns=[\"Match_ID\"]))"
   ]
  },
  {
   "attachments": {},
   "cell_type": "markdown",
   "metadata": {},
   "source": [
    "Check Average Predictions"
   ]
  },
  {
   "cell_type": "code",
   "execution_count": null,
   "metadata": {},
   "outputs": [],
   "source": [
    "train_preds.mean(), training_data[ModellingDataContract.RESPONSE].mean(), test_preds.mean(), test_data[ModellingDataContract.RESPONSE].mean()"
   ]
  },
  {
   "attachments": {},
   "cell_type": "markdown",
   "metadata": {},
   "source": [
    "Check Distribution"
   ]
  },
  {
   "cell_type": "code",
   "execution_count": null,
   "metadata": {},
   "outputs": [],
   "source": [
    "fig = sns.kdeplot(training_data[ModellingDataContract.RESPONSE], shade=True, color=\"r\")\n",
    "fig = sns.kdeplot(train_preds, shade=True, color=\"b\")\n",
    "fig = sns.kdeplot(test_data[ModellingDataContract.RESPONSE], shade=True, color=\"r\", linestyle = \"--\")\n",
    "fig = sns.kdeplot(test_preds, shade=True, color=\"b\", linestyle = \"--\")"
   ]
  },
  {
   "attachments": {},
   "cell_type": "markdown",
   "metadata": {},
   "source": [
    "Export model"
   ]
  },
  {
   "cell_type": "code",
   "execution_count": null,
   "metadata": {},
   "outputs": [],
   "source": [
    "super_xgb.export_model(model_output_path + model_file_name + \".joblib\")"
   ]
  },
  {
   "attachments": {},
   "cell_type": "markdown",
   "metadata": {},
   "source": [
    "Export data and predictions"
   ]
  },
  {
   "cell_type": "code",
   "execution_count": null,
   "metadata": {},
   "outputs": [],
   "source": [
    "train_export = training_data[['Match_ID', 'Home_Team', 'Away_Team', 'Round_ID', 'Total_Game_Score']].reset_index(drop = True)\n",
    "train_export = pd.merge(train_export, X_train_preproc, how='left', on = \"Match_ID\")\n",
    "train_export['xgb_preds'] = train_preds\n",
    "train_export.to_csv(prediction_output_path + 'train_predictions_' + model_file_name + '.csv', index = False)\n",
    "train_export.head()"
   ]
  },
  {
   "cell_type": "code",
   "execution_count": null,
   "metadata": {},
   "outputs": [],
   "source": [
    "test_export = test_data[['Match_ID', 'Home_Team', 'Away_Team', 'Round_ID', 'Total_Game_Score']].reset_index(drop = True)\n",
    "test_export = pd.merge(test_export, X_test_preproc, how='left', on = \"Match_ID\")\n",
    "test_export['xgb_preds'] = test_preds\n",
    "test_export.to_csv(prediction_output_path + 'test_predictions_' + model_file_name + '.csv', index = False)\n",
    "test_export.head()"
   ]
  },
  {
   "attachments": {},
   "cell_type": "markdown",
   "metadata": {},
   "source": [
    "Save preprocessor"
   ]
  },
  {
   "cell_type": "code",
   "execution_count": null,
   "metadata": {},
   "outputs": [],
   "source": [
    "joblib.dump(preprocessor, preprocessor_output_path + preprocessor_file_name + \".joblib\")"
   ]
  },
  {
   "cell_type": "code",
   "execution_count": null,
   "metadata": {},
   "outputs": [],
   "source": []
  }
 ],
 "metadata": {
  "kernelspec": {
   "display_name": "afl-total-model-env",
   "language": "python",
   "name": "python3"
  },
  "language_info": {
   "codemirror_mode": {
    "name": "ipython",
    "version": 3
   },
   "file_extension": ".py",
   "mimetype": "text/x-python",
   "name": "python",
   "nbconvert_exporter": "python",
   "pygments_lexer": "ipython3",
   "version": "3.9.16"
  },
  "orig_nbformat": 4,
  "vscode": {
   "interpreter": {
    "hash": "dc578ee0f2f240f88b07d66010ce4f17cba19ae2fcd1972906e53630b629e476"
   }
  }
 },
 "nbformat": 4,
 "nbformat_minor": 2
}
