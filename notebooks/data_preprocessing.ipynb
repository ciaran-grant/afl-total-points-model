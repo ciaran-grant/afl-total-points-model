{
 "cells": [
  {
   "attachments": {},
   "cell_type": "markdown",
   "metadata": {},
   "source": [
    "Loading and Preprocessing AFL Match Data for Modelling"
   ]
  },
  {
   "cell_type": "code",
   "execution_count": 1,
   "metadata": {},
   "outputs": [],
   "source": [
    "import pandas as pd\n",
    "import numpy as np\n",
    "\n",
    "import warnings\n",
    "warnings.filterwarnings('ignore')\n",
    "\n",
    "from total_points_model.config import raw_data_file_path, preprocessed_output_path\n",
    "from total_points_model.domain.preprocessing.data_preprocessor import DataPreprocessor\n",
    "from total_points_model.domain.contracts.mappings import Mappings\n",
    "from total_points_model.domain.contracts.rolling_columns import RollingColumns\n",
    "from total_points_model.domain.contracts.modelling_data_contract import ModellingDataContract\n"
   ]
  },
  {
   "cell_type": "code",
   "execution_count": null,
   "metadata": {},
   "outputs": [],
   "source": [
    "pd.options.display.max_rows = 100\n",
    "pd.options.display.max_columns = 999\n",
    "\n",
    "%load_ext autoreload\n",
    "%autoreload 2"
   ]
  },
  {
   "attachments": {},
   "cell_type": "markdown",
   "metadata": {},
   "source": [
    "Load data"
   ]
  },
  {
   "cell_type": "code",
   "execution_count": null,
   "metadata": {},
   "outputs": [],
   "source": [
    "afl_data = pd.read_csv(raw_data_file_path)\n",
    "afl_data = afl_data[(afl_data['Year'] > 2004) & (afl_data['Year'] < 2023) & ~(afl_data['Year'] == 2020)]\n",
    "afl_data.head(2)"
   ]
  },
  {
   "cell_type": "code",
   "execution_count": null,
   "metadata": {},
   "outputs": [],
   "source": [
    "afl_data[ModellingDataContract.TRAIN_TEST_SPLIT_COL].value_counts()"
   ]
  },
  {
   "cell_type": "code",
   "execution_count": null,
   "metadata": {},
   "outputs": [],
   "source": [
    "training_data = afl_data[afl_data[ModellingDataContract.TRAIN_TEST_SPLIT_COL]]\n",
    "test_data = afl_data[~afl_data[ModellingDataContract.TRAIN_TEST_SPLIT_COL]]"
   ]
  },
  {
   "attachments": {},
   "cell_type": "markdown",
   "metadata": {},
   "source": [
    "Create Preprocessor"
   ]
  },
  {
   "cell_type": "code",
   "execution_count": null,
   "metadata": {},
   "outputs": [],
   "source": [
    "preprocessor = DataPreprocessor(Mappings=Mappings, rolling_dict=RollingColumns.rolling_dict)"
   ]
  },
  {
   "cell_type": "code",
   "execution_count": null,
   "metadata": {},
   "outputs": [],
   "source": [
    "preprocessor.fit(training_data)"
   ]
  },
  {
   "cell_type": "code",
   "execution_count": null,
   "metadata": {},
   "outputs": [],
   "source": [
    "training_data_preproc = preprocessor.transform(training_data)\n",
    "training_data_preproc.head()"
   ]
  },
  {
   "cell_type": "code",
   "execution_count": null,
   "metadata": {},
   "outputs": [],
   "source": [
    "test_data_preproc = preprocessor.transform(test_data)\n",
    "test_data_preproc.head()"
   ]
  },
  {
   "attachments": {},
   "cell_type": "markdown",
   "metadata": {},
   "source": [
    "Checking Rolling Columns"
   ]
  },
  {
   "cell_type": "code",
   "execution_count": null,
   "metadata": {},
   "outputs": [],
   "source": [
    "from total_points_model.domain.preprocessing.preprocessing_functions import score_col_splitter, get_team_rolling_averages, rename_rolling_columns, merge_rolling_data"
   ]
  },
  {
   "cell_type": "code",
   "execution_count": null,
   "metadata": {},
   "outputs": [],
   "source": [
    "# training_data_full = pd.concat([training_data, training_data_preproc], axis = 1)\n",
    "# brisbane_preproc = training_data_full[(training_data_full['Home_Team'] == \"Brisbane Lions\") | (training_data_full['Away_Team'] == \"Brisbane Lions\")]\n",
    "# brisbane_preproc[['Home_Team', 'Away_Team', 'Total_Game_Score', 'Home_Total_Q4_Score_avg2', 'Away_Total_Q4_Score_avg2', 'Home_Total_Q4_Score_wavg2', 'Away_Total_Q4_Score_wavg2', 'Home_Total_Q4_Score_exp_wavg2', 'Away_Total_Q4_Score_exp_wavg2']].head(10)"
   ]
  },
  {
   "cell_type": "code",
   "execution_count": null,
   "metadata": {},
   "outputs": [],
   "source": [
    "# training_data = score_col_splitter(training_data, 'Q4_Score')"
   ]
  },
  {
   "cell_type": "code",
   "execution_count": null,
   "metadata": {},
   "outputs": [],
   "source": [
    "# brisbane_data = training_data[(training_data['Home_Team'] == \"Brisbane Lions\") | (training_data['Away_Team'] == \"Brisbane Lions\")]\n",
    "# weights = np.array([0.25, 0.75])\n",
    "# brisbane_data['Total_Q4_Score_avg2'] = brisbane_data['Total_Q4_Score'].rolling(2).mean().shift()\n",
    "# brisbane_data['Total_Q4_Score_wavg2'] = brisbane_data['Total_Q4_Score'].rolling(2).apply(lambda x: np.sum(weights*x)).shift()\n",
    "# brisbane_data['Total_Q4_Score_exp_wavg2'] = brisbane_data['Total_Q4_Score'].ewm(span = 2).mean().shift()\n",
    "# brisbane_data[['Home_Team', 'Away_Team', 'Total_Game_Score', 'Total_Q4_Score_avg2', 'Total_Q4_Score_wavg2', 'Total_Q4_Score_exp_wavg2']].head(10)"
   ]
  },
  {
   "cell_type": "code",
   "execution_count": null,
   "metadata": {},
   "outputs": [],
   "source": [
    "# hawthorn_data = training_data[(training_data['Home_Team'] == \"Hawthorn\") | (training_data['Away_Team'] == \"Hawthorn\")]\n",
    "# weights = np.array([0.25, 0.75])\n",
    "# hawthorn_data['Total_Q4_Score_avg2'] = hawthorn_data['Total_Q4_Score'].rolling(2).mean().shift()\n",
    "# hawthorn_data['Total_Q4_Score_wavg2'] = hawthorn_data['Total_Q4_Score'].rolling(2).apply(lambda x: np.sum(weights*x)).shift()\n",
    "# hawthorn_data['Total_Q4_Score_exp_wavg2'] = hawthorn_data['Total_Q4_Score'].ewm(span = 2).mean().shift()\n",
    "# hawthorn_data[['Home_Team', 'Away_Team', 'Total_Game_Score', 'Total_Q4_Score_avg2', 'Total_Q4_Score_wavg2', 'Total_Q4_Score_exp_wavg2']].head(10)"
   ]
  },
  {
   "cell_type": "code",
   "execution_count": null,
   "metadata": {},
   "outputs": [],
   "source": [
    "# 0.25*148 + 0.75*168"
   ]
  },
  {
   "cell_type": "code",
   "execution_count": null,
   "metadata": {},
   "outputs": [],
   "source": [
    "# brisbane_data.head()"
   ]
  },
  {
   "attachments": {},
   "cell_type": "markdown",
   "metadata": {},
   "source": [
    "Export modelling data .csv"
   ]
  },
  {
   "cell_type": "code",
   "execution_count": null,
   "metadata": {},
   "outputs": [],
   "source": [
    "# modelling_data = pd.concat([training_data_preproc, test_data_preproc], axis=0)"
   ]
  },
  {
   "cell_type": "code",
   "execution_count": null,
   "metadata": {},
   "outputs": [],
   "source": [
    "# modelling_data.to_csv(preprocessed_output_path + \"/modelling_data_v2.csv\", index = False)"
   ]
  },
  {
   "cell_type": "code",
   "execution_count": null,
   "metadata": {},
   "outputs": [],
   "source": [
    "# training_data_preproc.to_csv(preprocessed_output_path + \"/training_data_v2.csv\", index = False)"
   ]
  },
  {
   "cell_type": "code",
   "execution_count": null,
   "metadata": {},
   "outputs": [],
   "source": [
    "# test_data_preproc.to_csv(preprocessed_output_path + \"/test_data_v2.csv\", index = False)"
   ]
  }
 ],
 "metadata": {
  "kernelspec": {
   "display_name": "afl-total-model-env",
   "language": "python",
   "name": "python3"
  },
  "language_info": {
   "codemirror_mode": {
    "name": "ipython",
    "version": 3
   },
   "file_extension": ".py",
   "mimetype": "text/x-python",
   "name": "python",
   "nbconvert_exporter": "python",
   "pygments_lexer": "ipython3",
   "version": "3.11.3"
  },
  "orig_nbformat": 4,
  "vscode": {
   "interpreter": {
    "hash": "dc578ee0f2f240f88b07d66010ce4f17cba19ae2fcd1972906e53630b629e476"
   }
  }
 },
 "nbformat": 4,
 "nbformat_minor": 2
}
