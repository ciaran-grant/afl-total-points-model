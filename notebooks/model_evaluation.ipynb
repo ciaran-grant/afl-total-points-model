{
 "cells": [
  {
   "attachments": {},
   "cell_type": "markdown",
   "metadata": {},
   "source": [
    "Total Game Score Model - Model Evaluation - GBM"
   ]
  },
  {
   "cell_type": "code",
   "execution_count": null,
   "metadata": {},
   "outputs": [],
   "source": [
    "import pandas as pd\n",
    "import numpy as np\n",
    "import joblib\n",
    "import warnings\n",
    "warnings.filterwarnings('ignore')\n",
    "\n",
    "import sys\n",
    "sys.path.append('..')\n",
    "from total_points_model.config import raw_data_file_path\n",
    "from total_points_model.domain.preprocessing.data_preprocessor import DataPreprocessor\n",
    "from total_points_model.domain.contracts.mappings import Mappings\n",
    "from total_points_model.domain.contracts.rolling_columns import RollingColumns\n",
    "from total_points_model.domain.contracts.modelling_data_contract import ModellingDataContract\n",
    "from total_points_model.domain.modelling.supermodel import SuperXGBRegressor\n",
    "from total_points_model.domain.modelling.model_evaluation import XGBRegressorEvaluator\n",
    "\n",
    "pd.options.display.max_rows = 200\n",
    "pd.options.display.max_columns = 999\n",
    "\n",
    "%load_ext autoreload\n",
    "%autoreload 2"
   ]
  },
  {
   "attachments": {},
   "cell_type": "markdown",
   "metadata": {},
   "source": [
    "New Model"
   ]
  },
  {
   "cell_type": "code",
   "execution_count": null,
   "metadata": {},
   "outputs": [],
   "source": [
    "new_version = 7\n",
    "model_file_path = '/afl-total-points-model/total_points_model/models/xgb_total_points_v'+str(new_version)+'.joblib'\n",
    "preproc_file_path = '/afl-total-points-model/total_points_model/preprocessors/preprocessor_v'+str(new_version)+'.joblib'"
   ]
  },
  {
   "attachments": {},
   "cell_type": "markdown",
   "metadata": {},
   "source": [
    "Comparison Model"
   ]
  },
  {
   "cell_type": "code",
   "execution_count": null,
   "metadata": {},
   "outputs": [],
   "source": [
    "old_version = new_version - 1\n",
    "compare_train_predictions_file_path = '/afl-total-points-model/total_points_model/predictions/train_predictions_xgb_total_points_v'+str(old_version)+'.csv'\n",
    "compare_test_predictions_file_path = '/afl-total-points-model/total_points_model/predictions/test_predictions_xgb_total_points_v'+str(old_version)+'.csv'"
   ]
  },
  {
   "attachments": {},
   "cell_type": "markdown",
   "metadata": {},
   "source": [
    "Load Data"
   ]
  },
  {
   "cell_type": "code",
   "execution_count": null,
   "metadata": {},
   "outputs": [],
   "source": [
    "afl_data = pd.read_csv(raw_data_file_path)\n",
    "afl_data = afl_data[(afl_data['Year'] > 2004) & (afl_data['Year'] < 2023) & ~(afl_data['Year'] == 2020)]\n",
    "afl_data.head()"
   ]
  },
  {
   "cell_type": "code",
   "execution_count": null,
   "metadata": {},
   "outputs": [],
   "source": [
    "training_data = afl_data[afl_data[ModellingDataContract.TRAIN_TEST_SPLIT_COL]]\n",
    "test_data = afl_data[~afl_data[ModellingDataContract.TRAIN_TEST_SPLIT_COL]]"
   ]
  },
  {
   "cell_type": "code",
   "execution_count": null,
   "metadata": {},
   "outputs": [],
   "source": [
    "X_train, y_train = training_data.drop(columns=[ModellingDataContract.RESPONSE]), training_data[ModellingDataContract.RESPONSE]\n",
    "X_test, y_test = test_data.drop(columns=[ModellingDataContract.RESPONSE]), test_data[ModellingDataContract.RESPONSE]"
   ]
  },
  {
   "cell_type": "code",
   "execution_count": null,
   "metadata": {},
   "outputs": [],
   "source": [
    "X_train.shape, y_train.shape, X_test.shape, y_test.shape"
   ]
  },
  {
   "attachments": {},
   "cell_type": "markdown",
   "metadata": {},
   "source": [
    "Preprocess Data"
   ]
  },
  {
   "cell_type": "code",
   "execution_count": null,
   "metadata": {},
   "outputs": [],
   "source": [
    "preprocessor = joblib.load(preproc_file_path)\n",
    "preprocessor"
   ]
  },
  {
   "cell_type": "code",
   "execution_count": null,
   "metadata": {},
   "outputs": [],
   "source": [
    "X_train_preproc = preprocessor.transform(X_train)\n",
    "X_test_preproc = preprocessor.transform(X_test)"
   ]
  },
  {
   "cell_type": "code",
   "execution_count": null,
   "metadata": {},
   "outputs": [],
   "source": [
    "X_train_preproc.tail()"
   ]
  },
  {
   "attachments": {},
   "cell_type": "markdown",
   "metadata": {},
   "source": [
    "Load Model"
   ]
  },
  {
   "cell_type": "code",
   "execution_count": null,
   "metadata": {},
   "outputs": [],
   "source": [
    "xgb_model = joblib.load(model_file_path)"
   ]
  },
  {
   "attachments": {},
   "cell_type": "markdown",
   "metadata": {},
   "source": [
    "Get Predictions"
   ]
  },
  {
   "cell_type": "code",
   "execution_count": null,
   "metadata": {},
   "outputs": [],
   "source": [
    "train_preds = xgb_model.predict(X_train_preproc.drop(columns = [ModellingDataContract.ID_COL]))\n",
    "test_preds = xgb_model.predict(X_test_preproc.drop(columns = [ModellingDataContract.ID_COL]))"
   ]
  },
  {
   "attachments": {},
   "cell_type": "markdown",
   "metadata": {},
   "source": [
    "Compare Model"
   ]
  },
  {
   "cell_type": "code",
   "execution_count": null,
   "metadata": {},
   "outputs": [],
   "source": [
    "compare_train_data = pd.read_csv(compare_train_predictions_file_path)\n",
    "compare_test_data = pd.read_csv(compare_test_predictions_file_path)"
   ]
  },
  {
   "cell_type": "code",
   "execution_count": null,
   "metadata": {},
   "outputs": [],
   "source": [
    "compare_train_data = compare_train_data.rename(columns = {'xgb_preds':'old_preds'})\n",
    "compare_test_data = compare_test_data.rename(columns = {'xgb_preds':'old_preds'})"
   ]
  },
  {
   "attachments": {},
   "cell_type": "markdown",
   "metadata": {},
   "source": [
    "Evaluate Model"
   ]
  },
  {
   "cell_type": "code",
   "execution_count": null,
   "metadata": {},
   "outputs": [],
   "source": [
    "train_evaluation_data = pd.concat([training_data.reset_index(drop=True), X_train_preproc.reset_index(drop=True)], axis = 1)\n",
    "train_evaluation_data = train_evaluation_data.loc[:,~train_evaluation_data.columns.duplicated()]\n",
    "train_evaluation_data['xgb_preds'] = train_preds\n",
    "train_evaluation_data = pd.merge(train_evaluation_data, compare_train_data[['Match_ID', 'old_preds']], how = \"left\")\n",
    "train_evaluation_data.head()"
   ]
  },
  {
   "cell_type": "code",
   "execution_count": null,
   "metadata": {},
   "outputs": [],
   "source": [
    "train_xgb_evals = XGBRegressorEvaluator(model = xgb_model,\n",
    "                                       data = train_evaluation_data,\n",
    "                                       actual_name = ModellingDataContract.RESPONSE,\n",
    "                                       expected_name = \"xgb_preds\",\n",
    "                                       compare_name='old_preds'\n",
    "                                       )"
   ]
  },
  {
   "cell_type": "code",
   "execution_count": null,
   "metadata": {},
   "outputs": [],
   "source": [
    "test_evaluation_data = pd.concat([test_data.reset_index(drop=True), X_test_preproc.reset_index(drop=True)], axis = 1)\n",
    "test_evaluation_data = test_evaluation_data.loc[:,~test_evaluation_data.columns.duplicated()]\n",
    "test_evaluation_data['xgb_preds'] = test_preds\n",
    "test_evaluation_data = pd.merge(test_evaluation_data, compare_test_data[['Match_ID', 'old_preds']], how = \"left\")\n",
    "test_evaluation_data.head()"
   ]
  },
  {
   "cell_type": "code",
   "execution_count": null,
   "metadata": {},
   "outputs": [],
   "source": [
    "test_xgb_evals = XGBRegressorEvaluator(model = xgb_model,\n",
    "                                       data = test_evaluation_data,\n",
    "                                       actual_name = ModellingDataContract.RESPONSE,\n",
    "                                       expected_name = \"xgb_preds\",\n",
    "                                       compare_name = \"old_preds\"\n",
    "                                       )"
   ]
  },
  {
   "attachments": {},
   "cell_type": "markdown",
   "metadata": {},
   "source": [
    "Model Averages"
   ]
  },
  {
   "cell_type": "code",
   "execution_count": null,
   "metadata": {},
   "outputs": [],
   "source": [
    "train_xgb_evals.data[[ModellingDataContract.RESPONSE, 'xgb_preds']].describe()"
   ]
  },
  {
   "cell_type": "code",
   "execution_count": null,
   "metadata": {},
   "outputs": [],
   "source": [
    "test_xgb_evals.data[[ModellingDataContract.RESPONSE, 'xgb_preds']].describe()"
   ]
  },
  {
   "attachments": {},
   "cell_type": "markdown",
   "metadata": {},
   "source": [
    "Plots"
   ]
  },
  {
   "cell_type": "code",
   "execution_count": null,
   "metadata": {},
   "outputs": [],
   "source": [
    "train_xgb_evals.plot_distribution()\n",
    "test_xgb_evals.plot_distribution()"
   ]
  },
  {
   "cell_type": "code",
   "execution_count": null,
   "metadata": {},
   "outputs": [],
   "source": [
    "train_xgb_evals.plot_ave()\n",
    "test_xgb_evals.plot_ave()"
   ]
  },
  {
   "cell_type": "code",
   "execution_count": null,
   "metadata": {},
   "outputs": [],
   "source": [
    "train_xgb_evals.plot_double_lift_chart()\n",
    "test_xgb_evals.plot_double_lift_chart()"
   ]
  },
  {
   "cell_type": "code",
   "execution_count": null,
   "metadata": {},
   "outputs": [],
   "source": [
    "train_xgb_evals.plot_feature_ave('Year')\n",
    "test_xgb_evals.plot_feature_ave('Year')"
   ]
  },
  {
   "cell_type": "code",
   "execution_count": null,
   "metadata": {},
   "outputs": [],
   "source": [
    "train_xgb_evals.plot_feature_importance(max_num_features=10, importance_type=\"total_gain\")\n",
    "test_xgb_evals.plot_feature_importance(max_num_features=10, importance_type=\"total_gain\")"
   ]
  },
  {
   "cell_type": "code",
   "execution_count": null,
   "metadata": {},
   "outputs": [],
   "source": [
    "train_xgb_evals.plot_shap_summary_plot()\n",
    "test_xgb_evals.plot_shap_summary_plot()"
   ]
  },
  {
   "cell_type": "code",
   "execution_count": null,
   "metadata": {},
   "outputs": [],
   "source": [
    "top_features = test_xgb_evals.get_ranked_feature_importance()\n",
    "top_10_features = top_features[:10]\n",
    "top_10_features"
   ]
  },
  {
   "cell_type": "code",
   "execution_count": null,
   "metadata": {},
   "outputs": [],
   "source": [
    "for col in top_10_features:\n",
    "    train_xgb_evals.plot_pdp([col])\n",
    "    test_xgb_evals.plot_pdp([col])"
   ]
  },
  {
   "cell_type": "code",
   "execution_count": null,
   "metadata": {},
   "outputs": [],
   "source": [
    "for col in top_10_features:\n",
    "    train_xgb_evals.plot_ice([col])\n",
    "    test_xgb_evals.plot_ice([col])"
   ]
  },
  {
   "cell_type": "code",
   "execution_count": null,
   "metadata": {},
   "outputs": [],
   "source": [
    "for col in top_10_features:\n",
    "    train_xgb_evals.plot_feature_ave(col)\n",
    "    test_xgb_evals.plot_feature_ave(col)\n"
   ]
  },
  {
   "attachments": {},
   "cell_type": "markdown",
   "metadata": {},
   "source": [
    "Model Metrics"
   ]
  },
  {
   "cell_type": "code",
   "execution_count": null,
   "metadata": {},
   "outputs": [],
   "source": [
    "train_xgb_evals.get_mae(), test_xgb_evals.get_mae()"
   ]
  },
  {
   "cell_type": "code",
   "execution_count": null,
   "metadata": {},
   "outputs": [],
   "source": [
    "train_xgb_evals.get_mse(), test_xgb_evals.get_mse()"
   ]
  },
  {
   "cell_type": "code",
   "execution_count": null,
   "metadata": {},
   "outputs": [],
   "source": [
    "train_xgb_evals.get_r2_score(), test_xgb_evals.get_r2_score()"
   ]
  },
  {
   "attachments": {},
   "cell_type": "markdown",
   "metadata": {},
   "source": [
    "Ad Hoc Checks"
   ]
  },
  {
   "cell_type": "code",
   "execution_count": null,
   "metadata": {},
   "outputs": [],
   "source": []
  }
 ],
 "metadata": {
  "kernelspec": {
   "display_name": "afl-total-model-env",
   "language": "python",
   "name": "python3"
  },
  "language_info": {
   "codemirror_mode": {
    "name": "ipython",
    "version": 3
   },
   "file_extension": ".py",
   "mimetype": "text/x-python",
   "name": "python",
   "nbconvert_exporter": "python",
   "pygments_lexer": "ipython3",
   "version": "3.9.16"
  },
  "orig_nbformat": 4,
  "vscode": {
   "interpreter": {
    "hash": "dc578ee0f2f240f88b07d66010ce4f17cba19ae2fcd1972906e53630b629e476"
   }
  }
 },
 "nbformat": 4,
 "nbformat_minor": 2
}
