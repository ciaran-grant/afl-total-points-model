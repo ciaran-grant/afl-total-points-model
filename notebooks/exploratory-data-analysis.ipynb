{
 "cells": [
  {
   "attachments": {},
   "cell_type": "markdown",
   "metadata": {},
   "source": [
    "Loading and Exploring AFL Match Data for Modelling"
   ]
  },
  {
   "cell_type": "code",
   "execution_count": 1,
   "metadata": {},
   "outputs": [],
   "source": [
    "import pandas as pd\n",
    "import numpy as np\n",
    "\n",
    "import seaborn as sns\n",
    "import matplotlib.pyplot as plt\n",
    "\n",
    "pd.options.display.max_rows = 100\n",
    "pd.options.display.max_columns = 999\n",
    "\n",
    "%load_ext autoreload\n",
    "%autoreload 2\n",
    "\n",
    "import warnings\n",
    "warnings.filterwarnings('ignore')\n",
    "\n",
    "from total_points_model.config import raw_data_file_path, preprocessed_output_path\n",
    "from total_points_model.domain.preprocessing.data_preprocessor import DataPreprocessor\n",
    "from total_points_model.domain.contracts.mappings import Mappings\n",
    "from total_points_model.domain.contracts.rolling_columns import RollingColumns\n",
    "from total_points_model.domain.contracts.modelling_data_contract import ModellingDataContract\n"
   ]
  },
  {
   "cell_type": "code",
   "execution_count": null,
   "metadata": {},
   "outputs": [],
   "source": [
    "afl_data = pd.read_csv(raw_data_file_path)\n",
    "afl_data = afl_data[(afl_data['Year'] > 2017) & (afl_data['Year'] < 2023) & ~(afl_data['Year'] == 2020)]\n",
    "afl_data.head(2)"
   ]
  },
  {
   "cell_type": "code",
   "execution_count": null,
   "metadata": {},
   "outputs": [],
   "source": [
    "training_data = afl_data[afl_data['ModellingFilter2022']]\n",
    "test_data = afl_data[~afl_data['ModellingFilter2022']]"
   ]
  },
  {
   "attachments": {},
   "cell_type": "markdown",
   "metadata": {},
   "source": [
    "Response Distribution"
   ]
  },
  {
   "cell_type": "code",
   "execution_count": null,
   "metadata": {},
   "outputs": [],
   "source": [
    "sns.kdeplot(data = afl_data, x=ModellingDataContract.RESPONSE, shade=True, hue=\"Year\", palette = \"crest\")"
   ]
  },
  {
   "cell_type": "code",
   "execution_count": null,
   "metadata": {},
   "outputs": [],
   "source": [
    "fig = sns.kdeplot(training_data[ModellingDataContract.RESPONSE], shade=True, color=\"r\")\n",
    "fig = sns.kdeplot(test_data[ModellingDataContract.RESPONSE], shade=True, color=\"b\")\n",
    "plt.xlabel(\"Total Game Score\")\n",
    "plt.legend(labels = [\"Train\", \"Test\"])\n",
    "plt.show()"
   ]
  },
  {
   "attachments": {},
   "cell_type": "markdown",
   "metadata": {},
   "source": [
    "Create Features"
   ]
  },
  {
   "cell_type": "code",
   "execution_count": null,
   "metadata": {},
   "outputs": [],
   "source": [
    "preprocessor = DataPreprocessor(Mappings=Mappings, rolling_dict=RollingColumns.rolling_dict)"
   ]
  },
  {
   "cell_type": "code",
   "execution_count": null,
   "metadata": {},
   "outputs": [],
   "source": [
    "preprocessor.fit(training_data)"
   ]
  },
  {
   "cell_type": "code",
   "execution_count": null,
   "metadata": {},
   "outputs": [],
   "source": [
    "training_data_preproc = preprocessor.transform(training_data)\n",
    "test_data_preproc = preprocessor.transform(test_data)"
   ]
  },
  {
   "cell_type": "code",
   "execution_count": null,
   "metadata": {},
   "outputs": [],
   "source": [
    "test_data_preproc.tail()"
   ]
  },
  {
   "cell_type": "code",
   "execution_count": null,
   "metadata": {},
   "outputs": [],
   "source": [
    "training_model_data = pd.merge(training_data, training_data_preproc.drop(columns=['Year']), how = \"left\", on = \"Match_ID\")\n",
    "test_model_data = pd.merge(test_data, test_data_preproc.drop(columns=['Year']), how = \"left\", on = \"Match_ID\")"
   ]
  },
  {
   "attachments": {},
   "cell_type": "markdown",
   "metadata": {},
   "source": [
    "Exploration Functions"
   ]
  },
  {
   "cell_type": "code",
   "execution_count": null,
   "metadata": {},
   "outputs": [],
   "source": [
    "def _get_feature_plot_data(data, response, feature):\n",
    "    \n",
    "    from pandas.api.types import is_numeric_dtype\n",
    "    \n",
    "    plot_dict = {\n",
    "    'actual':data[response],\n",
    "    'feature':data[feature]\n",
    "    }\n",
    "    plot_data = pd.DataFrame(plot_dict)\n",
    "\n",
    "    if is_numeric_dtype(plot_data['feature']) & (len(np.unique(plot_data['feature'])) > 50):\n",
    "        bins = 10\n",
    "        edges = np.linspace(plot_data['feature'].min(), plot_data['feature'].max(), bins+1).astype(float)\n",
    "        labels = [f'({edges[i]}, {edges[i+1]}]' for i in range(bins)]\n",
    "        plot_data['feature'] = pd.cut(plot_data['feature'], bins = bins, labels = labels)\n",
    "        \n",
    "    feature_plot_data = plot_data.groupby('feature').agg(\n",
    "        actual = ('actual', 'mean'),\n",
    "        exposure = ('actual', 'size'),\n",
    "        ).reset_index()\n",
    "    \n",
    "    feature_plot_data['relative'] = feature_plot_data['actual'] / data[response].mean()\n",
    "    \n",
    "    return feature_plot_data.sort_values(by = 'feature')"
   ]
  },
  {
   "cell_type": "code",
   "execution_count": null,
   "metadata": {},
   "outputs": [],
   "source": [
    "def plot_feature(data, response, feature):\n",
    "    \n",
    "    import matplotlib.pyplot as plt\n",
    "    \n",
    "    feature_plot_data = _get_feature_plot_data(data, response, feature)\n",
    "\n",
    "    fig, ax1 = plt.subplots(figsize=(8, 8))\n",
    "    ax2 = ax1.twinx()\n",
    "\n",
    "    ax1.bar(feature_plot_data['feature'],feature_plot_data['exposure'], alpha = 0.5)\n",
    "    ax2.plot(feature_plot_data['feature'], feature_plot_data['actual'], label = \"Actual\", color = \"r\")\n",
    "    ax2.axhline(y = data[response].mean(), color = 'green', linestyle = '-')\n",
    "\n",
    "    ax1.set_xlabel(feature)\n",
    "    for tick in ax1.get_xticklabels():\n",
    "        tick.set_rotation(90)\n",
    "        \n",
    "    ax1.set_ylabel(\"Number of Games\", fontsize=14)\n",
    "    ax2.set_ylabel(\"Total Points Scored\", fontsize=14)\n",
    "\n",
    "    ax2.legend()\n",
    "\n",
    "    fig.suptitle(\"Actual: \" + feature, fontsize=20)\n",
    "    fig.show()"
   ]
  },
  {
   "cell_type": "code",
   "execution_count": null,
   "metadata": {},
   "outputs": [],
   "source": [
    "def _get_two_way_feature_plot_data(data, response, xaxis_feature, yaxis_feature):\n",
    "    \n",
    "    from pandas.api.types import is_numeric_dtype\n",
    "    \n",
    "    plot_dict = {\n",
    "    'actual':data[response],\n",
    "    'xaxis_feature':data[xaxis_feature],\n",
    "    'yaxis_feature':data[yaxis_feature]\n",
    "    }\n",
    "    plot_data = pd.DataFrame(plot_dict)\n",
    "    \n",
    "    if is_numeric_dtype(plot_data['xaxis_feature']) & (len(np.unique(plot_data['xaxis_feature'])) > 50):\n",
    "            bins = 10\n",
    "            edges = np.linspace(plot_data['xaxis_feature'].min(), plot_data['xaxis_feature'].max(), bins+1).astype(float)\n",
    "            labels = [f'({edges[i]}, {edges[i+1]}]' for i in range(bins)]\n",
    "            plot_data['xaxis_feature'] = pd.cut(plot_data['xaxis_feature'], bins = bins, labels = labels)\n",
    "            \n",
    "    if is_numeric_dtype(plot_data['yaxis_feature']) & (len(np.unique(plot_data['yaxis_feature'])) > 50):\n",
    "            bins = 10\n",
    "            edges = np.linspace(plot_data['yaxis_feature'].min(), plot_data['yaxis_feature'].max(), bins+1).astype(float)\n",
    "            labels = [f'({edges[i]}, {edges[i+1]}]' for i in range(bins)]\n",
    "            plot_data['yaxis_feature'] = pd.cut(plot_data['yaxis_feature'], bins = bins, labels = labels)\n",
    "            \n",
    "    feature_plot_data = plot_data.groupby(['xaxis_feature', 'yaxis_feature']).agg(\n",
    "            actual = ('actual', 'mean'),\n",
    "            exposure = ('actual', 'size'),\n",
    "            ).reset_index()\n",
    "    \n",
    "    return feature_plot_data.sort_values(by='xaxis_feature')"
   ]
  },
  {
   "cell_type": "code",
   "execution_count": null,
   "metadata": {},
   "outputs": [],
   "source": [
    "def plot_two_way_feature(data, response, xaxis_feature, yaxis_feature):\n",
    "    \n",
    "    import plotly\n",
    "    import plotly.graph_objects as go\n",
    "    from plotly.subplots import make_subplots\n",
    "    \n",
    "    feature_plot_data = _get_two_way_feature_plot_data(data, response, xaxis_feature, yaxis_feature)\n",
    "    \n",
    "    # Create figure with secondary y-axis\n",
    "    fig = make_subplots(specs=[[{\"secondary_y\": True}]])\n",
    "\n",
    "    plotly_default_colours = plotly.colors.qualitative.Plotly\n",
    "    unique_levels = list(feature_plot_data['yaxis_feature'].unique())\n",
    "\n",
    "    for index in range(len(unique_levels)):\n",
    "        level_data = feature_plot_data[feature_plot_data['yaxis_feature'] == unique_levels[index]]\n",
    "        # Add traces\n",
    "        fig.add_trace(\n",
    "            go.Bar(x=level_data['xaxis_feature'], y=level_data['exposure'], \n",
    "                name=str(unique_levels[index]),\n",
    "                opacity = 0.5,\n",
    "                marker_color = plotly_default_colours[index]),\n",
    "            secondary_y=False,\n",
    "        )\n",
    "    for index in range(len(unique_levels)):\n",
    "        level_data = feature_plot_data[feature_plot_data['yaxis_feature'] == unique_levels[index]]\n",
    "        fig.add_trace(\n",
    "            go.Scatter(x=level_data['xaxis_feature'], y=level_data['actual'], \n",
    "                    name=str(unique_levels[index]),\n",
    "                    marker_color = plotly_default_colours[index]),\n",
    "            secondary_y=True,\n",
    "        )\n",
    "\n",
    "    # Add figure title\n",
    "    fig.update_layout(\n",
    "        title_text=\"Two Way AvE: \" + xaxis_feature + \" x \" + yaxis_feature,\n",
    "        width = 1000,\n",
    "        height = 600,\n",
    "        barmode = \"group\"\n",
    "    )\n",
    "\n",
    "    # Set x-axis title\n",
    "    fig.update_xaxes(title_text=xaxis_feature)\n",
    "\n",
    "    # Set y-axes titles\n",
    "    fig.update_yaxes(title_text=\"Exposure\", secondary_y=False)\n",
    "    fig.update_yaxes(title_text=response, secondary_y=True)\n",
    "\n",
    "    fig.show()"
   ]
  },
  {
   "attachments": {},
   "cell_type": "markdown",
   "metadata": {},
   "source": [
    "Time Test Features"
   ]
  },
  {
   "cell_type": "code",
   "execution_count": null,
   "metadata": {},
   "outputs": [],
   "source": [
    "modelling_data = pd.concat([training_model_data, test_model_data], axis=0)"
   ]
  },
  {
   "cell_type": "code",
   "execution_count": null,
   "metadata": {},
   "outputs": [],
   "source": [
    "test_model_data.shape"
   ]
  },
  {
   "cell_type": "code",
   "execution_count": null,
   "metadata": {},
   "outputs": [],
   "source": [
    "for weather_col in [x for x in list(training_model_data) if \"Kicking\" in x]:\n",
    "    plot_two_way_feature(modelling_data, ModellingDataContract.RESPONSE, \"Year\", weather_col)"
   ]
  },
  {
   "cell_type": "code",
   "execution_count": null,
   "metadata": {},
   "outputs": [],
   "source": [
    "for col in [x for x in list(training_model_data) if \"_wavg\" in x]:\n",
    "    plot_two_way_feature(modelling_data, ModellingDataContract.RESPONSE, col, \"Year\")"
   ]
  },
  {
   "cell_type": "code",
   "execution_count": null,
   "metadata": {},
   "outputs": [],
   "source": [
    "plot_two_way_feature(modelling_data, ModellingDataContract.RESPONSE, \"Temperature\", \"Year\")"
   ]
  },
  {
   "attachments": {},
   "cell_type": "markdown",
   "metadata": {},
   "source": [
    "Venue / City"
   ]
  },
  {
   "cell_type": "code",
   "execution_count": null,
   "metadata": {},
   "outputs": [],
   "source": [
    "city_mapping = {\n",
    "    'Adelaide':\"South Australia\",\n",
    "    'Alice Springs':'Northern Territory',\n",
    "    'Ballarat':\"Victoria\",\n",
    "    'Brisbane':\"Queensland\",\n",
    "    'Cairns':\"Queensland\",\n",
    "    'Canberra':\"New South Wales\",\n",
    "    'Darwin':\"Northern Territory\",\n",
    "    'Geelong':\"Victoria\",\n",
    "    'Gold Coast':\"Queensland\",\n",
    "    'Hobart':\"Tasmania\",\n",
    "    'Launceston':\"Tasmania\",\n",
    "    'Melbourne':\"Victoria\",\n",
    "    'Perth':\"Western Australia\",\n",
    "    'Shanghai':\"International\",\n",
    "    'Sydney':\"New South Wales\",\n",
    "    'Townsville':\"Queensland\"\n",
    "    }\n",
    "modelling_data['State'] = modelling_data['City'].replace(city_mapping)\n",
    "modelling_data['State'].value_counts()"
   ]
  },
  {
   "cell_type": "code",
   "execution_count": null,
   "metadata": {},
   "outputs": [],
   "source": [
    "vic_mapping = {\n",
    "    'Adelaide':\"Not Victoria\",\n",
    "    'Alice Springs':'Not Victoria',\n",
    "    'Ballarat':\"Victoria\",\n",
    "    'Brisbane':\"Not Victoria\",\n",
    "    'Cairns':\"Not Victoria\",\n",
    "    'Canberra':\"Not Victoria\",\n",
    "    'Darwin':\"Not Victoria\",\n",
    "    'Geelong':\"Victoria\",\n",
    "    'Gold Coast':\"Not Victoria\",\n",
    "    'Hobart':\"Not Victoria\",\n",
    "    'Launceston':\"Not Victoria\",\n",
    "    'Melbourne':\"Victoria\",\n",
    "    'Perth':\"Not Victoria\",\n",
    "    'Shanghai':\"Victoria\",\n",
    "    'Sydney':\"Not Victoria\",\n",
    "    'Townsville':\"Not Victoria\"\n",
    "    }\n",
    "modelling_data['Victoria'] = modelling_data['City'].replace(vic_mapping)"
   ]
  },
  {
   "cell_type": "code",
   "execution_count": null,
   "metadata": {},
   "outputs": [],
   "source": [
    "plot_two_way_feature(modelling_data, ModellingDataContract.RESPONSE, \"Year\", \"Victoria\")"
   ]
  },
  {
   "cell_type": "code",
   "execution_count": null,
   "metadata": {},
   "outputs": [],
   "source": [
    "roof_mapping = {\n",
    "    'Adelaide Oval':\"No Roof\",\n",
    "    'Bellerive Oval':\"No Roof\",\n",
    "    'Carrara':\"No Roof\",\n",
    "    'Cazalys Stadium':\"No Roof\",\n",
    "    'Docklands':\"Roof\",\n",
    "    'Eureka Stadium':\"No Roof\",\n",
    "    'Gabba':\"No Roof\",\n",
    "    'Jiangwan Stadium':\"No Roof\",\n",
    "    'Kardinia Park':\"No Roof\",\n",
    "    'M.C.G.':\"No Roof\",\n",
    "    'Manuka Oval':\"No Roof\",\n",
    "    'Marrara Oval':\"No Roof\",\n",
    "    'Perth Stadium':\"No Roof\",\n",
    "    'Riverway Stadium':\"No Roof\",\n",
    "    'S.C.G.':\"No Roof\",\n",
    "    'Stadium Australia':\"No Roof\",\n",
    "    'Sydney Showground':\"No Roof\",\n",
    "    'Traeger Park':\"No Roof\",\n",
    "    'York Park':\"No Roof\"\n",
    " }\n",
    "modelling_data['Roof'] = modelling_data['Venue'].replace(roof_mapping)\n",
    "plot_two_way_feature(modelling_data, ModellingDataContract.RESPONSE, \"Year\", \"Roof\")"
   ]
  },
  {
   "cell_type": "code",
   "execution_count": null,
   "metadata": {},
   "outputs": [],
   "source": [
    "plot_two_way_feature(modelling_data, ModellingDataContract.RESPONSE, \"Ground_Width\", \"Year\")"
   ]
  },
  {
   "cell_type": "code",
   "execution_count": null,
   "metadata": {},
   "outputs": [],
   "source": [
    "plot_two_way_feature(modelling_data, ModellingDataContract.RESPONSE, \"Ground_Length\", \"Year\")"
   ]
  },
  {
   "cell_type": "code",
   "execution_count": null,
   "metadata": {},
   "outputs": [],
   "source": [
    "modelling_data['Ground_Area'] = modelling_data['Ground_Length'] * modelling_data['Ground_Width']\n",
    "plot_feature(modelling_data, ModellingDataContract.RESPONSE, \"Ground_Area\")"
   ]
  },
  {
   "cell_type": "code",
   "execution_count": null,
   "metadata": {},
   "outputs": [],
   "source": [
    "team_state_mapping = {\n",
    "    'Adelaide':\"South Australia\",\n",
    "    'Brisbane Lions':\"Queensland\",\n",
    "    'Carlton':\"Victoria\",\n",
    "    'Collingwood':\"Victoria\",\n",
    "    'Essendon':\"Victoria\",\n",
    "    'Fremantle':\"Western Australia\",\n",
    "    'Geelong':\"Victoria\",\n",
    "    'Gold Coast':\"Queensland\",\n",
    "    'Greater Western Sydney':\"New South Wales\",\n",
    "    'Hawthorn':\"Victoria\",\n",
    "    'Melbourne':\"Victoria\",\n",
    "    'North Melbourne':\"Victoria\",\n",
    "    'Port Adelaide':\"South Australia\",\n",
    "    'Richmond':\"Victoria\",\n",
    "    'St Kilda':\"Victoria\",\n",
    "    'Sydney':\"New South Wales\",\n",
    "    'West Coast':\"Western Australia\",\n",
    "    'Western Bulldogs':\"Victoria\"}"
   ]
  },
  {
   "cell_type": "code",
   "execution_count": null,
   "metadata": {},
   "outputs": [],
   "source": [
    "modelling_data['Home_Team_State'] = modelling_data['Home_Team'].replace(team_state_mapping)\n",
    "modelling_data['Away_Team_State'] = modelling_data['Away_Team'].replace(team_state_mapping)\n",
    "modelling_data['Home_Team_Within_State'] = np.where(modelling_data['State'] == modelling_data['Home_Team_State'], True, False)\n",
    "modelling_data['Away_Team_Within_State'] = np.where(modelling_data['State'] == modelling_data['Away_Team_State'], True, False)"
   ]
  },
  {
   "cell_type": "code",
   "execution_count": null,
   "metadata": {},
   "outputs": [],
   "source": [
    "plot_feature(modelling_data, ModellingDataContract.RESPONSE, \"Home_Team_Within_State\")\n",
    "plot_two_way_feature(modelling_data, ModellingDataContract.RESPONSE, \"Home_Team_Within_State\", \"Year\")"
   ]
  },
  {
   "cell_type": "code",
   "execution_count": null,
   "metadata": {},
   "outputs": [],
   "source": [
    "modelling_data['Home_Team_Within_State'].value_counts()"
   ]
  },
  {
   "cell_type": "code",
   "execution_count": null,
   "metadata": {},
   "outputs": [],
   "source": [
    "plot_feature(modelling_data, ModellingDataContract.RESPONSE, \"Away_Team_Within_State\")\n",
    "plot_two_way_feature(modelling_data, ModellingDataContract.RESPONSE, \"Away_Team_Within_State\", \"Year\")"
   ]
  },
  {
   "cell_type": "code",
   "execution_count": null,
   "metadata": {},
   "outputs": [],
   "source": [
    "modelling_data['Away_Team_Within_State'].value_counts()"
   ]
  },
  {
   "cell_type": "code",
   "execution_count": null,
   "metadata": {},
   "outputs": [],
   "source": [
    "modelling_data.head()"
   ]
  },
  {
   "cell_type": "code",
   "execution_count": null,
   "metadata": {},
   "outputs": [],
   "source": [
    "modelling_data['Primary_Home'] = np.where(modelling_data['Home_Ground'] == \"Primary Home\", True, False)"
   ]
  },
  {
   "cell_type": "code",
   "execution_count": null,
   "metadata": {},
   "outputs": [],
   "source": [
    "plot_feature(modelling_data, ModellingDataContract.RESPONSE, \"Primary_Home\")\n",
    "plot_two_way_feature(modelling_data, ModellingDataContract.RESPONSE, \"Primary_Home\", \"Year\")"
   ]
  },
  {
   "cell_type": "code",
   "execution_count": null,
   "metadata": {},
   "outputs": [],
   "source": [
    "modelling_data.head()"
   ]
  },
  {
   "cell_type": "code",
   "execution_count": null,
   "metadata": {},
   "outputs": [],
   "source": [
    "modelling_data['Finals'] = np.where(modelling_data['Round_ID'].str.contains('F'), True, False)"
   ]
  },
  {
   "cell_type": "code",
   "execution_count": null,
   "metadata": {},
   "outputs": [],
   "source": [
    "plot_feature(modelling_data, ModellingDataContract.RESPONSE, \"Finals\")\n",
    "plot_two_way_feature(modelling_data, ModellingDataContract.RESPONSE, \"Finals\", \"Year\")"
   ]
  },
  {
   "attachments": {},
   "cell_type": "markdown",
   "metadata": {},
   "source": [
    "Close games aren't high scoring"
   ]
  },
  {
   "cell_type": "code",
   "execution_count": null,
   "metadata": {},
   "outputs": [],
   "source": [
    "plot_feature(afl_data, ModellingDataContract.RESPONSE, \"Margin\")\n",
    "plot_two_way_feature(modelling_data, ModellingDataContract.RESPONSE, \"Margin\", \"Year\")"
   ]
  },
  {
   "attachments": {},
   "cell_type": "markdown",
   "metadata": {},
   "source": [
    "ELO"
   ]
  },
  {
   "cell_type": "code",
   "execution_count": null,
   "metadata": {},
   "outputs": [],
   "source": [
    "afl_data.head()"
   ]
  },
  {
   "cell_type": "code",
   "execution_count": null,
   "metadata": {},
   "outputs": [],
   "source": [
    "from total_points_model.domain.preprocessing.preprocessing_functions import score_col_splitter"
   ]
  },
  {
   "cell_type": "code",
   "execution_count": null,
   "metadata": {},
   "outputs": [],
   "source": [
    "elo_data = afl_data.copy()\n",
    "# elo_data = score_col_splitter(elo_data, \"Q4_Score\")\n",
    "elo_data.head()"
   ]
  },
  {
   "cell_type": "code",
   "execution_count": null,
   "metadata": {},
   "outputs": [],
   "source": [
    "def calculate_elo_ratings(data, k_factor):\n",
    "    \n",
    "    # Initialise a dictionary with default elos for each team\n",
    "    elo_dict = {team: 1500 for team in ModellingDataContract.team_list}\n",
    "    elos, elo_probs = {}, {}\n",
    "    \n",
    "    for index, row in data.iterrows():\n",
    "        game_id = row['Match_ID']\n",
    "        margin = row['Margin']\n",
    "        \n",
    "        if game_id in elos.keys():\n",
    "            continue\n",
    "        \n",
    "        home_team = row['Home_Team']\n",
    "        away_team = row['Away_Team']\n",
    "        \n",
    "        home_team_elo = elo_dict[home_team]\n",
    "        away_team_elo = elo_dict[away_team]\n",
    "        \n",
    "        prob_win_home = 1 / (1 + 10**((away_team_elo - home_team_elo) / 400))\n",
    "        prob_win_away = 1 - prob_win_home\n",
    "        \n",
    "        elos[game_id] = [home_team_elo, away_team_elo]\n",
    "        elo_probs[game_id] = [prob_win_home, prob_win_away]\n",
    "        \n",
    "        if margin > 0:\n",
    "            new_home_team_elo = home_team_elo + k_factor*(1 - prob_win_home)\n",
    "            new_away_team_elo = away_team_elo + k_factor*(0 - prob_win_away)\n",
    "        elif margin < 0:\n",
    "            new_home_team_elo = home_team_elo + k_factor*(0 - prob_win_home)\n",
    "            new_away_team_elo = away_team_elo + k_factor*(1 - prob_win_away)\n",
    "        elif margin == 0:\n",
    "            new_home_team_elo = home_team_elo + k_factor*(0.5 - prob_win_home)\n",
    "            new_away_team_elo = away_team_elo + k_factor*(0.5 - prob_win_away)\n",
    "            \n",
    "        elo_dict[home_team] = new_home_team_elo\n",
    "        elo_dict[away_team] = new_away_team_elo\n",
    "\n",
    "    \n",
    "    return elos, elo_dict, elo_probs"
   ]
  },
  {
   "cell_type": "code",
   "execution_count": null,
   "metadata": {},
   "outputs": [],
   "source": [
    "elo, elo_dict, elo_probs = calculate_elo_ratings(elo_data, k_factor=30)"
   ]
  },
  {
   "cell_type": "code",
   "execution_count": null,
   "metadata": {},
   "outputs": [],
   "source": [
    "def convert_elo_dict_to_dataframe(elo_dict):\n",
    "    \n",
    "    elo_df = pd.DataFrame(list(elo_dict.items()), columns = ['Match_ID', 'ELO_list'])\n",
    "    elo_df[['ELO_Home', 'ELO_Away']] = elo_df['ELO_list'].tolist()\n",
    "    elo_df['ELO_diff'] = elo_df['ELO_Home'] - elo_df['ELO_Away']\n",
    "    elo_df['ELO_abs_diff'] = abs(elo_df['ELO_diff'])\n",
    "    elo_df = elo_df.drop(columns = ['ELO_list'])   \n",
    "    \n",
    "    return elo_df"
   ]
  },
  {
   "cell_type": "code",
   "execution_count": null,
   "metadata": {},
   "outputs": [],
   "source": [
    "def merge_elo_ratings(X, elo_dict):\n",
    "    \n",
    "    elo_df = convert_elo_dict_to_dataframe(elo_dict)\n",
    "    \n",
    "    X = pd.merge(X, elo_df, how = 'left', on = 'Match_ID')\n",
    "    \n",
    "    return X"
   ]
  },
  {
   "cell_type": "code",
   "execution_count": null,
   "metadata": {},
   "outputs": [],
   "source": [
    "# elo_df = pd.DataFrame(list(elo.items()), columns = ['Match_ID', 'ELO_list'])\n",
    "# elo_df[['ELO_Home', 'ELO_Away']] = elo_df['ELO_list'].tolist()\n",
    "# elo_df['ELO_diff'] = elo_df['ELO_Home'] - elo_df['ELO_Away']\n",
    "# elo_df['ELO_abs_diff'] = abs(elo_df['ELO_diff'])\n",
    "# elo_df = elo_df.drop(columns = ['ELO_list'])\n",
    "# elo_df.tail()"
   ]
  },
  {
   "cell_type": "code",
   "execution_count": null,
   "metadata": {},
   "outputs": [],
   "source": [
    "# elo_probs_df = pd.DataFrame(list(elo_probs.items()), columns = ['Match_ID', 'ELO_probs_list'])\n",
    "# elo_probs_df[['ELO_probs_Home', 'ELO_probs_Away']] = elo_probs_df['ELO_probs_list'].tolist()\n",
    "# elo_probs_df['ELO_probs_diff'] = elo_probs_df['ELO_probs_Home'] - elo_probs_df['ELO_probs_Away']\n",
    "# elo_probs_df['ELO_probs_abs_diff'] = abs(elo_probs_df['ELO_probs_diff'])\n",
    "# elo_probs_df = elo_probs_df.drop(columns = ['ELO_probs_list'])\n",
    "# elo_probs_df.tail()"
   ]
  },
  {
   "cell_type": "code",
   "execution_count": null,
   "metadata": {},
   "outputs": [],
   "source": [
    "# modelling_data = pd.merge(modelling_data, elo_df, how = 'left', on = 'Match_ID')"
   ]
  },
  {
   "cell_type": "code",
   "execution_count": null,
   "metadata": {},
   "outputs": [],
   "source": [
    "# modelling_data = pd.merge(modelling_data, elo_probs_df, how = 'left', on = 'Match_ID')"
   ]
  },
  {
   "cell_type": "code",
   "execution_count": null,
   "metadata": {},
   "outputs": [],
   "source": [
    "def create_elo_rating_factor(X):\n",
    "    \n",
    "    elos, elo_dict, elo_probs  = calculate_elo_ratings(X, k_factor=ModellingDataContract.ELO_K_FACTOR)\n",
    "    \n",
    "    X = merge_elo_ratings(X, elos)\n",
    "    X = merge_elo_ratings(X, elo_probs)\n",
    "    \n",
    "    return X\n",
    "modelling_data = create_elo_rating_factor(modelling_data)"
   ]
  },
  {
   "cell_type": "code",
   "execution_count": null,
   "metadata": {},
   "outputs": [],
   "source": [
    "modelling_data.head()"
   ]
  },
  {
   "cell_type": "code",
   "execution_count": null,
   "metadata": {},
   "outputs": [],
   "source": [
    "list(modelling_data)"
   ]
  },
  {
   "cell_type": "code",
   "execution_count": null,
   "metadata": {},
   "outputs": [],
   "source": [
    "plot_feature(modelling_data, ModellingDataContract.RESPONSE, \"ELO_Home\")\n",
    "plot_two_way_feature(modelling_data, ModellingDataContract.RESPONSE, \"ELO_Home\", \"Year\")\n"
   ]
  },
  {
   "cell_type": "code",
   "execution_count": null,
   "metadata": {},
   "outputs": [],
   "source": [
    "plot_feature(modelling_data, ModellingDataContract.RESPONSE, \"ELO_Away\")\n",
    "plot_two_way_feature(modelling_data, ModellingDataContract.RESPONSE, \"ELO_Away\", \"Year\")"
   ]
  },
  {
   "cell_type": "code",
   "execution_count": null,
   "metadata": {},
   "outputs": [],
   "source": [
    "plot_feature(modelling_data, ModellingDataContract.RESPONSE, \"ELO_diff\")\n",
    "plot_two_way_feature(modelling_data, ModellingDataContract.RESPONSE, \"ELO_diff\", \"Year\")"
   ]
  },
  {
   "cell_type": "code",
   "execution_count": null,
   "metadata": {},
   "outputs": [],
   "source": [
    "plot_feature(modelling_data, ModellingDataContract.RESPONSE, \"ELO_abs_diff\")\n",
    "plot_two_way_feature(modelling_data, ModellingDataContract.RESPONSE, \"ELO_abs_diff\", \"Year\")"
   ]
  },
  {
   "cell_type": "code",
   "execution_count": null,
   "metadata": {},
   "outputs": [],
   "source": [
    "plot_feature(modelling_data, ModellingDataContract.RESPONSE, \"ELO_probs_diff\")\n",
    "plot_two_way_feature(modelling_data, ModellingDataContract.RESPONSE, \"ELO_probs_diff\", \"Year\")"
   ]
  },
  {
   "cell_type": "code",
   "execution_count": null,
   "metadata": {},
   "outputs": [],
   "source": [
    "plot_feature(modelling_data, ModellingDataContract.RESPONSE, \"ELO_probs_Home\")\n",
    "plot_two_way_feature(modelling_data, ModellingDataContract.RESPONSE, \"ELO_probs_Home\", \"Year\")"
   ]
  },
  {
   "cell_type": "code",
   "execution_count": null,
   "metadata": {},
   "outputs": [],
   "source": []
  }
 ],
 "metadata": {
  "kernelspec": {
   "display_name": "afl-total-model-env",
   "language": "python",
   "name": "python3"
  },
  "language_info": {
   "codemirror_mode": {
    "name": "ipython",
    "version": 3
   },
   "file_extension": ".py",
   "mimetype": "text/x-python",
   "name": "python",
   "nbconvert_exporter": "python",
   "pygments_lexer": "ipython3",
   "version": "3.11.3"
  },
  "orig_nbformat": 4,
  "vscode": {
   "interpreter": {
    "hash": "dc578ee0f2f240f88b07d66010ce4f17cba19ae2fcd1972906e53630b629e476"
   }
  }
 },
 "nbformat": 4,
 "nbformat_minor": 2
}
