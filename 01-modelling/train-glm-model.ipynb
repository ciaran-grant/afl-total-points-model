{
 "cells": [
  {
   "attachments": {},
   "cell_type": "markdown",
   "metadata": {},
   "source": [
    "Total Game Score Model - GLM"
   ]
  },
  {
   "cell_type": "code",
   "execution_count": null,
   "metadata": {},
   "outputs": [],
   "source": [
    "import pandas as pd\n",
    "import numpy as np\n",
    "from sklearn import linear_model\n",
    "from sklearn.feature_selection import RFECV\n",
    "\n",
    "pd.options.display.max_rows = 100\n",
    "pd.options.display.max_columns = 999\n"
   ]
  },
  {
   "attachments": {},
   "cell_type": "markdown",
   "metadata": {},
   "source": [
    "Load Data"
   ]
  },
  {
   "cell_type": "code",
   "execution_count": null,
   "metadata": {},
   "outputs": [],
   "source": [
    "data = pd.read_csv(\"/total-points-score-model/data/modelling-data/modelling_data_total_team_score.csv\")"
   ]
  },
  {
   "cell_type": "code",
   "execution_count": null,
   "metadata": {},
   "outputs": [],
   "source": [
    "data.head(1)"
   ]
  },
  {
   "attachments": {},
   "cell_type": "markdown",
   "metadata": {},
   "source": [
    "Clean Data"
   ]
  },
  {
   "cell_type": "code",
   "execution_count": null,
   "metadata": {},
   "outputs": [],
   "source": [
    "data.isnull().sum()"
   ]
  },
  {
   "cell_type": "code",
   "execution_count": null,
   "metadata": {},
   "outputs": [],
   "source": [
    "modelling_data = data[data['Date'] < \"2019-01-01\"]\n",
    "oot_data = data[data['Date'] >= \"2019-01-01\"]"
   ]
  },
  {
   "cell_type": "code",
   "execution_count": null,
   "metadata": {},
   "outputs": [],
   "source": [
    "modelling_data.shape, oot_data.shape"
   ]
  },
  {
   "cell_type": "code",
   "execution_count": null,
   "metadata": {},
   "outputs": [],
   "source": [
    "training_data = modelling_data[modelling_data['training_set'] == True]\n",
    "test_data = modelling_data[modelling_data['training_set'] == False]"
   ]
  },
  {
   "cell_type": "code",
   "execution_count": null,
   "metadata": {},
   "outputs": [],
   "source": [
    "training_data.shape, test_data.shape"
   ]
  },
  {
   "attachments": {},
   "cell_type": "markdown",
   "metadata": {},
   "source": [
    "Train Model"
   ]
  },
  {
   "cell_type": "code",
   "execution_count": null,
   "metadata": {},
   "outputs": [],
   "source": [
    "response = \"Total_Game_Score\""
   ]
  },
  {
   "cell_type": "code",
   "execution_count": null,
   "metadata": {},
   "outputs": [],
   "source": [
    "list(training_data)"
   ]
  },
  {
   "cell_type": "code",
   "execution_count": null,
   "metadata": {},
   "outputs": [],
   "source": [
    "modelling_features = [\n",
    "    'Venue',\n",
    "    'Year',\n",
    "    'Home_Team',\n",
    "    'Away_Team',\n",
    "    'Home_Total_Game_Score_avg2',\n",
    "    'Home_For_Goals_avg2',\n",
    "    'Home_For_Behinds_avg2',\n",
    "    'Home_For_Scores_avg2',\n",
    "    'Home_For_Total_Score_avg2',\n",
    "    'Home_Against_Goals_avg2',\n",
    "    'Home_Against_Behinds_avg2',\n",
    "    'Home_Against_Scores_avg2',\n",
    "    'Home_Against_Total_Score_avg2',\n",
    "    'Home_Total_Game_Score_avg10',\n",
    "    'Home_For_Goals_avg10',\n",
    "    'Home_For_Behinds_avg10',\n",
    "    'Home_For_Scores_avg10',\n",
    "    'Home_For_Total_Score_avg10',\n",
    "    'Home_Against_Goals_avg10',\n",
    "    'Home_Against_Behinds_avg10',\n",
    "    'Home_Against_Scores_avg10',\n",
    "    'Home_Against_Total_Score_avg10',\n",
    "    'Away_Total_Game_Score_avg2',\n",
    "    'Away_For_Goals_avg2',\n",
    "    'Away_For_Behinds_avg2',\n",
    "    'Away_For_Scores_avg2',\n",
    "    'Away_For_Total_Score_avg2',\n",
    "    'Away_Against_Goals_avg2',\n",
    "    'Away_Against_Behinds_avg2',\n",
    "    'Away_Against_Scores_avg2',\n",
    "    'Away_Against_Total_Score_avg2',\n",
    "    'Away_Total_Game_Score_avg10',\n",
    "    'Away_For_Goals_avg10',\n",
    "    'Away_For_Behinds_avg10',\n",
    "    'Away_For_Scores_avg10',\n",
    "    'Away_For_Total_Score_avg10',\n",
    "    'Away_Against_Goals_avg10',\n",
    "    'Away_Against_Behinds_avg10',\n",
    "    'Away_Against_Scores_avg10',\n",
    "    'Away_Against_Total_Score_avg10']"
   ]
  },
  {
   "cell_type": "code",
   "execution_count": null,
   "metadata": {},
   "outputs": [],
   "source": [
    "X, y = training_data[modelling_features], training_data[response]\n",
    "X_test, y_test = test_data[modelling_features], test_data[response]\n",
    "X_oot, y_oot = oot_data[modelling_features], oot_data[response]"
   ]
  },
  {
   "cell_type": "code",
   "execution_count": null,
   "metadata": {},
   "outputs": [],
   "source": [
    "X_dummies = pd.get_dummies(X)\n",
    "X_test_dummies = pd.get_dummies(X_test)\n",
    "X_oot_dummies = pd.get_dummies(X_oot)\n",
    "\n",
    "for col in list(X_dummies):\n",
    "    if col not in list(X_test_dummies):\n",
    "        X_test_dummies[col] = 0\n",
    "        \n",
    "for col in list(X_dummies):\n",
    "    if col not in list(X_oot_dummies):\n",
    "        X_oot_dummies[col] = 0"
   ]
  },
  {
   "cell_type": "code",
   "execution_count": null,
   "metadata": {},
   "outputs": [],
   "source": [
    "X_dummies.shape, X_test_dummies.shape, X_oot_dummies.shape"
   ]
  },
  {
   "cell_type": "markdown",
   "metadata": {},
   "source": [
    "Feature Selection"
   ]
  },
  {
   "cell_type": "code",
   "execution_count": null,
   "metadata": {},
   "outputs": [],
   "source": [
    "linear_regression = linear_model.LinearRegression()"
   ]
  },
  {
   "cell_type": "code",
   "execution_count": null,
   "metadata": {},
   "outputs": [],
   "source": [
    "selector = RFECV(linear_regression, step=1, cv=5, min_features_to_select = 20)"
   ]
  },
  {
   "cell_type": "code",
   "execution_count": null,
   "metadata": {},
   "outputs": [],
   "source": [
    "selector = selector.fit(X_dummies, y)"
   ]
  },
  {
   "cell_type": "code",
   "execution_count": null,
   "metadata": {},
   "outputs": [],
   "source": [
    "selector.n_features_"
   ]
  },
  {
   "cell_type": "code",
   "execution_count": null,
   "metadata": {},
   "outputs": [],
   "source": [
    "selected_features = list(selector.get_feature_names_out())\n",
    "selected_features"
   ]
  },
  {
   "cell_type": "code",
   "execution_count": null,
   "metadata": {},
   "outputs": [],
   "source": [
    "model = linear_regression.fit(X_dummies[selected_features], y)"
   ]
  },
  {
   "cell_type": "code",
   "execution_count": null,
   "metadata": {},
   "outputs": [],
   "source": [
    "coefficients = pd.DataFrame({\"Feature\":X_dummies[selected_features].columns,\"Coefficients\":np.transpose(model.coef_)})"
   ]
  },
  {
   "cell_type": "code",
   "execution_count": null,
   "metadata": {},
   "outputs": [],
   "source": [
    "coefficients.sort_values(by = \"Coefficients\", ascending = False)"
   ]
  },
  {
   "attachments": {},
   "cell_type": "markdown",
   "metadata": {},
   "source": [
    "Evaluate Model"
   ]
  },
  {
   "cell_type": "code",
   "execution_count": null,
   "metadata": {},
   "outputs": [],
   "source": [
    "X_train_selected = X_dummies[selected_features]\n",
    "X_test_selected = X_test_dummies[selected_features]\n",
    "X_oot_selected = X_oot_dummies[selected_features]"
   ]
  },
  {
   "cell_type": "code",
   "execution_count": null,
   "metadata": {},
   "outputs": [],
   "source": [
    "test_preds = model.predict(X_test_selected)"
   ]
  },
  {
   "cell_type": "code",
   "execution_count": null,
   "metadata": {},
   "outputs": [],
   "source": [
    "def MAE(data, model, actuals):\n",
    "\n",
    "    preds = model.predict(data)\n",
    "    absolute_error = abs(preds - actuals)\n",
    "    mae = np.mean(absolute_error)\n",
    "\n",
    "    return mae"
   ]
  },
  {
   "cell_type": "code",
   "execution_count": null,
   "metadata": {},
   "outputs": [],
   "source": [
    "def RMSE(data, model, actuals):\n",
    "\n",
    "    preds = model.predict(data)\n",
    "    squared_error = (preds - actuals)**2\n",
    "    mean_squared_error = np.mean(squared_error)\n",
    "    rmse = (mean_squared_error)**0.5\n",
    "\n",
    "    return rmse"
   ]
  },
  {
   "cell_type": "code",
   "execution_count": null,
   "metadata": {},
   "outputs": [],
   "source": [
    "def get_error_metrics(data, model, actuals):\n",
    "\n",
    "    mae = MAE(data, model, actuals)\n",
    "    rmse = RMSE(data, model, actuals)\n",
    "\n",
    "    print(\"MAE: {}\".format(mae))\n",
    "    print(\"RMSE: {}\".format(rmse))\n",
    "\n",
    "    return mae, rmse"
   ]
  },
  {
   "cell_type": "code",
   "execution_count": null,
   "metadata": {},
   "outputs": [],
   "source": [
    "X_dummies_selected = X_dummies[selected_features]\n",
    "get_error_metrics(X_dummies_selected, model, y)"
   ]
  },
  {
   "cell_type": "code",
   "execution_count": null,
   "metadata": {},
   "outputs": [],
   "source": [
    "get_error_metrics(X_test_selected, model, y_test)"
   ]
  },
  {
   "cell_type": "code",
   "execution_count": null,
   "metadata": {},
   "outputs": [],
   "source": [
    "get_error_metrics(X_oot_selected, model, y_oot)"
   ]
  },
  {
   "attachments": {},
   "cell_type": "markdown",
   "metadata": {},
   "source": [
    "Save model predictions"
   ]
  },
  {
   "cell_type": "code",
   "execution_count": null,
   "metadata": {},
   "outputs": [],
   "source": [
    "data_features = data[selected_features]\n",
    "data_dummies = pd.get_dummies(data_features)\n",
    "data_response = data[response]\n",
    "\n",
    "data['linear_preds'] = model.predict(data_dummies)"
   ]
  },
  {
   "cell_type": "code",
   "execution_count": null,
   "metadata": {},
   "outputs": [],
   "source": [
    "data['linear_preds'].mean(), data[response].mean()"
   ]
  },
  {
   "cell_type": "code",
   "execution_count": null,
   "metadata": {},
   "outputs": [],
   "source": [
    "data['std_dev'] = np.std(y)"
   ]
  },
  {
   "cell_type": "code",
   "execution_count": null,
   "metadata": {},
   "outputs": [],
   "source": [
    "data[['Match_ID', 'Date', 'Total_Game_Score', 'linear_preds', 'std_dev']].head()"
   ]
  },
  {
   "cell_type": "code",
   "execution_count": null,
   "metadata": {},
   "outputs": [],
   "source": [
    "data[['Match_ID', 'Date', 'Total_Game_Score', 'linear_preds', 'std_dev']].to_csv(\"/total-points-score-model/data/model-predictions/linear_model_preds.csv\")"
   ]
  }
 ],
 "metadata": {
  "kernelspec": {
   "display_name": "afl-total-model-env",
   "language": "python",
   "name": "python3"
  },
  "language_info": {
   "codemirror_mode": {
    "name": "ipython",
    "version": 3
   },
   "file_extension": ".py",
   "mimetype": "text/x-python",
   "name": "python",
   "nbconvert_exporter": "python",
   "pygments_lexer": "ipython3",
   "version": "3.9.16"
  },
  "orig_nbformat": 4,
  "vscode": {
   "interpreter": {
    "hash": "dc578ee0f2f240f88b07d66010ce4f17cba19ae2fcd1972906e53630b629e476"
   }
  }
 },
 "nbformat": 4,
 "nbformat_minor": 2
}
