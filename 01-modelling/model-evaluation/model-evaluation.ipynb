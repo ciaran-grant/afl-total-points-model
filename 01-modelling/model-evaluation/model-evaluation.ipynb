{
 "cells": [
  {
   "cell_type": "code",
   "execution_count": null,
   "metadata": {},
   "outputs": [],
   "source": []
  }
 ],
 "metadata": {
  "kernelspec": {
   "display_name": "first-env",
   "language": "python",
   "name": "python3"
  },
  "language_info": {
   "name": "python",
   "version": "3.9.16"
  },
  "orig_nbformat": 4,
  "vscode": {
   "interpreter": {
    "hash": "04f51eb8650a31b68b2fde7a98fa2c851eb48f36b9ee7e5267a5e5d80899cda8"
   }
  }
 },
 "nbformat": 4,
 "nbformat_minor": 2
}
